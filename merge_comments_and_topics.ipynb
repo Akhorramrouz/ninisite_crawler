{
 "cells": [
  {
   "cell_type": "code",
   "execution_count": 1,
   "id": "525eeee0",
   "metadata": {},
   "outputs": [],
   "source": [
    "import pandas as pd\n",
    "import os"
   ]
  },
  {
   "cell_type": "code",
   "execution_count": 4,
   "id": "81cb794c",
   "metadata": {},
   "outputs": [],
   "source": [
    "folder_path = 'problem_solution_comments_p_3/'\n",
    "total_file_numbers = len(os.listdir(folder_path))"
   ]
  },
  {
   "cell_type": "code",
   "execution_count": 5,
   "id": "69a600be",
   "metadata": {},
   "outputs": [],
   "source": [
    "dfs_comments = []\n",
    "c = 0\n",
    "for f_name in os.listdir(folder_path):\n",
    "    c += 1\n",
    "    if c%1000 == 1:\n",
    "        print(c*100//total_file_numbers, len(dfs_comments))\n",
    "    if f_name.endswith('comments.csv'):\n",
    "        topic_id = f_name.split(\"_\")[0]\n",
    "        df = pd.read_csv(f\"{folder_path}{f_name}\",index_col=0)\n",
    "        df['topic_id'] = topic_id\n",
    "        dfs_comments.append(df)\n",
    "\n",
    "df_comments = pd.concat(dfs_comments,axis=0)\n",
    "\n",
    "print(len(df_comments))\n",
    "\n",
    "df_comments.to_csv(folder_path[:-1]+\".csv\")"
   ]
  },
  {
   "cell_type": "code",
   "execution_count": null,
   "id": "8857f7e2",
   "metadata": {},
   "outputs": [
    {
     "name": "stdout",
     "output_type": "stream",
     "text": [
      "0 0\n",
      "1 501\n",
      "3 1003\n",
      "5 1503\n",
      "7 2004\n",
      "9 2504\n",
      "11 3005\n",
      "13 3505\n",
      "14 4005\n",
      "16 4506\n",
      "18 5007\n",
      "20 5508\n",
      "22 6011\n"
     ]
    }
   ],
   "source": [
    "dfs_main_posts = []\n",
    "c = 0\n",
    "for f_name in os.listdir(folder_path):\n",
    "    c += 1\n",
    "    if c%1000 == 1:\n",
    "        print(c*100//total_file_numbers, len(dfs_main_posts))\n",
    "    if f_name.endswith('_post.csv'):\n",
    "        topic_id = f_name.split(\"_\")[0]\n",
    "        df = pd.read_csv(f\"{folder_path}{f_name}\",index_col=0)\n",
    "        df['topic_id'] = topic_id\n",
    "        dfs_main_posts.append(df)\n",
    "\n",
    "df_main_posts = pd.concat(dfs_main_posts,axis=0)\n",
    "\n",
    "print(len(df_main_posts))\n",
    "\n",
    "folder_path = folder_path.replace('comments','main_posts')\n",
    "df_main_posts.to_csv(folder_path[:-1]+\".csv\")"
   ]
  },
  {
   "cell_type": "code",
   "execution_count": null,
   "id": "e592cf4c",
   "metadata": {},
   "outputs": [],
   "source": []
  }
 ],
 "metadata": {
  "kernelspec": {
   "display_name": "Python 3 (ipykernel)",
   "language": "python",
   "name": "python3"
  },
  "language_info": {
   "codemirror_mode": {
    "name": "ipython",
    "version": 3
   },
   "file_extension": ".py",
   "mimetype": "text/x-python",
   "name": "python",
   "nbconvert_exporter": "python",
   "pygments_lexer": "ipython3",
   "version": "3.10.9"
  }
 },
 "nbformat": 4,
 "nbformat_minor": 5
}

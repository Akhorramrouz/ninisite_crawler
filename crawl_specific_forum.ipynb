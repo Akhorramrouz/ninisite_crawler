{
 "cells": [
  {
   "cell_type": "code",
   "execution_count": 6,
   "id": "1624c839",
   "metadata": {},
   "outputs": [
    {
     "name": "stdout",
     "output_type": "stream",
     "text": [
      "starting problem_solution_forum_pg_5181_5191\n"
     ]
    },
    {
     "name": "stderr",
     "output_type": "stream",
     "text": [
      "100%|████████████████████████████████████████████████████████████████████████████████| 300/300 [01:13<00:00,  4.10it/s]\n"
     ]
    },
    {
     "name": "stdout",
     "output_type": "stream",
     "text": [
      "problem_solution_forum_pg_5181_5191 is done\n",
      "---------------------------------------------------------\n",
      "starting problem_solution_forum_pg_5191_5201\n"
     ]
    },
    {
     "name": "stderr",
     "output_type": "stream",
     "text": [
      "100%|████████████████████████████████████████████████████████████████████████████████| 300/300 [01:13<00:00,  4.10it/s]\n"
     ]
    },
    {
     "name": "stdout",
     "output_type": "stream",
     "text": [
      "problem_solution_forum_pg_5191_5201 is done\n",
      "---------------------------------------------------------\n",
      "starting problem_solution_forum_pg_5201_5211\n"
     ]
    },
    {
     "name": "stderr",
     "output_type": "stream",
     "text": [
      "100%|████████████████████████████████████████████████████████████████████████████████| 300/300 [01:12<00:00,  4.12it/s]\n"
     ]
    },
    {
     "name": "stdout",
     "output_type": "stream",
     "text": [
      "problem_solution_forum_pg_5201_5211 is done\n",
      "---------------------------------------------------------\n",
      "starting problem_solution_forum_pg_5211_5221\n"
     ]
    },
    {
     "name": "stderr",
     "output_type": "stream",
     "text": [
      "100%|████████████████████████████████████████████████████████████████████████████████| 300/300 [01:09<00:00,  4.31it/s]\n"
     ]
    },
    {
     "name": "stdout",
     "output_type": "stream",
     "text": [
      "problem_solution_forum_pg_5211_5221 is done\n",
      "---------------------------------------------------------\n",
      "starting problem_solution_forum_pg_5221_5231\n"
     ]
    },
    {
     "name": "stderr",
     "output_type": "stream",
     "text": [
      "100%|████████████████████████████████████████████████████████████████████████████████| 300/300 [01:11<00:00,  4.21it/s]\n"
     ]
    },
    {
     "name": "stdout",
     "output_type": "stream",
     "text": [
      "problem_solution_forum_pg_5221_5231 is done\n",
      "---------------------------------------------------------\n",
      "starting problem_solution_forum_pg_5231_5241\n"
     ]
    },
    {
     "name": "stderr",
     "output_type": "stream",
     "text": [
      "100%|████████████████████████████████████████████████████████████████████████████████| 300/300 [01:14<00:00,  4.01it/s]\n"
     ]
    },
    {
     "name": "stdout",
     "output_type": "stream",
     "text": [
      "problem_solution_forum_pg_5231_5241 is done\n",
      "---------------------------------------------------------\n",
      "starting problem_solution_forum_pg_5241_5251\n"
     ]
    },
    {
     "name": "stderr",
     "output_type": "stream",
     "text": [
      "100%|████████████████████████████████████████████████████████████████████████████████| 300/300 [01:16<00:00,  3.92it/s]\n"
     ]
    },
    {
     "name": "stdout",
     "output_type": "stream",
     "text": [
      "problem_solution_forum_pg_5241_5251 is done\n",
      "---------------------------------------------------------\n",
      "starting problem_solution_forum_pg_5251_5261\n"
     ]
    },
    {
     "name": "stderr",
     "output_type": "stream",
     "text": [
      "100%|████████████████████████████████████████████████████████████████████████████████| 300/300 [01:14<00:00,  4.03it/s]\n"
     ]
    },
    {
     "name": "stdout",
     "output_type": "stream",
     "text": [
      "problem_solution_forum_pg_5251_5261 is done\n",
      "---------------------------------------------------------\n",
      "starting problem_solution_forum_pg_5261_5271\n"
     ]
    },
    {
     "name": "stderr",
     "output_type": "stream",
     "text": [
      "100%|████████████████████████████████████████████████████████████████████████████████| 300/300 [01:12<00:00,  4.16it/s]\n"
     ]
    },
    {
     "name": "stdout",
     "output_type": "stream",
     "text": [
      "problem_solution_forum_pg_5261_5271 is done\n",
      "---------------------------------------------------------\n",
      "starting problem_solution_forum_pg_5271_5281\n"
     ]
    },
    {
     "name": "stderr",
     "output_type": "stream",
     "text": [
      "100%|████████████████████████████████████████████████████████████████████████████████| 300/300 [01:10<00:00,  4.28it/s]\n"
     ]
    },
    {
     "name": "stdout",
     "output_type": "stream",
     "text": [
      "problem_solution_forum_pg_5271_5281 is done\n",
      "---------------------------------------------------------\n",
      "starting problem_solution_forum_pg_5281_5291\n"
     ]
    },
    {
     "name": "stderr",
     "output_type": "stream",
     "text": [
      "100%|████████████████████████████████████████████████████████████████████████████████| 300/300 [01:12<00:00,  4.13it/s]\n"
     ]
    },
    {
     "name": "stdout",
     "output_type": "stream",
     "text": [
      "problem_solution_forum_pg_5281_5291 is done\n",
      "---------------------------------------------------------\n",
      "starting problem_solution_forum_pg_5291_5301\n"
     ]
    },
    {
     "name": "stderr",
     "output_type": "stream",
     "text": [
      "100%|████████████████████████████████████████████████████████████████████████████████| 300/300 [01:15<00:00,  3.99it/s]\n"
     ]
    },
    {
     "name": "stdout",
     "output_type": "stream",
     "text": [
      "problem_solution_forum_pg_5291_5301 is done\n",
      "---------------------------------------------------------\n",
      "starting problem_solution_forum_pg_5301_5311\n"
     ]
    },
    {
     "name": "stderr",
     "output_type": "stream",
     "text": [
      "100%|████████████████████████████████████████████████████████████████████████████████| 300/300 [01:18<00:00,  3.81it/s]\n"
     ]
    },
    {
     "name": "stdout",
     "output_type": "stream",
     "text": [
      "problem_solution_forum_pg_5301_5311 is done\n",
      "---------------------------------------------------------\n",
      "starting problem_solution_forum_pg_5311_5321\n"
     ]
    },
    {
     "name": "stderr",
     "output_type": "stream",
     "text": [
      "100%|████████████████████████████████████████████████████████████████████████████████| 300/300 [01:12<00:00,  4.13it/s]\n"
     ]
    },
    {
     "name": "stdout",
     "output_type": "stream",
     "text": [
      "problem_solution_forum_pg_5311_5321 is done\n",
      "---------------------------------------------------------\n",
      "starting problem_solution_forum_pg_5321_5331\n"
     ]
    },
    {
     "name": "stderr",
     "output_type": "stream",
     "text": [
      "100%|████████████████████████████████████████████████████████████████████████████████| 300/300 [01:12<00:00,  4.14it/s]\n"
     ]
    },
    {
     "name": "stdout",
     "output_type": "stream",
     "text": [
      "problem_solution_forum_pg_5321_5331 is done\n",
      "---------------------------------------------------------\n",
      "starting problem_solution_forum_pg_5331_5341\n"
     ]
    },
    {
     "name": "stderr",
     "output_type": "stream",
     "text": [
      "100%|████████████████████████████████████████████████████████████████████████████████| 300/300 [01:15<00:00,  3.97it/s]\n"
     ]
    },
    {
     "name": "stdout",
     "output_type": "stream",
     "text": [
      "problem_solution_forum_pg_5331_5341 is done\n",
      "---------------------------------------------------------\n",
      "starting problem_solution_forum_pg_5341_5351\n"
     ]
    },
    {
     "name": "stderr",
     "output_type": "stream",
     "text": [
      "100%|████████████████████████████████████████████████████████████████████████████████| 300/300 [01:13<00:00,  4.11it/s]\n"
     ]
    },
    {
     "name": "stdout",
     "output_type": "stream",
     "text": [
      "problem_solution_forum_pg_5341_5351 is done\n",
      "---------------------------------------------------------\n",
      "starting problem_solution_forum_pg_5351_5361\n"
     ]
    },
    {
     "name": "stderr",
     "output_type": "stream",
     "text": [
      "100%|████████████████████████████████████████████████████████████████████████████████| 300/300 [01:22<00:00,  3.65it/s]\n"
     ]
    },
    {
     "name": "stdout",
     "output_type": "stream",
     "text": [
      "problem_solution_forum_pg_5351_5361 is done\n",
      "---------------------------------------------------------\n",
      "starting problem_solution_forum_pg_5361_5371\n"
     ]
    },
    {
     "name": "stderr",
     "output_type": "stream",
     "text": [
      "100%|████████████████████████████████████████████████████████████████████████████████| 300/300 [01:14<00:00,  4.02it/s]\n"
     ]
    },
    {
     "name": "stdout",
     "output_type": "stream",
     "text": [
      "problem_solution_forum_pg_5361_5371 is done\n",
      "---------------------------------------------------------\n",
      "starting problem_solution_forum_pg_5371_5381\n"
     ]
    },
    {
     "name": "stderr",
     "output_type": "stream",
     "text": [
      "100%|████████████████████████████████████████████████████████████████████████████████| 300/300 [01:14<00:00,  4.02it/s]\n"
     ]
    },
    {
     "name": "stdout",
     "output_type": "stream",
     "text": [
      "problem_solution_forum_pg_5371_5381 is done\n",
      "---------------------------------------------------------\n",
      "starting problem_solution_forum_pg_5381_5391\n"
     ]
    },
    {
     "name": "stderr",
     "output_type": "stream",
     "text": [
      "100%|████████████████████████████████████████████████████████████████████████████████| 300/300 [01:13<00:00,  4.09it/s]\n"
     ]
    },
    {
     "name": "stdout",
     "output_type": "stream",
     "text": [
      "problem_solution_forum_pg_5381_5391 is done\n",
      "---------------------------------------------------------\n",
      "starting problem_solution_forum_pg_5391_5401\n"
     ]
    },
    {
     "name": "stderr",
     "output_type": "stream",
     "text": [
      "100%|████████████████████████████████████████████████████████████████████████████████| 300/300 [01:18<00:00,  3.81it/s]\n"
     ]
    },
    {
     "name": "stdout",
     "output_type": "stream",
     "text": [
      "problem_solution_forum_pg_5391_5401 is done\n",
      "---------------------------------------------------------\n",
      "starting problem_solution_forum_pg_5401_5411\n"
     ]
    },
    {
     "name": "stderr",
     "output_type": "stream",
     "text": [
      "100%|████████████████████████████████████████████████████████████████████████████████| 300/300 [01:15<00:00,  3.99it/s]\n"
     ]
    },
    {
     "name": "stdout",
     "output_type": "stream",
     "text": [
      "problem_solution_forum_pg_5401_5411 is done\n",
      "---------------------------------------------------------\n",
      "starting problem_solution_forum_pg_5411_5421\n"
     ]
    },
    {
     "name": "stderr",
     "output_type": "stream",
     "text": [
      "100%|████████████████████████████████████████████████████████████████████████████████| 300/300 [01:17<00:00,  3.87it/s]\n"
     ]
    },
    {
     "name": "stdout",
     "output_type": "stream",
     "text": [
      "problem_solution_forum_pg_5411_5421 is done\n",
      "---------------------------------------------------------\n",
      "starting problem_solution_forum_pg_5421_5431\n"
     ]
    },
    {
     "name": "stderr",
     "output_type": "stream",
     "text": [
      "100%|████████████████████████████████████████████████████████████████████████████████| 300/300 [01:13<00:00,  4.07it/s]\n"
     ]
    },
    {
     "name": "stdout",
     "output_type": "stream",
     "text": [
      "problem_solution_forum_pg_5421_5431 is done\n",
      "---------------------------------------------------------\n",
      "starting problem_solution_forum_pg_5431_5441\n"
     ]
    },
    {
     "name": "stderr",
     "output_type": "stream",
     "text": [
      "100%|████████████████████████████████████████████████████████████████████████████████| 300/300 [01:13<00:00,  4.11it/s]\n"
     ]
    },
    {
     "name": "stdout",
     "output_type": "stream",
     "text": [
      "problem_solution_forum_pg_5431_5441 is done\n",
      "---------------------------------------------------------\n",
      "starting problem_solution_forum_pg_5441_5451\n"
     ]
    },
    {
     "name": "stderr",
     "output_type": "stream",
     "text": [
      "100%|████████████████████████████████████████████████████████████████████████████████| 300/300 [01:15<00:00,  3.98it/s]\n"
     ]
    },
    {
     "name": "stdout",
     "output_type": "stream",
     "text": [
      "problem_solution_forum_pg_5441_5451 is done\n",
      "---------------------------------------------------------\n",
      "starting problem_solution_forum_pg_5451_5461\n"
     ]
    },
    {
     "name": "stderr",
     "output_type": "stream",
     "text": [
      "100%|████████████████████████████████████████████████████████████████████████████████| 300/300 [01:16<00:00,  3.94it/s]\n"
     ]
    },
    {
     "name": "stdout",
     "output_type": "stream",
     "text": [
      "problem_solution_forum_pg_5451_5461 is done\n",
      "---------------------------------------------------------\n",
      "starting problem_solution_forum_pg_5461_5471\n"
     ]
    },
    {
     "name": "stderr",
     "output_type": "stream",
     "text": [
      "100%|████████████████████████████████████████████████████████████████████████████████| 300/300 [01:17<00:00,  3.87it/s]\n"
     ]
    },
    {
     "name": "stdout",
     "output_type": "stream",
     "text": [
      "problem_solution_forum_pg_5461_5471 is done\n",
      "---------------------------------------------------------\n",
      "starting problem_solution_forum_pg_5471_5481\n"
     ]
    },
    {
     "name": "stderr",
     "output_type": "stream",
     "text": [
      "100%|████████████████████████████████████████████████████████████████████████████████| 300/300 [01:15<00:00,  3.97it/s]\n"
     ]
    },
    {
     "name": "stdout",
     "output_type": "stream",
     "text": [
      "problem_solution_forum_pg_5471_5481 is done\n",
      "---------------------------------------------------------\n",
      "starting problem_solution_forum_pg_5481_5491\n"
     ]
    },
    {
     "name": "stderr",
     "output_type": "stream",
     "text": [
      "100%|████████████████████████████████████████████████████████████████████████████████| 300/300 [01:15<00:00,  3.97it/s]\n"
     ]
    },
    {
     "name": "stdout",
     "output_type": "stream",
     "text": [
      "problem_solution_forum_pg_5481_5491 is done\n",
      "---------------------------------------------------------\n",
      "starting problem_solution_forum_pg_5491_5501\n"
     ]
    },
    {
     "name": "stderr",
     "output_type": "stream",
     "text": [
      " 80%|████████████████████████████████████████████████████████████████                | 240/300 [01:29<00:22,  2.68it/s]\n"
     ]
    },
    {
     "name": "stdout",
     "output_type": "stream",
     "text": [
      "problem_solution_forum_pg_5491_5501 is done\n",
      "---------------------------------------------------------\n",
      "starting problem_solution_forum_pg_5501_5511\n"
     ]
    },
    {
     "name": "stderr",
     "output_type": "stream",
     "text": [
      "100%|████████████████████████████████████████████████████████████████████████████████| 300/300 [01:09<00:00,  4.35it/s]\n"
     ]
    },
    {
     "name": "stdout",
     "output_type": "stream",
     "text": [
      "problem_solution_forum_pg_5501_5511 is done\n",
      "---------------------------------------------------------\n",
      "starting problem_solution_forum_pg_5511_5521\n"
     ]
    },
    {
     "name": "stderr",
     "output_type": "stream",
     "text": [
      "100%|████████████████████████████████████████████████████████████████████████████████| 300/300 [01:17<00:00,  3.88it/s]\n"
     ]
    },
    {
     "name": "stdout",
     "output_type": "stream",
     "text": [
      "problem_solution_forum_pg_5511_5521 is done\n",
      "---------------------------------------------------------\n",
      "starting problem_solution_forum_pg_5521_5531\n"
     ]
    },
    {
     "name": "stderr",
     "output_type": "stream",
     "text": [
      "100%|████████████████████████████████████████████████████████████████████████████████| 300/300 [01:17<00:00,  3.87it/s]\n"
     ]
    },
    {
     "name": "stdout",
     "output_type": "stream",
     "text": [
      "problem_solution_forum_pg_5521_5531 is done\n",
      "---------------------------------------------------------\n",
      "starting problem_solution_forum_pg_5531_5541\n"
     ]
    },
    {
     "name": "stderr",
     "output_type": "stream",
     "text": [
      "100%|████████████████████████████████████████████████████████████████████████████████| 300/300 [01:14<00:00,  4.03it/s]\n"
     ]
    },
    {
     "name": "stdout",
     "output_type": "stream",
     "text": [
      "problem_solution_forum_pg_5531_5541 is done\n",
      "---------------------------------------------------------\n",
      "starting problem_solution_forum_pg_5541_5551\n"
     ]
    },
    {
     "name": "stderr",
     "output_type": "stream",
     "text": [
      "100%|████████████████████████████████████████████████████████████████████████████████| 300/300 [01:11<00:00,  4.19it/s]\n"
     ]
    },
    {
     "name": "stdout",
     "output_type": "stream",
     "text": [
      "problem_solution_forum_pg_5541_5551 is done\n",
      "---------------------------------------------------------\n",
      "starting problem_solution_forum_pg_5551_5561\n"
     ]
    },
    {
     "name": "stderr",
     "output_type": "stream",
     "text": [
      "100%|████████████████████████████████████████████████████████████████████████████████| 300/300 [01:12<00:00,  4.15it/s]\n"
     ]
    },
    {
     "name": "stdout",
     "output_type": "stream",
     "text": [
      "problem_solution_forum_pg_5551_5561 is done\n",
      "---------------------------------------------------------\n",
      "starting problem_solution_forum_pg_5561_5571\n"
     ]
    },
    {
     "name": "stderr",
     "output_type": "stream",
     "text": [
      "100%|████████████████████████████████████████████████████████████████████████████████| 300/300 [01:13<00:00,  4.08it/s]\n"
     ]
    },
    {
     "name": "stdout",
     "output_type": "stream",
     "text": [
      "problem_solution_forum_pg_5561_5571 is done\n",
      "---------------------------------------------------------\n",
      "starting problem_solution_forum_pg_5571_5581\n"
     ]
    },
    {
     "name": "stderr",
     "output_type": "stream",
     "text": [
      "100%|████████████████████████████████████████████████████████████████████████████████| 300/300 [01:15<00:00,  4.00it/s]\n"
     ]
    },
    {
     "name": "stdout",
     "output_type": "stream",
     "text": [
      "problem_solution_forum_pg_5571_5581 is done\n",
      "---------------------------------------------------------\n",
      "starting problem_solution_forum_pg_5581_5591\n"
     ]
    },
    {
     "name": "stderr",
     "output_type": "stream",
     "text": [
      "100%|████████████████████████████████████████████████████████████████████████████████| 300/300 [01:12<00:00,  4.14it/s]\n"
     ]
    },
    {
     "name": "stdout",
     "output_type": "stream",
     "text": [
      "problem_solution_forum_pg_5581_5591 is done\n",
      "---------------------------------------------------------\n",
      "starting problem_solution_forum_pg_5591_5601\n"
     ]
    },
    {
     "name": "stderr",
     "output_type": "stream",
     "text": [
      "100%|████████████████████████████████████████████████████████████████████████████████| 300/300 [01:13<00:00,  4.08it/s]\n"
     ]
    },
    {
     "name": "stdout",
     "output_type": "stream",
     "text": [
      "problem_solution_forum_pg_5591_5601 is done\n",
      "---------------------------------------------------------\n",
      "starting problem_solution_forum_pg_5601_5611\n"
     ]
    },
    {
     "name": "stderr",
     "output_type": "stream",
     "text": [
      "100%|████████████████████████████████████████████████████████████████████████████████| 300/300 [01:15<00:00,  3.99it/s]\n"
     ]
    },
    {
     "name": "stdout",
     "output_type": "stream",
     "text": [
      "problem_solution_forum_pg_5601_5611 is done\n",
      "---------------------------------------------------------\n",
      "starting problem_solution_forum_pg_5611_5621\n"
     ]
    },
    {
     "name": "stderr",
     "output_type": "stream",
     "text": [
      "100%|████████████████████████████████████████████████████████████████████████████████| 300/300 [01:10<00:00,  4.28it/s]\n"
     ]
    },
    {
     "name": "stdout",
     "output_type": "stream",
     "text": [
      "problem_solution_forum_pg_5611_5621 is done\n",
      "---------------------------------------------------------\n",
      "starting problem_solution_forum_pg_5621_5631\n"
     ]
    },
    {
     "name": "stderr",
     "output_type": "stream",
     "text": [
      "100%|████████████████████████████████████████████████████████████████████████████████| 300/300 [01:15<00:00,  3.96it/s]\n"
     ]
    },
    {
     "name": "stdout",
     "output_type": "stream",
     "text": [
      "problem_solution_forum_pg_5621_5631 is done\n",
      "---------------------------------------------------------\n",
      "starting problem_solution_forum_pg_5631_5641\n"
     ]
    },
    {
     "name": "stderr",
     "output_type": "stream",
     "text": [
      "100%|████████████████████████████████████████████████████████████████████████████████| 300/300 [01:16<00:00,  3.93it/s]\n"
     ]
    },
    {
     "name": "stdout",
     "output_type": "stream",
     "text": [
      "problem_solution_forum_pg_5631_5641 is done\n",
      "---------------------------------------------------------\n",
      "starting problem_solution_forum_pg_5641_5651\n"
     ]
    },
    {
     "name": "stderr",
     "output_type": "stream",
     "text": [
      "100%|████████████████████████████████████████████████████████████████████████████████| 300/300 [01:13<00:00,  4.07it/s]\n"
     ]
    },
    {
     "name": "stdout",
     "output_type": "stream",
     "text": [
      "problem_solution_forum_pg_5641_5651 is done\n",
      "---------------------------------------------------------\n",
      "starting problem_solution_forum_pg_5651_5661\n"
     ]
    },
    {
     "name": "stderr",
     "output_type": "stream",
     "text": [
      "100%|████████████████████████████████████████████████████████████████████████████████| 300/300 [01:11<00:00,  4.21it/s]\n"
     ]
    },
    {
     "name": "stdout",
     "output_type": "stream",
     "text": [
      "problem_solution_forum_pg_5651_5661 is done\n",
      "---------------------------------------------------------\n",
      "starting problem_solution_forum_pg_5661_5671\n"
     ]
    },
    {
     "name": "stderr",
     "output_type": "stream",
     "text": [
      "100%|████████████████████████████████████████████████████████████████████████████████| 300/300 [01:10<00:00,  4.24it/s]\n"
     ]
    },
    {
     "name": "stdout",
     "output_type": "stream",
     "text": [
      "problem_solution_forum_pg_5661_5671 is done\n",
      "---------------------------------------------------------\n",
      "starting problem_solution_forum_pg_5671_5681\n"
     ]
    },
    {
     "name": "stderr",
     "output_type": "stream",
     "text": [
      "100%|████████████████████████████████████████████████████████████████████████████████| 300/300 [01:09<00:00,  4.31it/s]\n"
     ]
    },
    {
     "name": "stdout",
     "output_type": "stream",
     "text": [
      "problem_solution_forum_pg_5671_5681 is done\n",
      "---------------------------------------------------------\n",
      "starting problem_solution_forum_pg_5681_5691\n"
     ]
    },
    {
     "name": "stderr",
     "output_type": "stream",
     "text": [
      "100%|████████████████████████████████████████████████████████████████████████████████| 300/300 [01:17<00:00,  3.86it/s]\n"
     ]
    },
    {
     "name": "stdout",
     "output_type": "stream",
     "text": [
      "problem_solution_forum_pg_5681_5691 is done\n",
      "---------------------------------------------------------\n",
      "starting problem_solution_forum_pg_5691_5701\n"
     ]
    },
    {
     "name": "stderr",
     "output_type": "stream",
     "text": [
      "100%|████████████████████████████████████████████████████████████████████████████████| 300/300 [01:13<00:00,  4.07it/s]\n"
     ]
    },
    {
     "name": "stdout",
     "output_type": "stream",
     "text": [
      "problem_solution_forum_pg_5691_5701 is done\n",
      "---------------------------------------------------------\n",
      "starting problem_solution_forum_pg_5701_5711\n"
     ]
    },
    {
     "name": "stderr",
     "output_type": "stream",
     "text": [
      "100%|████████████████████████████████████████████████████████████████████████████████| 300/300 [01:15<00:00,  3.95it/s]\n"
     ]
    },
    {
     "name": "stdout",
     "output_type": "stream",
     "text": [
      "problem_solution_forum_pg_5701_5711 is done\n",
      "---------------------------------------------------------\n",
      "starting problem_solution_forum_pg_5711_5721\n"
     ]
    },
    {
     "name": "stderr",
     "output_type": "stream",
     "text": [
      "100%|████████████████████████████████████████████████████████████████████████████████| 300/300 [01:18<00:00,  3.84it/s]\n"
     ]
    },
    {
     "name": "stdout",
     "output_type": "stream",
     "text": [
      "problem_solution_forum_pg_5711_5721 is done\n",
      "---------------------------------------------------------\n",
      "starting problem_solution_forum_pg_5721_5731\n"
     ]
    },
    {
     "name": "stderr",
     "output_type": "stream",
     "text": [
      "100%|████████████████████████████████████████████████████████████████████████████████| 300/300 [01:16<00:00,  3.91it/s]\n"
     ]
    },
    {
     "name": "stdout",
     "output_type": "stream",
     "text": [
      "problem_solution_forum_pg_5721_5731 is done\n",
      "---------------------------------------------------------\n",
      "starting problem_solution_forum_pg_5731_5741\n"
     ]
    },
    {
     "name": "stderr",
     "output_type": "stream",
     "text": [
      "100%|████████████████████████████████████████████████████████████████████████████████| 300/300 [01:19<00:00,  3.79it/s]\n"
     ]
    },
    {
     "name": "stdout",
     "output_type": "stream",
     "text": [
      "problem_solution_forum_pg_5731_5741 is done\n",
      "---------------------------------------------------------\n",
      "starting problem_solution_forum_pg_5741_5751\n"
     ]
    },
    {
     "name": "stderr",
     "output_type": "stream",
     "text": [
      "100%|████████████████████████████████████████████████████████████████████████████████| 300/300 [01:16<00:00,  3.92it/s]\n"
     ]
    },
    {
     "name": "stdout",
     "output_type": "stream",
     "text": [
      "problem_solution_forum_pg_5741_5751 is done\n",
      "---------------------------------------------------------\n",
      "starting problem_solution_forum_pg_5751_5761\n"
     ]
    },
    {
     "name": "stderr",
     "output_type": "stream",
     "text": [
      "100%|████████████████████████████████████████████████████████████████████████████████| 300/300 [01:10<00:00,  4.23it/s]\n"
     ]
    },
    {
     "name": "stdout",
     "output_type": "stream",
     "text": [
      "problem_solution_forum_pg_5751_5761 is done\n",
      "---------------------------------------------------------\n",
      "starting problem_solution_forum_pg_5761_5771\n"
     ]
    },
    {
     "name": "stderr",
     "output_type": "stream",
     "text": [
      "100%|████████████████████████████████████████████████████████████████████████████████| 300/300 [01:13<00:00,  4.10it/s]\n"
     ]
    },
    {
     "name": "stdout",
     "output_type": "stream",
     "text": [
      "problem_solution_forum_pg_5761_5771 is done\n",
      "---------------------------------------------------------\n",
      "starting problem_solution_forum_pg_5771_5781\n"
     ]
    },
    {
     "name": "stderr",
     "output_type": "stream",
     "text": [
      "100%|████████████████████████████████████████████████████████████████████████████████| 300/300 [01:15<00:00,  3.95it/s]\n"
     ]
    },
    {
     "name": "stdout",
     "output_type": "stream",
     "text": [
      "problem_solution_forum_pg_5771_5781 is done\n",
      "---------------------------------------------------------\n",
      "starting problem_solution_forum_pg_5781_5791\n"
     ]
    },
    {
     "name": "stderr",
     "output_type": "stream",
     "text": [
      "100%|████████████████████████████████████████████████████████████████████████████████| 300/300 [01:11<00:00,  4.21it/s]\n"
     ]
    },
    {
     "name": "stdout",
     "output_type": "stream",
     "text": [
      "problem_solution_forum_pg_5781_5791 is done\n",
      "---------------------------------------------------------\n",
      "starting problem_solution_forum_pg_5791_5801\n"
     ]
    },
    {
     "name": "stderr",
     "output_type": "stream",
     "text": [
      "100%|████████████████████████████████████████████████████████████████████████████████| 300/300 [01:13<00:00,  4.09it/s]\n"
     ]
    },
    {
     "name": "stdout",
     "output_type": "stream",
     "text": [
      "problem_solution_forum_pg_5791_5801 is done\n",
      "---------------------------------------------------------\n",
      "starting problem_solution_forum_pg_5801_5811\n"
     ]
    },
    {
     "name": "stderr",
     "output_type": "stream",
     "text": [
      "100%|████████████████████████████████████████████████████████████████████████████████| 300/300 [01:15<00:00,  3.95it/s]\n"
     ]
    },
    {
     "name": "stdout",
     "output_type": "stream",
     "text": [
      "problem_solution_forum_pg_5801_5811 is done\n",
      "---------------------------------------------------------\n",
      "starting problem_solution_forum_pg_5811_5821\n"
     ]
    },
    {
     "name": "stderr",
     "output_type": "stream",
     "text": [
      "100%|████████████████████████████████████████████████████████████████████████████████| 300/300 [01:15<00:00,  3.96it/s]\n"
     ]
    },
    {
     "name": "stdout",
     "output_type": "stream",
     "text": [
      "problem_solution_forum_pg_5811_5821 is done\n",
      "---------------------------------------------------------\n",
      "starting problem_solution_forum_pg_5821_5831\n"
     ]
    },
    {
     "name": "stderr",
     "output_type": "stream",
     "text": [
      "100%|████████████████████████████████████████████████████████████████████████████████| 300/300 [01:13<00:00,  4.10it/s]\n"
     ]
    },
    {
     "name": "stdout",
     "output_type": "stream",
     "text": [
      "problem_solution_forum_pg_5821_5831 is done\n",
      "---------------------------------------------------------\n",
      "starting problem_solution_forum_pg_5831_5841\n"
     ]
    },
    {
     "name": "stderr",
     "output_type": "stream",
     "text": [
      "100%|████████████████████████████████████████████████████████████████████████████████| 300/300 [01:14<00:00,  4.01it/s]\n"
     ]
    },
    {
     "name": "stdout",
     "output_type": "stream",
     "text": [
      "problem_solution_forum_pg_5831_5841 is done\n",
      "---------------------------------------------------------\n",
      "starting problem_solution_forum_pg_5841_5851\n"
     ]
    },
    {
     "name": "stderr",
     "output_type": "stream",
     "text": [
      "100%|████████████████████████████████████████████████████████████████████████████████| 300/300 [01:22<00:00,  3.65it/s]\n"
     ]
    },
    {
     "name": "stdout",
     "output_type": "stream",
     "text": [
      "problem_solution_forum_pg_5841_5851 is done\n",
      "---------------------------------------------------------\n",
      "starting problem_solution_forum_pg_5851_5861\n"
     ]
    },
    {
     "name": "stderr",
     "output_type": "stream",
     "text": [
      "100%|████████████████████████████████████████████████████████████████████████████████| 300/300 [01:16<00:00,  3.94it/s]\n"
     ]
    },
    {
     "name": "stdout",
     "output_type": "stream",
     "text": [
      "problem_solution_forum_pg_5851_5861 is done\n",
      "---------------------------------------------------------\n",
      "starting problem_solution_forum_pg_5861_5871\n"
     ]
    },
    {
     "name": "stderr",
     "output_type": "stream",
     "text": [
      "100%|████████████████████████████████████████████████████████████████████████████████| 300/300 [01:15<00:00,  3.96it/s]\n"
     ]
    },
    {
     "name": "stdout",
     "output_type": "stream",
     "text": [
      "problem_solution_forum_pg_5861_5871 is done\n",
      "---------------------------------------------------------\n",
      "starting problem_solution_forum_pg_5871_5881\n"
     ]
    },
    {
     "name": "stderr",
     "output_type": "stream",
     "text": [
      "100%|████████████████████████████████████████████████████████████████████████████████| 300/300 [01:12<00:00,  4.11it/s]\n"
     ]
    },
    {
     "name": "stdout",
     "output_type": "stream",
     "text": [
      "problem_solution_forum_pg_5871_5881 is done\n",
      "---------------------------------------------------------\n",
      "starting problem_solution_forum_pg_5881_5891\n"
     ]
    },
    {
     "name": "stderr",
     "output_type": "stream",
     "text": [
      "100%|████████████████████████████████████████████████████████████████████████████████| 300/300 [01:13<00:00,  4.06it/s]\n"
     ]
    },
    {
     "name": "stdout",
     "output_type": "stream",
     "text": [
      "problem_solution_forum_pg_5881_5891 is done\n",
      "---------------------------------------------------------\n",
      "starting problem_solution_forum_pg_5891_5901\n"
     ]
    },
    {
     "name": "stderr",
     "output_type": "stream",
     "text": [
      "100%|████████████████████████████████████████████████████████████████████████████████| 300/300 [01:18<00:00,  3.80it/s]\n"
     ]
    },
    {
     "name": "stdout",
     "output_type": "stream",
     "text": [
      "problem_solution_forum_pg_5891_5901 is done\n",
      "---------------------------------------------------------\n",
      "starting problem_solution_forum_pg_5901_5911\n"
     ]
    },
    {
     "name": "stderr",
     "output_type": "stream",
     "text": [
      "100%|████████████████████████████████████████████████████████████████████████████████| 300/300 [01:11<00:00,  4.17it/s]\n"
     ]
    },
    {
     "name": "stdout",
     "output_type": "stream",
     "text": [
      "problem_solution_forum_pg_5901_5911 is done\n",
      "---------------------------------------------------------\n",
      "starting problem_solution_forum_pg_5911_5921\n"
     ]
    },
    {
     "name": "stderr",
     "output_type": "stream",
     "text": [
      "100%|████████████████████████████████████████████████████████████████████████████████| 300/300 [01:14<00:00,  4.03it/s]\n"
     ]
    },
    {
     "name": "stdout",
     "output_type": "stream",
     "text": [
      "problem_solution_forum_pg_5911_5921 is done\n",
      "---------------------------------------------------------\n",
      "starting problem_solution_forum_pg_5921_5931\n"
     ]
    },
    {
     "name": "stderr",
     "output_type": "stream",
     "text": [
      "100%|████████████████████████████████████████████████████████████████████████████████| 300/300 [01:15<00:00,  3.99it/s]\n"
     ]
    },
    {
     "name": "stdout",
     "output_type": "stream",
     "text": [
      "problem_solution_forum_pg_5921_5931 is done\n",
      "---------------------------------------------------------\n",
      "starting problem_solution_forum_pg_5931_5941\n"
     ]
    },
    {
     "name": "stderr",
     "output_type": "stream",
     "text": [
      "100%|████████████████████████████████████████████████████████████████████████████████| 300/300 [01:19<00:00,  3.80it/s]\n"
     ]
    },
    {
     "name": "stdout",
     "output_type": "stream",
     "text": [
      "problem_solution_forum_pg_5931_5941 is done\n",
      "---------------------------------------------------------\n",
      "starting problem_solution_forum_pg_5941_5951\n"
     ]
    },
    {
     "name": "stderr",
     "output_type": "stream",
     "text": [
      "100%|████████████████████████████████████████████████████████████████████████████████| 300/300 [01:16<00:00,  3.91it/s]\n"
     ]
    },
    {
     "name": "stdout",
     "output_type": "stream",
     "text": [
      "problem_solution_forum_pg_5941_5951 is done\n",
      "---------------------------------------------------------\n",
      "starting problem_solution_forum_pg_5951_5961\n"
     ]
    },
    {
     "name": "stderr",
     "output_type": "stream",
     "text": [
      "100%|████████████████████████████████████████████████████████████████████████████████| 300/300 [01:16<00:00,  3.90it/s]\n"
     ]
    },
    {
     "name": "stdout",
     "output_type": "stream",
     "text": [
      "problem_solution_forum_pg_5951_5961 is done\n",
      "---------------------------------------------------------\n",
      "starting problem_solution_forum_pg_5961_5971\n"
     ]
    },
    {
     "name": "stderr",
     "output_type": "stream",
     "text": [
      "100%|████████████████████████████████████████████████████████████████████████████████| 300/300 [01:14<00:00,  4.02it/s]\n"
     ]
    },
    {
     "name": "stdout",
     "output_type": "stream",
     "text": [
      "problem_solution_forum_pg_5961_5971 is done\n",
      "---------------------------------------------------------\n",
      "starting problem_solution_forum_pg_5971_5981\n"
     ]
    },
    {
     "name": "stderr",
     "output_type": "stream",
     "text": [
      "100%|████████████████████████████████████████████████████████████████████████████████| 300/300 [01:13<00:00,  4.08it/s]\n"
     ]
    },
    {
     "name": "stdout",
     "output_type": "stream",
     "text": [
      "problem_solution_forum_pg_5971_5981 is done\n",
      "---------------------------------------------------------\n",
      "starting problem_solution_forum_pg_5981_5991\n"
     ]
    },
    {
     "name": "stderr",
     "output_type": "stream",
     "text": [
      "100%|████████████████████████████████████████████████████████████████████████████████| 300/300 [01:14<00:00,  4.04it/s]\n"
     ]
    },
    {
     "name": "stdout",
     "output_type": "stream",
     "text": [
      "problem_solution_forum_pg_5981_5991 is done\n",
      "---------------------------------------------------------\n",
      "starting problem_solution_forum_pg_5991_6001\n"
     ]
    },
    {
     "name": "stderr",
     "output_type": "stream",
     "text": [
      "100%|████████████████████████████████████████████████████████████████████████████████| 300/300 [01:18<00:00,  3.80it/s]\n"
     ]
    },
    {
     "name": "stdout",
     "output_type": "stream",
     "text": [
      "problem_solution_forum_pg_5991_6001 is done\n",
      "---------------------------------------------------------\n",
      "starting problem_solution_forum_pg_6001_6011\n"
     ]
    },
    {
     "name": "stderr",
     "output_type": "stream",
     "text": [
      "100%|████████████████████████████████████████████████████████████████████████████████| 300/300 [01:21<00:00,  3.70it/s]\n"
     ]
    },
    {
     "name": "stdout",
     "output_type": "stream",
     "text": [
      "problem_solution_forum_pg_6001_6011 is done\n",
      "---------------------------------------------------------\n",
      "starting problem_solution_forum_pg_6011_6021\n"
     ]
    },
    {
     "name": "stderr",
     "output_type": "stream",
     "text": [
      "100%|████████████████████████████████████████████████████████████████████████████████| 300/300 [01:15<00:00,  3.96it/s]\n"
     ]
    },
    {
     "name": "stdout",
     "output_type": "stream",
     "text": [
      "problem_solution_forum_pg_6011_6021 is done\n",
      "---------------------------------------------------------\n",
      "starting problem_solution_forum_pg_6021_6031\n"
     ]
    },
    {
     "name": "stderr",
     "output_type": "stream",
     "text": [
      "100%|████████████████████████████████████████████████████████████████████████████████| 300/300 [01:11<00:00,  4.17it/s]\n"
     ]
    },
    {
     "name": "stdout",
     "output_type": "stream",
     "text": [
      "problem_solution_forum_pg_6021_6031 is done\n",
      "---------------------------------------------------------\n",
      "starting problem_solution_forum_pg_6031_6041\n"
     ]
    },
    {
     "name": "stderr",
     "output_type": "stream",
     "text": [
      "100%|████████████████████████████████████████████████████████████████████████████████| 300/300 [01:15<00:00,  3.96it/s]\n"
     ]
    },
    {
     "name": "stdout",
     "output_type": "stream",
     "text": [
      "problem_solution_forum_pg_6031_6041 is done\n",
      "---------------------------------------------------------\n",
      "starting problem_solution_forum_pg_6041_6051\n"
     ]
    },
    {
     "name": "stderr",
     "output_type": "stream",
     "text": [
      "100%|████████████████████████████████████████████████████████████████████████████████| 300/300 [01:14<00:00,  4.05it/s]\n"
     ]
    },
    {
     "name": "stdout",
     "output_type": "stream",
     "text": [
      "problem_solution_forum_pg_6041_6051 is done\n",
      "---------------------------------------------------------\n",
      "starting problem_solution_forum_pg_6051_6061\n"
     ]
    },
    {
     "name": "stderr",
     "output_type": "stream",
     "text": [
      "100%|████████████████████████████████████████████████████████████████████████████████| 300/300 [01:21<00:00,  3.67it/s]\n"
     ]
    },
    {
     "name": "stdout",
     "output_type": "stream",
     "text": [
      "problem_solution_forum_pg_6051_6061 is done\n",
      "---------------------------------------------------------\n",
      "starting problem_solution_forum_pg_6061_6071\n"
     ]
    },
    {
     "name": "stderr",
     "output_type": "stream",
     "text": [
      "100%|████████████████████████████████████████████████████████████████████████████████| 300/300 [01:17<00:00,  3.89it/s]\n"
     ]
    },
    {
     "name": "stdout",
     "output_type": "stream",
     "text": [
      "problem_solution_forum_pg_6061_6071 is done\n",
      "---------------------------------------------------------\n",
      "starting problem_solution_forum_pg_6071_6081\n"
     ]
    },
    {
     "name": "stderr",
     "output_type": "stream",
     "text": [
      "100%|████████████████████████████████████████████████████████████████████████████████| 300/300 [01:14<00:00,  4.03it/s]\n"
     ]
    },
    {
     "name": "stdout",
     "output_type": "stream",
     "text": [
      "problem_solution_forum_pg_6071_6081 is done\n",
      "---------------------------------------------------------\n",
      "starting problem_solution_forum_pg_6081_6091\n"
     ]
    },
    {
     "name": "stderr",
     "output_type": "stream",
     "text": [
      "100%|████████████████████████████████████████████████████████████████████████████████| 300/300 [01:15<00:00,  4.00it/s]\n"
     ]
    },
    {
     "name": "stdout",
     "output_type": "stream",
     "text": [
      "problem_solution_forum_pg_6081_6091 is done\n",
      "---------------------------------------------------------\n",
      "starting problem_solution_forum_pg_6091_6101\n"
     ]
    },
    {
     "name": "stderr",
     "output_type": "stream",
     "text": [
      "100%|████████████████████████████████████████████████████████████████████████████████| 300/300 [01:20<00:00,  3.74it/s]\n"
     ]
    },
    {
     "name": "stdout",
     "output_type": "stream",
     "text": [
      "problem_solution_forum_pg_6091_6101 is done\n",
      "---------------------------------------------------------\n",
      "starting problem_solution_forum_pg_6101_6111\n"
     ]
    },
    {
     "name": "stderr",
     "output_type": "stream",
     "text": [
      "100%|████████████████████████████████████████████████████████████████████████████████| 300/300 [01:18<00:00,  3.82it/s]\n"
     ]
    },
    {
     "name": "stdout",
     "output_type": "stream",
     "text": [
      "problem_solution_forum_pg_6101_6111 is done\n",
      "---------------------------------------------------------\n",
      "starting problem_solution_forum_pg_6111_6121\n"
     ]
    },
    {
     "name": "stderr",
     "output_type": "stream",
     "text": [
      "100%|████████████████████████████████████████████████████████████████████████████████| 300/300 [01:22<00:00,  3.63it/s]\n"
     ]
    },
    {
     "name": "stdout",
     "output_type": "stream",
     "text": [
      "problem_solution_forum_pg_6111_6121 is done\n",
      "---------------------------------------------------------\n",
      "starting problem_solution_forum_pg_6121_6131\n"
     ]
    },
    {
     "name": "stderr",
     "output_type": "stream",
     "text": [
      "100%|████████████████████████████████████████████████████████████████████████████████| 300/300 [01:25<00:00,  3.49it/s]\n"
     ]
    },
    {
     "name": "stdout",
     "output_type": "stream",
     "text": [
      "problem_solution_forum_pg_6121_6131 is done\n",
      "---------------------------------------------------------\n",
      "starting problem_solution_forum_pg_6131_6141\n"
     ]
    },
    {
     "name": "stderr",
     "output_type": "stream",
     "text": [
      "100%|████████████████████████████████████████████████████████████████████████████████| 300/300 [01:21<00:00,  3.68it/s]\n"
     ]
    },
    {
     "name": "stdout",
     "output_type": "stream",
     "text": [
      "problem_solution_forum_pg_6131_6141 is done\n",
      "---------------------------------------------------------\n",
      "starting problem_solution_forum_pg_6141_6151\n"
     ]
    },
    {
     "name": "stderr",
     "output_type": "stream",
     "text": [
      "100%|████████████████████████████████████████████████████████████████████████████████| 300/300 [01:21<00:00,  3.70it/s]\n"
     ]
    },
    {
     "name": "stdout",
     "output_type": "stream",
     "text": [
      "problem_solution_forum_pg_6141_6151 is done\n",
      "---------------------------------------------------------\n",
      "starting problem_solution_forum_pg_6151_6161\n"
     ]
    },
    {
     "name": "stderr",
     "output_type": "stream",
     "text": [
      "100%|████████████████████████████████████████████████████████████████████████████████| 300/300 [01:21<00:00,  3.70it/s]\n"
     ]
    },
    {
     "name": "stdout",
     "output_type": "stream",
     "text": [
      "problem_solution_forum_pg_6151_6161 is done\n",
      "---------------------------------------------------------\n",
      "starting problem_solution_forum_pg_6161_6171\n"
     ]
    },
    {
     "name": "stderr",
     "output_type": "stream",
     "text": [
      "100%|████████████████████████████████████████████████████████████████████████████████| 300/300 [01:18<00:00,  3.82it/s]\n"
     ]
    },
    {
     "name": "stdout",
     "output_type": "stream",
     "text": [
      "problem_solution_forum_pg_6161_6171 is done\n",
      "---------------------------------------------------------\n",
      "starting problem_solution_forum_pg_6171_6181\n"
     ]
    },
    {
     "name": "stderr",
     "output_type": "stream",
     "text": [
      "100%|████████████████████████████████████████████████████████████████████████████████| 300/300 [01:16<00:00,  3.91it/s]\n"
     ]
    },
    {
     "name": "stdout",
     "output_type": "stream",
     "text": [
      "problem_solution_forum_pg_6171_6181 is done\n",
      "---------------------------------------------------------\n",
      "starting problem_solution_forum_pg_6181_6191\n"
     ]
    },
    {
     "name": "stderr",
     "output_type": "stream",
     "text": [
      "100%|████████████████████████████████████████████████████████████████████████████████| 300/300 [01:17<00:00,  3.88it/s]\n"
     ]
    },
    {
     "name": "stdout",
     "output_type": "stream",
     "text": [
      "problem_solution_forum_pg_6181_6191 is done\n",
      "---------------------------------------------------------\n",
      "starting problem_solution_forum_pg_6191_6201\n"
     ]
    },
    {
     "name": "stderr",
     "output_type": "stream",
     "text": [
      "100%|████████████████████████████████████████████████████████████████████████████████| 300/300 [01:18<00:00,  3.81it/s]\n"
     ]
    },
    {
     "name": "stdout",
     "output_type": "stream",
     "text": [
      "problem_solution_forum_pg_6191_6201 is done\n",
      "---------------------------------------------------------\n",
      "starting problem_solution_forum_pg_6201_6211\n"
     ]
    },
    {
     "name": "stderr",
     "output_type": "stream",
     "text": [
      "100%|████████████████████████████████████████████████████████████████████████████████| 300/300 [01:18<00:00,  3.80it/s]\n"
     ]
    },
    {
     "name": "stdout",
     "output_type": "stream",
     "text": [
      "problem_solution_forum_pg_6201_6211 is done\n",
      "---------------------------------------------------------\n",
      "starting problem_solution_forum_pg_6211_6221\n"
     ]
    },
    {
     "name": "stderr",
     "output_type": "stream",
     "text": [
      "100%|████████████████████████████████████████████████████████████████████████████████| 300/300 [01:16<00:00,  3.94it/s]\n"
     ]
    },
    {
     "name": "stdout",
     "output_type": "stream",
     "text": [
      "problem_solution_forum_pg_6211_6221 is done\n",
      "---------------------------------------------------------\n",
      "starting problem_solution_forum_pg_6221_6231\n"
     ]
    },
    {
     "name": "stderr",
     "output_type": "stream",
     "text": [
      "100%|████████████████████████████████████████████████████████████████████████████████| 300/300 [01:20<00:00,  3.72it/s]\n"
     ]
    },
    {
     "name": "stdout",
     "output_type": "stream",
     "text": [
      "problem_solution_forum_pg_6221_6231 is done\n",
      "---------------------------------------------------------\n",
      "starting problem_solution_forum_pg_6231_6241\n"
     ]
    },
    {
     "name": "stderr",
     "output_type": "stream",
     "text": [
      "100%|████████████████████████████████████████████████████████████████████████████████| 300/300 [01:16<00:00,  3.95it/s]\n"
     ]
    },
    {
     "name": "stdout",
     "output_type": "stream",
     "text": [
      "problem_solution_forum_pg_6231_6241 is done\n",
      "---------------------------------------------------------\n",
      "starting problem_solution_forum_pg_6241_6251\n"
     ]
    },
    {
     "name": "stderr",
     "output_type": "stream",
     "text": [
      "100%|████████████████████████████████████████████████████████████████████████████████| 300/300 [01:19<00:00,  3.78it/s]\n"
     ]
    },
    {
     "name": "stdout",
     "output_type": "stream",
     "text": [
      "problem_solution_forum_pg_6241_6251 is done\n",
      "---------------------------------------------------------\n",
      "starting problem_solution_forum_pg_6251_6261\n"
     ]
    },
    {
     "name": "stderr",
     "output_type": "stream",
     "text": [
      "100%|████████████████████████████████████████████████████████████████████████████████| 300/300 [01:23<00:00,  3.61it/s]\n"
     ]
    },
    {
     "name": "stdout",
     "output_type": "stream",
     "text": [
      "problem_solution_forum_pg_6251_6261 is done\n",
      "---------------------------------------------------------\n",
      "starting problem_solution_forum_pg_6261_6271\n"
     ]
    },
    {
     "name": "stderr",
     "output_type": "stream",
     "text": [
      "100%|████████████████████████████████████████████████████████████████████████████████| 300/300 [01:17<00:00,  3.85it/s]\n"
     ]
    },
    {
     "name": "stdout",
     "output_type": "stream",
     "text": [
      "problem_solution_forum_pg_6261_6271 is done\n",
      "---------------------------------------------------------\n",
      "starting problem_solution_forum_pg_6271_6281\n"
     ]
    },
    {
     "name": "stderr",
     "output_type": "stream",
     "text": [
      "100%|████████████████████████████████████████████████████████████████████████████████| 300/300 [01:18<00:00,  3.80it/s]\n"
     ]
    },
    {
     "name": "stdout",
     "output_type": "stream",
     "text": [
      "problem_solution_forum_pg_6271_6281 is done\n",
      "---------------------------------------------------------\n",
      "starting problem_solution_forum_pg_6281_6291\n"
     ]
    },
    {
     "name": "stderr",
     "output_type": "stream",
     "text": [
      "100%|████████████████████████████████████████████████████████████████████████████████| 300/300 [01:18<00:00,  3.84it/s]\n"
     ]
    },
    {
     "name": "stdout",
     "output_type": "stream",
     "text": [
      "problem_solution_forum_pg_6281_6291 is done\n",
      "---------------------------------------------------------\n",
      "starting problem_solution_forum_pg_6291_6301\n"
     ]
    },
    {
     "name": "stderr",
     "output_type": "stream",
     "text": [
      "100%|████████████████████████████████████████████████████████████████████████████████| 300/300 [01:14<00:00,  4.02it/s]\n"
     ]
    },
    {
     "name": "stdout",
     "output_type": "stream",
     "text": [
      "problem_solution_forum_pg_6291_6301 is done\n",
      "---------------------------------------------------------\n",
      "starting problem_solution_forum_pg_6301_6311\n"
     ]
    },
    {
     "name": "stderr",
     "output_type": "stream",
     "text": [
      "100%|████████████████████████████████████████████████████████████████████████████████| 300/300 [01:18<00:00,  3.84it/s]\n"
     ]
    },
    {
     "name": "stdout",
     "output_type": "stream",
     "text": [
      "problem_solution_forum_pg_6301_6311 is done\n",
      "---------------------------------------------------------\n",
      "starting problem_solution_forum_pg_6311_6321\n"
     ]
    },
    {
     "name": "stderr",
     "output_type": "stream",
     "text": [
      "100%|████████████████████████████████████████████████████████████████████████████████| 300/300 [01:15<00:00,  3.95it/s]\n"
     ]
    },
    {
     "name": "stdout",
     "output_type": "stream",
     "text": [
      "problem_solution_forum_pg_6311_6321 is done\n",
      "---------------------------------------------------------\n",
      "starting problem_solution_forum_pg_6321_6331\n"
     ]
    },
    {
     "name": "stderr",
     "output_type": "stream",
     "text": [
      "100%|████████████████████████████████████████████████████████████████████████████████| 300/300 [01:19<00:00,  3.79it/s]\n"
     ]
    },
    {
     "name": "stdout",
     "output_type": "stream",
     "text": [
      "problem_solution_forum_pg_6321_6331 is done\n",
      "---------------------------------------------------------\n",
      "starting problem_solution_forum_pg_6331_6341\n"
     ]
    },
    {
     "name": "stderr",
     "output_type": "stream",
     "text": [
      "100%|████████████████████████████████████████████████████████████████████████████████| 300/300 [01:20<00:00,  3.71it/s]\n"
     ]
    },
    {
     "name": "stdout",
     "output_type": "stream",
     "text": [
      "problem_solution_forum_pg_6331_6341 is done\n",
      "---------------------------------------------------------\n",
      "starting problem_solution_forum_pg_6341_6351\n"
     ]
    },
    {
     "name": "stderr",
     "output_type": "stream",
     "text": [
      "100%|████████████████████████████████████████████████████████████████████████████████| 300/300 [01:20<00:00,  3.73it/s]\n"
     ]
    },
    {
     "name": "stdout",
     "output_type": "stream",
     "text": [
      "problem_solution_forum_pg_6341_6351 is done\n",
      "---------------------------------------------------------\n",
      "starting problem_solution_forum_pg_6351_6361\n"
     ]
    },
    {
     "name": "stderr",
     "output_type": "stream",
     "text": [
      "100%|████████████████████████████████████████████████████████████████████████████████| 300/300 [01:21<00:00,  3.69it/s]\n"
     ]
    },
    {
     "name": "stdout",
     "output_type": "stream",
     "text": [
      "problem_solution_forum_pg_6351_6361 is done\n",
      "---------------------------------------------------------\n",
      "starting problem_solution_forum_pg_6361_6371\n"
     ]
    },
    {
     "name": "stderr",
     "output_type": "stream",
     "text": [
      "100%|████████████████████████████████████████████████████████████████████████████████| 300/300 [01:19<00:00,  3.78it/s]\n"
     ]
    },
    {
     "name": "stdout",
     "output_type": "stream",
     "text": [
      "problem_solution_forum_pg_6361_6371 is done\n",
      "---------------------------------------------------------\n",
      "starting problem_solution_forum_pg_6371_6381\n"
     ]
    },
    {
     "name": "stderr",
     "output_type": "stream",
     "text": [
      "100%|████████████████████████████████████████████████████████████████████████████████| 300/300 [01:16<00:00,  3.90it/s]\n"
     ]
    },
    {
     "name": "stdout",
     "output_type": "stream",
     "text": [
      "problem_solution_forum_pg_6371_6381 is done\n",
      "---------------------------------------------------------\n",
      "starting problem_solution_forum_pg_6381_6391\n"
     ]
    },
    {
     "name": "stderr",
     "output_type": "stream",
     "text": [
      "100%|████████████████████████████████████████████████████████████████████████████████| 300/300 [01:14<00:00,  4.02it/s]\n"
     ]
    },
    {
     "name": "stdout",
     "output_type": "stream",
     "text": [
      "problem_solution_forum_pg_6381_6391 is done\n",
      "---------------------------------------------------------\n",
      "starting problem_solution_forum_pg_6391_6401\n"
     ]
    },
    {
     "name": "stderr",
     "output_type": "stream",
     "text": [
      "100%|████████████████████████████████████████████████████████████████████████████████| 300/300 [01:17<00:00,  3.88it/s]\n"
     ]
    },
    {
     "name": "stdout",
     "output_type": "stream",
     "text": [
      "problem_solution_forum_pg_6391_6401 is done\n",
      "---------------------------------------------------------\n",
      "starting problem_solution_forum_pg_6401_6411\n"
     ]
    },
    {
     "name": "stderr",
     "output_type": "stream",
     "text": [
      "100%|████████████████████████████████████████████████████████████████████████████████| 300/300 [01:21<00:00,  3.70it/s]\n"
     ]
    },
    {
     "name": "stdout",
     "output_type": "stream",
     "text": [
      "problem_solution_forum_pg_6401_6411 is done\n",
      "---------------------------------------------------------\n",
      "starting problem_solution_forum_pg_6411_6421\n"
     ]
    },
    {
     "name": "stderr",
     "output_type": "stream",
     "text": [
      "100%|████████████████████████████████████████████████████████████████████████████████| 300/300 [01:18<00:00,  3.80it/s]\n"
     ]
    },
    {
     "name": "stdout",
     "output_type": "stream",
     "text": [
      "problem_solution_forum_pg_6411_6421 is done\n",
      "---------------------------------------------------------\n",
      "starting problem_solution_forum_pg_6421_6431\n"
     ]
    },
    {
     "name": "stderr",
     "output_type": "stream",
     "text": [
      "100%|████████████████████████████████████████████████████████████████████████████████| 300/300 [01:19<00:00,  3.77it/s]\n"
     ]
    },
    {
     "name": "stdout",
     "output_type": "stream",
     "text": [
      "problem_solution_forum_pg_6421_6431 is done\n",
      "---------------------------------------------------------\n",
      "starting problem_solution_forum_pg_6431_6441\n"
     ]
    },
    {
     "name": "stderr",
     "output_type": "stream",
     "text": [
      "100%|████████████████████████████████████████████████████████████████████████████████| 300/300 [01:17<00:00,  3.89it/s]\n"
     ]
    },
    {
     "name": "stdout",
     "output_type": "stream",
     "text": [
      "problem_solution_forum_pg_6431_6441 is done\n",
      "---------------------------------------------------------\n",
      "starting problem_solution_forum_pg_6441_6451\n"
     ]
    },
    {
     "name": "stderr",
     "output_type": "stream",
     "text": [
      "100%|████████████████████████████████████████████████████████████████████████████████| 300/300 [01:19<00:00,  3.78it/s]\n"
     ]
    },
    {
     "name": "stdout",
     "output_type": "stream",
     "text": [
      "problem_solution_forum_pg_6441_6451 is done\n",
      "---------------------------------------------------------\n",
      "starting problem_solution_forum_pg_6451_6461\n"
     ]
    },
    {
     "name": "stderr",
     "output_type": "stream",
     "text": [
      "100%|████████████████████████████████████████████████████████████████████████████████| 300/300 [01:17<00:00,  3.88it/s]\n"
     ]
    },
    {
     "name": "stdout",
     "output_type": "stream",
     "text": [
      "problem_solution_forum_pg_6451_6461 is done\n",
      "---------------------------------------------------------\n",
      "starting problem_solution_forum_pg_6461_6471\n"
     ]
    },
    {
     "name": "stderr",
     "output_type": "stream",
     "text": [
      "100%|████████████████████████████████████████████████████████████████████████████████| 300/300 [01:21<00:00,  3.67it/s]\n"
     ]
    },
    {
     "name": "stdout",
     "output_type": "stream",
     "text": [
      "problem_solution_forum_pg_6461_6471 is done\n",
      "---------------------------------------------------------\n",
      "starting problem_solution_forum_pg_6471_6481\n"
     ]
    },
    {
     "name": "stderr",
     "output_type": "stream",
     "text": [
      "100%|████████████████████████████████████████████████████████████████████████████████| 300/300 [01:16<00:00,  3.91it/s]\n"
     ]
    },
    {
     "name": "stdout",
     "output_type": "stream",
     "text": [
      "problem_solution_forum_pg_6471_6481 is done\n",
      "---------------------------------------------------------\n",
      "starting problem_solution_forum_pg_6481_6491\n"
     ]
    },
    {
     "name": "stderr",
     "output_type": "stream",
     "text": [
      "100%|████████████████████████████████████████████████████████████████████████████████| 300/300 [01:20<00:00,  3.75it/s]\n"
     ]
    },
    {
     "name": "stdout",
     "output_type": "stream",
     "text": [
      "problem_solution_forum_pg_6481_6491 is done\n",
      "---------------------------------------------------------\n",
      "starting problem_solution_forum_pg_6491_6501\n"
     ]
    },
    {
     "name": "stderr",
     "output_type": "stream",
     "text": [
      "100%|████████████████████████████████████████████████████████████████████████████████| 300/300 [01:21<00:00,  3.68it/s]\n"
     ]
    },
    {
     "name": "stdout",
     "output_type": "stream",
     "text": [
      "problem_solution_forum_pg_6491_6501 is done\n",
      "---------------------------------------------------------\n",
      "starting problem_solution_forum_pg_6501_6511\n"
     ]
    },
    {
     "name": "stderr",
     "output_type": "stream",
     "text": [
      "100%|████████████████████████████████████████████████████████████████████████████████| 300/300 [01:21<00:00,  3.67it/s]\n"
     ]
    },
    {
     "name": "stdout",
     "output_type": "stream",
     "text": [
      "problem_solution_forum_pg_6501_6511 is done\n",
      "---------------------------------------------------------\n",
      "starting problem_solution_forum_pg_6511_6521\n"
     ]
    },
    {
     "name": "stderr",
     "output_type": "stream",
     "text": [
      "100%|████████████████████████████████████████████████████████████████████████████████| 300/300 [01:20<00:00,  3.74it/s]\n"
     ]
    },
    {
     "name": "stdout",
     "output_type": "stream",
     "text": [
      "problem_solution_forum_pg_6511_6521 is done\n",
      "---------------------------------------------------------\n",
      "starting problem_solution_forum_pg_6521_6531\n"
     ]
    },
    {
     "name": "stderr",
     "output_type": "stream",
     "text": [
      "100%|████████████████████████████████████████████████████████████████████████████████| 300/300 [01:20<00:00,  3.73it/s]\n"
     ]
    },
    {
     "name": "stdout",
     "output_type": "stream",
     "text": [
      "problem_solution_forum_pg_6521_6531 is done\n",
      "---------------------------------------------------------\n",
      "starting problem_solution_forum_pg_6531_6541\n"
     ]
    },
    {
     "name": "stderr",
     "output_type": "stream",
     "text": [
      "100%|████████████████████████████████████████████████████████████████████████████████| 300/300 [01:18<00:00,  3.80it/s]\n"
     ]
    },
    {
     "name": "stdout",
     "output_type": "stream",
     "text": [
      "problem_solution_forum_pg_6531_6541 is done\n",
      "---------------------------------------------------------\n",
      "starting problem_solution_forum_pg_6541_6551\n"
     ]
    },
    {
     "name": "stderr",
     "output_type": "stream",
     "text": [
      "100%|████████████████████████████████████████████████████████████████████████████████| 300/300 [01:20<00:00,  3.74it/s]\n"
     ]
    },
    {
     "name": "stdout",
     "output_type": "stream",
     "text": [
      "problem_solution_forum_pg_6541_6551 is done\n",
      "---------------------------------------------------------\n",
      "starting problem_solution_forum_pg_6551_6561\n"
     ]
    },
    {
     "name": "stderr",
     "output_type": "stream",
     "text": [
      "100%|████████████████████████████████████████████████████████████████████████████████| 300/300 [01:23<00:00,  3.58it/s]\n"
     ]
    },
    {
     "name": "stdout",
     "output_type": "stream",
     "text": [
      "problem_solution_forum_pg_6551_6561 is done\n",
      "---------------------------------------------------------\n",
      "starting problem_solution_forum_pg_6561_6571\n"
     ]
    },
    {
     "name": "stderr",
     "output_type": "stream",
     "text": [
      "100%|████████████████████████████████████████████████████████████████████████████████| 300/300 [01:16<00:00,  3.94it/s]\n"
     ]
    },
    {
     "name": "stdout",
     "output_type": "stream",
     "text": [
      "problem_solution_forum_pg_6561_6571 is done\n",
      "---------------------------------------------------------\n",
      "starting problem_solution_forum_pg_6571_6581\n"
     ]
    },
    {
     "name": "stderr",
     "output_type": "stream",
     "text": [
      "100%|████████████████████████████████████████████████████████████████████████████████| 300/300 [01:20<00:00,  3.70it/s]\n"
     ]
    },
    {
     "name": "stdout",
     "output_type": "stream",
     "text": [
      "problem_solution_forum_pg_6571_6581 is done\n",
      "---------------------------------------------------------\n",
      "starting problem_solution_forum_pg_6581_6591\n"
     ]
    },
    {
     "name": "stderr",
     "output_type": "stream",
     "text": [
      "100%|████████████████████████████████████████████████████████████████████████████████| 300/300 [01:20<00:00,  3.72it/s]\n"
     ]
    },
    {
     "name": "stdout",
     "output_type": "stream",
     "text": [
      "problem_solution_forum_pg_6581_6591 is done\n",
      "---------------------------------------------------------\n",
      "starting problem_solution_forum_pg_6591_6601\n"
     ]
    },
    {
     "name": "stderr",
     "output_type": "stream",
     "text": [
      "100%|████████████████████████████████████████████████████████████████████████████████| 300/300 [01:15<00:00,  3.96it/s]\n"
     ]
    },
    {
     "name": "stdout",
     "output_type": "stream",
     "text": [
      "problem_solution_forum_pg_6591_6601 is done\n",
      "---------------------------------------------------------\n",
      "starting problem_solution_forum_pg_6601_6611\n"
     ]
    },
    {
     "name": "stderr",
     "output_type": "stream",
     "text": [
      "100%|████████████████████████████████████████████████████████████████████████████████| 300/300 [01:17<00:00,  3.86it/s]\n"
     ]
    },
    {
     "name": "stdout",
     "output_type": "stream",
     "text": [
      "problem_solution_forum_pg_6601_6611 is done\n",
      "---------------------------------------------------------\n",
      "starting problem_solution_forum_pg_6611_6621\n"
     ]
    },
    {
     "name": "stderr",
     "output_type": "stream",
     "text": [
      "100%|████████████████████████████████████████████████████████████████████████████████| 300/300 [01:18<00:00,  3.85it/s]\n"
     ]
    },
    {
     "name": "stdout",
     "output_type": "stream",
     "text": [
      "problem_solution_forum_pg_6611_6621 is done\n",
      "---------------------------------------------------------\n",
      "starting problem_solution_forum_pg_6621_6631\n"
     ]
    },
    {
     "name": "stderr",
     "output_type": "stream",
     "text": [
      "100%|████████████████████████████████████████████████████████████████████████████████| 300/300 [01:22<00:00,  3.62it/s]\n"
     ]
    },
    {
     "name": "stdout",
     "output_type": "stream",
     "text": [
      "problem_solution_forum_pg_6621_6631 is done\n",
      "---------------------------------------------------------\n",
      "starting problem_solution_forum_pg_6631_6641\n"
     ]
    },
    {
     "name": "stderr",
     "output_type": "stream",
     "text": [
      "100%|████████████████████████████████████████████████████████████████████████████████| 300/300 [01:17<00:00,  3.85it/s]\n"
     ]
    },
    {
     "name": "stdout",
     "output_type": "stream",
     "text": [
      "problem_solution_forum_pg_6631_6641 is done\n",
      "---------------------------------------------------------\n",
      "starting problem_solution_forum_pg_6641_6651\n"
     ]
    },
    {
     "name": "stderr",
     "output_type": "stream",
     "text": [
      "100%|████████████████████████████████████████████████████████████████████████████████| 300/300 [01:19<00:00,  3.80it/s]\n"
     ]
    },
    {
     "name": "stdout",
     "output_type": "stream",
     "text": [
      "problem_solution_forum_pg_6641_6651 is done\n",
      "---------------------------------------------------------\n",
      "starting problem_solution_forum_pg_6651_6661\n"
     ]
    },
    {
     "name": "stderr",
     "output_type": "stream",
     "text": [
      "100%|████████████████████████████████████████████████████████████████████████████████| 300/300 [01:19<00:00,  3.77it/s]\n"
     ]
    },
    {
     "name": "stdout",
     "output_type": "stream",
     "text": [
      "problem_solution_forum_pg_6651_6661 is done\n",
      "---------------------------------------------------------\n",
      "starting problem_solution_forum_pg_6661_6671\n"
     ]
    },
    {
     "name": "stderr",
     "output_type": "stream",
     "text": [
      "100%|████████████████████████████████████████████████████████████████████████████████| 300/300 [01:16<00:00,  3.94it/s]\n"
     ]
    },
    {
     "name": "stdout",
     "output_type": "stream",
     "text": [
      "problem_solution_forum_pg_6661_6671 is done\n",
      "---------------------------------------------------------\n",
      "starting problem_solution_forum_pg_6671_6681\n"
     ]
    },
    {
     "name": "stderr",
     "output_type": "stream",
     "text": [
      "100%|████████████████████████████████████████████████████████████████████████████████| 300/300 [01:20<00:00,  3.74it/s]\n"
     ]
    },
    {
     "name": "stdout",
     "output_type": "stream",
     "text": [
      "problem_solution_forum_pg_6671_6681 is done\n",
      "---------------------------------------------------------\n",
      "starting problem_solution_forum_pg_6681_6691\n"
     ]
    },
    {
     "name": "stderr",
     "output_type": "stream",
     "text": [
      "100%|████████████████████████████████████████████████████████████████████████████████| 300/300 [01:24<00:00,  3.55it/s]\n"
     ]
    },
    {
     "name": "stdout",
     "output_type": "stream",
     "text": [
      "problem_solution_forum_pg_6681_6691 is done\n",
      "---------------------------------------------------------\n",
      "starting problem_solution_forum_pg_6691_6701\n"
     ]
    },
    {
     "name": "stderr",
     "output_type": "stream",
     "text": [
      "100%|████████████████████████████████████████████████████████████████████████████████| 300/300 [01:20<00:00,  3.74it/s]\n"
     ]
    },
    {
     "name": "stdout",
     "output_type": "stream",
     "text": [
      "problem_solution_forum_pg_6691_6701 is done\n",
      "---------------------------------------------------------\n",
      "starting problem_solution_forum_pg_6701_6711\n"
     ]
    },
    {
     "name": "stderr",
     "output_type": "stream",
     "text": [
      "100%|████████████████████████████████████████████████████████████████████████████████| 300/300 [01:34<00:00,  3.17it/s]\n"
     ]
    },
    {
     "name": "stdout",
     "output_type": "stream",
     "text": [
      "problem_solution_forum_pg_6701_6711 is done\n",
      "---------------------------------------------------------\n",
      "starting problem_solution_forum_pg_6711_6721\n"
     ]
    },
    {
     "name": "stderr",
     "output_type": "stream",
     "text": [
      "100%|████████████████████████████████████████████████████████████████████████████████| 300/300 [01:21<00:00,  3.70it/s]\n"
     ]
    },
    {
     "name": "stdout",
     "output_type": "stream",
     "text": [
      "problem_solution_forum_pg_6711_6721 is done\n",
      "---------------------------------------------------------\n",
      "starting problem_solution_forum_pg_6721_6731\n"
     ]
    },
    {
     "name": "stderr",
     "output_type": "stream",
     "text": [
      "100%|████████████████████████████████████████████████████████████████████████████████| 300/300 [01:18<00:00,  3.83it/s]\n"
     ]
    },
    {
     "name": "stdout",
     "output_type": "stream",
     "text": [
      "problem_solution_forum_pg_6721_6731 is done\n",
      "---------------------------------------------------------\n",
      "starting problem_solution_forum_pg_6731_6741\n"
     ]
    },
    {
     "name": "stderr",
     "output_type": "stream",
     "text": [
      "100%|████████████████████████████████████████████████████████████████████████████████| 300/300 [01:36<00:00,  3.11it/s]\n"
     ]
    },
    {
     "name": "stdout",
     "output_type": "stream",
     "text": [
      "problem_solution_forum_pg_6731_6741 is done\n",
      "---------------------------------------------------------\n",
      "starting problem_solution_forum_pg_6741_6751\n"
     ]
    },
    {
     "name": "stderr",
     "output_type": "stream",
     "text": [
      "100%|████████████████████████████████████████████████████████████████████████████████| 300/300 [01:29<00:00,  3.36it/s]\n"
     ]
    },
    {
     "name": "stdout",
     "output_type": "stream",
     "text": [
      "problem_solution_forum_pg_6741_6751 is done\n",
      "---------------------------------------------------------\n",
      "starting problem_solution_forum_pg_6751_6761\n"
     ]
    },
    {
     "name": "stderr",
     "output_type": "stream",
     "text": [
      "100%|████████████████████████████████████████████████████████████████████████████████| 300/300 [01:29<00:00,  3.35it/s]\n"
     ]
    },
    {
     "name": "stdout",
     "output_type": "stream",
     "text": [
      "problem_solution_forum_pg_6751_6761 is done\n",
      "---------------------------------------------------------\n",
      "starting problem_solution_forum_pg_6761_6771\n"
     ]
    },
    {
     "name": "stderr",
     "output_type": "stream",
     "text": [
      "100%|████████████████████████████████████████████████████████████████████████████████| 300/300 [01:19<00:00,  3.77it/s]\n"
     ]
    },
    {
     "name": "stdout",
     "output_type": "stream",
     "text": [
      "problem_solution_forum_pg_6761_6771 is done\n",
      "---------------------------------------------------------\n",
      "starting problem_solution_forum_pg_6771_6781\n"
     ]
    },
    {
     "name": "stderr",
     "output_type": "stream",
     "text": [
      "100%|████████████████████████████████████████████████████████████████████████████████| 300/300 [01:33<00:00,  3.21it/s]\n"
     ]
    },
    {
     "name": "stdout",
     "output_type": "stream",
     "text": [
      "problem_solution_forum_pg_6771_6781 is done\n",
      "---------------------------------------------------------\n",
      "starting problem_solution_forum_pg_6781_6791\n"
     ]
    },
    {
     "name": "stderr",
     "output_type": "stream",
     "text": [
      "100%|████████████████████████████████████████████████████████████████████████████████| 300/300 [01:22<00:00,  3.63it/s]\n"
     ]
    },
    {
     "name": "stdout",
     "output_type": "stream",
     "text": [
      "problem_solution_forum_pg_6781_6791 is done\n",
      "---------------------------------------------------------\n",
      "starting problem_solution_forum_pg_6791_6801\n"
     ]
    },
    {
     "name": "stderr",
     "output_type": "stream",
     "text": [
      "100%|████████████████████████████████████████████████████████████████████████████████| 300/300 [01:21<00:00,  3.69it/s]\n"
     ]
    },
    {
     "name": "stdout",
     "output_type": "stream",
     "text": [
      "problem_solution_forum_pg_6791_6801 is done\n",
      "---------------------------------------------------------\n",
      "starting problem_solution_forum_pg_6801_6811\n"
     ]
    },
    {
     "name": "stderr",
     "output_type": "stream",
     "text": [
      "100%|████████████████████████████████████████████████████████████████████████████████| 300/300 [01:28<00:00,  3.40it/s]\n"
     ]
    },
    {
     "name": "stdout",
     "output_type": "stream",
     "text": [
      "problem_solution_forum_pg_6801_6811 is done\n",
      "---------------------------------------------------------\n",
      "starting problem_solution_forum_pg_6811_6821\n"
     ]
    },
    {
     "name": "stderr",
     "output_type": "stream",
     "text": [
      "100%|████████████████████████████████████████████████████████████████████████████████| 300/300 [01:45<00:00,  2.84it/s]\n"
     ]
    },
    {
     "name": "stdout",
     "output_type": "stream",
     "text": [
      "problem_solution_forum_pg_6811_6821 is done\n",
      "---------------------------------------------------------\n",
      "starting problem_solution_forum_pg_6821_6831\n"
     ]
    },
    {
     "name": "stderr",
     "output_type": "stream",
     "text": [
      "100%|████████████████████████████████████████████████████████████████████████████████| 300/300 [01:21<00:00,  3.69it/s]\n"
     ]
    },
    {
     "name": "stdout",
     "output_type": "stream",
     "text": [
      "problem_solution_forum_pg_6821_6831 is done\n",
      "---------------------------------------------------------\n",
      "starting problem_solution_forum_pg_6831_6841\n"
     ]
    },
    {
     "name": "stderr",
     "output_type": "stream",
     "text": [
      "100%|████████████████████████████████████████████████████████████████████████████████| 300/300 [01:33<00:00,  3.22it/s]\n"
     ]
    },
    {
     "name": "stdout",
     "output_type": "stream",
     "text": [
      "problem_solution_forum_pg_6831_6841 is done\n",
      "---------------------------------------------------------\n",
      "starting problem_solution_forum_pg_6841_6851\n"
     ]
    },
    {
     "name": "stderr",
     "output_type": "stream",
     "text": [
      "100%|████████████████████████████████████████████████████████████████████████████████| 300/300 [01:25<00:00,  3.50it/s]\n"
     ]
    },
    {
     "name": "stdout",
     "output_type": "stream",
     "text": [
      "problem_solution_forum_pg_6841_6851 is done\n",
      "---------------------------------------------------------\n",
      "starting problem_solution_forum_pg_6851_6861\n"
     ]
    },
    {
     "name": "stderr",
     "output_type": "stream",
     "text": [
      "100%|████████████████████████████████████████████████████████████████████████████████| 300/300 [01:25<00:00,  3.49it/s]\n"
     ]
    },
    {
     "name": "stdout",
     "output_type": "stream",
     "text": [
      "problem_solution_forum_pg_6851_6861 is done\n",
      "---------------------------------------------------------\n",
      "starting problem_solution_forum_pg_6861_6871\n"
     ]
    },
    {
     "name": "stderr",
     "output_type": "stream",
     "text": [
      "100%|████████████████████████████████████████████████████████████████████████████████| 300/300 [01:19<00:00,  3.77it/s]\n"
     ]
    },
    {
     "name": "stdout",
     "output_type": "stream",
     "text": [
      "problem_solution_forum_pg_6861_6871 is done\n",
      "---------------------------------------------------------\n",
      "starting problem_solution_forum_pg_6871_6881\n"
     ]
    },
    {
     "name": "stderr",
     "output_type": "stream",
     "text": [
      "100%|████████████████████████████████████████████████████████████████████████████████| 300/300 [01:20<00:00,  3.71it/s]\n"
     ]
    },
    {
     "name": "stdout",
     "output_type": "stream",
     "text": [
      "problem_solution_forum_pg_6871_6881 is done\n",
      "---------------------------------------------------------\n",
      "starting problem_solution_forum_pg_6881_6891\n"
     ]
    },
    {
     "name": "stderr",
     "output_type": "stream",
     "text": [
      "100%|████████████████████████████████████████████████████████████████████████████████| 300/300 [01:19<00:00,  3.77it/s]\n"
     ]
    },
    {
     "name": "stdout",
     "output_type": "stream",
     "text": [
      "problem_solution_forum_pg_6881_6891 is done\n",
      "---------------------------------------------------------\n",
      "starting problem_solution_forum_pg_6891_6901\n"
     ]
    },
    {
     "name": "stderr",
     "output_type": "stream",
     "text": [
      "100%|████████████████████████████████████████████████████████████████████████████████| 300/300 [01:26<00:00,  3.47it/s]\n"
     ]
    },
    {
     "name": "stdout",
     "output_type": "stream",
     "text": [
      "problem_solution_forum_pg_6891_6901 is done\n",
      "---------------------------------------------------------\n",
      "starting problem_solution_forum_pg_6901_6911\n"
     ]
    },
    {
     "name": "stderr",
     "output_type": "stream",
     "text": [
      "100%|████████████████████████████████████████████████████████████████████████████████| 300/300 [01:30<00:00,  3.30it/s]\n"
     ]
    },
    {
     "name": "stdout",
     "output_type": "stream",
     "text": [
      "problem_solution_forum_pg_6901_6911 is done\n",
      "---------------------------------------------------------\n",
      "starting problem_solution_forum_pg_6911_6921\n"
     ]
    },
    {
     "name": "stderr",
     "output_type": "stream",
     "text": [
      "100%|████████████████████████████████████████████████████████████████████████████████| 300/300 [01:29<00:00,  3.36it/s]\n"
     ]
    },
    {
     "name": "stdout",
     "output_type": "stream",
     "text": [
      "problem_solution_forum_pg_6911_6921 is done\n",
      "---------------------------------------------------------\n",
      "starting problem_solution_forum_pg_6921_6931\n"
     ]
    },
    {
     "name": "stderr",
     "output_type": "stream",
     "text": [
      "100%|████████████████████████████████████████████████████████████████████████████████| 300/300 [01:30<00:00,  3.33it/s]\n"
     ]
    },
    {
     "name": "stdout",
     "output_type": "stream",
     "text": [
      "problem_solution_forum_pg_6921_6931 is done\n",
      "---------------------------------------------------------\n",
      "starting problem_solution_forum_pg_6931_6941\n"
     ]
    },
    {
     "name": "stderr",
     "output_type": "stream",
     "text": [
      "100%|████████████████████████████████████████████████████████████████████████████████| 300/300 [01:21<00:00,  3.70it/s]\n"
     ]
    },
    {
     "name": "stdout",
     "output_type": "stream",
     "text": [
      "problem_solution_forum_pg_6931_6941 is done\n",
      "---------------------------------------------------------\n",
      "starting problem_solution_forum_pg_6941_6951\n"
     ]
    },
    {
     "name": "stderr",
     "output_type": "stream",
     "text": [
      "100%|████████████████████████████████████████████████████████████████████████████████| 300/300 [01:30<00:00,  3.31it/s]\n"
     ]
    },
    {
     "name": "stdout",
     "output_type": "stream",
     "text": [
      "problem_solution_forum_pg_6941_6951 is done\n",
      "---------------------------------------------------------\n",
      "starting problem_solution_forum_pg_6951_6961\n"
     ]
    },
    {
     "name": "stderr",
     "output_type": "stream",
     "text": [
      "100%|████████████████████████████████████████████████████████████████████████████████| 300/300 [01:26<00:00,  3.45it/s]\n"
     ]
    },
    {
     "name": "stdout",
     "output_type": "stream",
     "text": [
      "problem_solution_forum_pg_6951_6961 is done\n",
      "---------------------------------------------------------\n",
      "starting problem_solution_forum_pg_6961_6971\n"
     ]
    },
    {
     "name": "stderr",
     "output_type": "stream",
     "text": [
      "100%|████████████████████████████████████████████████████████████████████████████████| 300/300 [01:26<00:00,  3.48it/s]\n"
     ]
    },
    {
     "name": "stdout",
     "output_type": "stream",
     "text": [
      "problem_solution_forum_pg_6961_6971 is done\n",
      "---------------------------------------------------------\n",
      "starting problem_solution_forum_pg_6971_6981\n"
     ]
    },
    {
     "name": "stderr",
     "output_type": "stream",
     "text": [
      "100%|████████████████████████████████████████████████████████████████████████████████| 300/300 [01:26<00:00,  3.48it/s]\n"
     ]
    },
    {
     "name": "stdout",
     "output_type": "stream",
     "text": [
      "problem_solution_forum_pg_6971_6981 is done\n",
      "---------------------------------------------------------\n",
      "starting problem_solution_forum_pg_6981_6991\n"
     ]
    },
    {
     "name": "stderr",
     "output_type": "stream",
     "text": [
      "100%|████████████████████████████████████████████████████████████████████████████████| 300/300 [01:25<00:00,  3.50it/s]\n"
     ]
    },
    {
     "name": "stdout",
     "output_type": "stream",
     "text": [
      "problem_solution_forum_pg_6981_6991 is done\n",
      "---------------------------------------------------------\n",
      "starting problem_solution_forum_pg_6991_7001\n"
     ]
    },
    {
     "name": "stderr",
     "output_type": "stream",
     "text": [
      "100%|████████████████████████████████████████████████████████████████████████████████| 300/300 [01:27<00:00,  3.42it/s]\n"
     ]
    },
    {
     "name": "stdout",
     "output_type": "stream",
     "text": [
      "problem_solution_forum_pg_6991_7001 is done\n",
      "---------------------------------------------------------\n",
      "starting problem_solution_forum_pg_7001_7011\n"
     ]
    },
    {
     "name": "stderr",
     "output_type": "stream",
     "text": [
      "100%|████████████████████████████████████████████████████████████████████████████████| 300/300 [01:21<00:00,  3.68it/s]\n"
     ]
    },
    {
     "name": "stdout",
     "output_type": "stream",
     "text": [
      "problem_solution_forum_pg_7001_7011 is done\n",
      "---------------------------------------------------------\n",
      "starting problem_solution_forum_pg_7011_7021\n"
     ]
    },
    {
     "name": "stderr",
     "output_type": "stream",
     "text": [
      "100%|████████████████████████████████████████████████████████████████████████████████| 300/300 [01:27<00:00,  3.44it/s]\n"
     ]
    },
    {
     "name": "stdout",
     "output_type": "stream",
     "text": [
      "problem_solution_forum_pg_7011_7021 is done\n",
      "---------------------------------------------------------\n",
      "starting problem_solution_forum_pg_7021_7031\n"
     ]
    },
    {
     "name": "stderr",
     "output_type": "stream",
     "text": [
      "100%|████████████████████████████████████████████████████████████████████████████████| 300/300 [01:23<00:00,  3.59it/s]\n"
     ]
    },
    {
     "name": "stdout",
     "output_type": "stream",
     "text": [
      "problem_solution_forum_pg_7021_7031 is done\n",
      "---------------------------------------------------------\n",
      "starting problem_solution_forum_pg_7031_7041\n"
     ]
    },
    {
     "name": "stderr",
     "output_type": "stream",
     "text": [
      "100%|████████████████████████████████████████████████████████████████████████████████| 300/300 [01:16<00:00,  3.92it/s]\n"
     ]
    },
    {
     "name": "stdout",
     "output_type": "stream",
     "text": [
      "problem_solution_forum_pg_7031_7041 is done\n",
      "---------------------------------------------------------\n",
      "starting problem_solution_forum_pg_7041_7051\n"
     ]
    },
    {
     "name": "stderr",
     "output_type": "stream",
     "text": [
      "100%|████████████████████████████████████████████████████████████████████████████████| 300/300 [01:26<00:00,  3.47it/s]\n"
     ]
    },
    {
     "name": "stdout",
     "output_type": "stream",
     "text": [
      "problem_solution_forum_pg_7041_7051 is done\n",
      "---------------------------------------------------------\n",
      "starting problem_solution_forum_pg_7051_7061\n"
     ]
    },
    {
     "name": "stderr",
     "output_type": "stream",
     "text": [
      "100%|████████████████████████████████████████████████████████████████████████████████| 300/300 [01:26<00:00,  3.48it/s]\n"
     ]
    },
    {
     "name": "stdout",
     "output_type": "stream",
     "text": [
      "problem_solution_forum_pg_7051_7061 is done\n",
      "---------------------------------------------------------\n",
      "starting problem_solution_forum_pg_7061_7071\n"
     ]
    },
    {
     "name": "stderr",
     "output_type": "stream",
     "text": [
      "100%|████████████████████████████████████████████████████████████████████████████████| 300/300 [01:40<00:00,  2.98it/s]\n"
     ]
    },
    {
     "name": "stdout",
     "output_type": "stream",
     "text": [
      "problem_solution_forum_pg_7061_7071 is done\n",
      "---------------------------------------------------------\n",
      "starting problem_solution_forum_pg_7071_7081\n"
     ]
    },
    {
     "name": "stderr",
     "output_type": "stream",
     "text": [
      "100%|████████████████████████████████████████████████████████████████████████████████| 300/300 [01:22<00:00,  3.64it/s]\n"
     ]
    },
    {
     "name": "stdout",
     "output_type": "stream",
     "text": [
      "problem_solution_forum_pg_7071_7081 is done\n",
      "---------------------------------------------------------\n",
      "starting problem_solution_forum_pg_7081_7091\n"
     ]
    },
    {
     "name": "stderr",
     "output_type": "stream",
     "text": [
      "100%|████████████████████████████████████████████████████████████████████████████████| 300/300 [01:28<00:00,  3.41it/s]\n"
     ]
    },
    {
     "name": "stdout",
     "output_type": "stream",
     "text": [
      "problem_solution_forum_pg_7081_7091 is done\n",
      "---------------------------------------------------------\n",
      "starting problem_solution_forum_pg_7091_7101\n"
     ]
    },
    {
     "name": "stderr",
     "output_type": "stream",
     "text": [
      "100%|████████████████████████████████████████████████████████████████████████████████| 300/300 [01:31<00:00,  3.28it/s]\n"
     ]
    },
    {
     "name": "stdout",
     "output_type": "stream",
     "text": [
      "problem_solution_forum_pg_7091_7101 is done\n",
      "---------------------------------------------------------\n",
      "starting problem_solution_forum_pg_7101_7111\n"
     ]
    },
    {
     "name": "stderr",
     "output_type": "stream",
     "text": [
      "100%|████████████████████████████████████████████████████████████████████████████████| 300/300 [01:32<00:00,  3.25it/s]\n"
     ]
    },
    {
     "name": "stdout",
     "output_type": "stream",
     "text": [
      "problem_solution_forum_pg_7101_7111 is done\n",
      "---------------------------------------------------------\n",
      "starting problem_solution_forum_pg_7111_7121\n"
     ]
    },
    {
     "name": "stderr",
     "output_type": "stream",
     "text": [
      "100%|████████████████████████████████████████████████████████████████████████████████| 300/300 [01:24<00:00,  3.55it/s]\n"
     ]
    },
    {
     "name": "stdout",
     "output_type": "stream",
     "text": [
      "problem_solution_forum_pg_7111_7121 is done\n",
      "---------------------------------------------------------\n",
      "starting problem_solution_forum_pg_7121_7131\n"
     ]
    },
    {
     "name": "stderr",
     "output_type": "stream",
     "text": [
      "100%|████████████████████████████████████████████████████████████████████████████████| 300/300 [01:23<00:00,  3.59it/s]\n"
     ]
    },
    {
     "name": "stdout",
     "output_type": "stream",
     "text": [
      "problem_solution_forum_pg_7121_7131 is done\n",
      "---------------------------------------------------------\n",
      "starting problem_solution_forum_pg_7131_7141\n"
     ]
    },
    {
     "name": "stderr",
     "output_type": "stream",
     "text": [
      "100%|████████████████████████████████████████████████████████████████████████████████| 300/300 [01:23<00:00,  3.57it/s]\n"
     ]
    },
    {
     "name": "stdout",
     "output_type": "stream",
     "text": [
      "problem_solution_forum_pg_7131_7141 is done\n",
      "---------------------------------------------------------\n",
      "starting problem_solution_forum_pg_7141_7151\n"
     ]
    },
    {
     "name": "stderr",
     "output_type": "stream",
     "text": [
      "100%|████████████████████████████████████████████████████████████████████████████████| 300/300 [01:21<00:00,  3.67it/s]\n"
     ]
    },
    {
     "name": "stdout",
     "output_type": "stream",
     "text": [
      "problem_solution_forum_pg_7141_7151 is done\n",
      "---------------------------------------------------------\n",
      "starting problem_solution_forum_pg_7151_7161\n"
     ]
    },
    {
     "name": "stderr",
     "output_type": "stream",
     "text": [
      "100%|████████████████████████████████████████████████████████████████████████████████| 300/300 [01:22<00:00,  3.65it/s]\n"
     ]
    },
    {
     "name": "stdout",
     "output_type": "stream",
     "text": [
      "problem_solution_forum_pg_7151_7161 is done\n",
      "---------------------------------------------------------\n",
      "starting problem_solution_forum_pg_7161_7171\n"
     ]
    },
    {
     "name": "stderr",
     "output_type": "stream",
     "text": [
      "100%|████████████████████████████████████████████████████████████████████████████████| 300/300 [01:46<00:00,  2.82it/s]\n"
     ]
    },
    {
     "name": "stdout",
     "output_type": "stream",
     "text": [
      "problem_solution_forum_pg_7161_7171 is done\n",
      "---------------------------------------------------------\n",
      "starting problem_solution_forum_pg_7171_7181\n"
     ]
    },
    {
     "name": "stderr",
     "output_type": "stream",
     "text": [
      "100%|████████████████████████████████████████████████████████████████████████████████| 300/300 [01:23<00:00,  3.57it/s]\n"
     ]
    },
    {
     "name": "stdout",
     "output_type": "stream",
     "text": [
      "problem_solution_forum_pg_7171_7181 is done\n",
      "---------------------------------------------------------\n",
      "starting problem_solution_forum_pg_7181_7191\n"
     ]
    },
    {
     "name": "stderr",
     "output_type": "stream",
     "text": [
      "100%|████████████████████████████████████████████████████████████████████████████████| 300/300 [01:24<00:00,  3.57it/s]\n"
     ]
    },
    {
     "name": "stdout",
     "output_type": "stream",
     "text": [
      "problem_solution_forum_pg_7181_7191 is done\n",
      "---------------------------------------------------------\n",
      "starting problem_solution_forum_pg_7191_7201\n"
     ]
    },
    {
     "name": "stderr",
     "output_type": "stream",
     "text": [
      "100%|████████████████████████████████████████████████████████████████████████████████| 300/300 [01:24<00:00,  3.54it/s]\n"
     ]
    },
    {
     "name": "stdout",
     "output_type": "stream",
     "text": [
      "problem_solution_forum_pg_7191_7201 is done\n",
      "---------------------------------------------------------\n",
      "starting problem_solution_forum_pg_7201_7211\n"
     ]
    },
    {
     "name": "stderr",
     "output_type": "stream",
     "text": [
      "100%|████████████████████████████████████████████████████████████████████████████████| 300/300 [01:23<00:00,  3.59it/s]\n"
     ]
    },
    {
     "name": "stdout",
     "output_type": "stream",
     "text": [
      "problem_solution_forum_pg_7201_7211 is done\n",
      "---------------------------------------------------------\n",
      "starting problem_solution_forum_pg_7211_7221\n"
     ]
    },
    {
     "name": "stderr",
     "output_type": "stream",
     "text": [
      "100%|████████████████████████████████████████████████████████████████████████████████| 300/300 [01:23<00:00,  3.59it/s]\n"
     ]
    },
    {
     "name": "stdout",
     "output_type": "stream",
     "text": [
      "problem_solution_forum_pg_7211_7221 is done\n",
      "---------------------------------------------------------\n",
      "starting problem_solution_forum_pg_7221_7231\n"
     ]
    },
    {
     "name": "stderr",
     "output_type": "stream",
     "text": [
      "100%|████████████████████████████████████████████████████████████████████████████████| 300/300 [01:28<00:00,  3.38it/s]\n"
     ]
    },
    {
     "name": "stdout",
     "output_type": "stream",
     "text": [
      "problem_solution_forum_pg_7221_7231 is done\n",
      "---------------------------------------------------------\n",
      "starting problem_solution_forum_pg_7231_7241\n"
     ]
    },
    {
     "name": "stderr",
     "output_type": "stream",
     "text": [
      "100%|████████████████████████████████████████████████████████████████████████████████| 300/300 [01:25<00:00,  3.50it/s]\n"
     ]
    },
    {
     "name": "stdout",
     "output_type": "stream",
     "text": [
      "problem_solution_forum_pg_7231_7241 is done\n",
      "---------------------------------------------------------\n",
      "starting problem_solution_forum_pg_7241_7251\n"
     ]
    },
    {
     "name": "stderr",
     "output_type": "stream",
     "text": [
      "100%|████████████████████████████████████████████████████████████████████████████████| 300/300 [01:19<00:00,  3.75it/s]\n"
     ]
    },
    {
     "name": "stdout",
     "output_type": "stream",
     "text": [
      "problem_solution_forum_pg_7241_7251 is done\n",
      "---------------------------------------------------------\n",
      "starting problem_solution_forum_pg_7251_7261\n"
     ]
    },
    {
     "name": "stderr",
     "output_type": "stream",
     "text": [
      "100%|████████████████████████████████████████████████████████████████████████████████| 300/300 [01:26<00:00,  3.46it/s]\n"
     ]
    },
    {
     "name": "stdout",
     "output_type": "stream",
     "text": [
      "problem_solution_forum_pg_7251_7261 is done\n",
      "---------------------------------------------------------\n",
      "starting problem_solution_forum_pg_7261_7271\n"
     ]
    },
    {
     "name": "stderr",
     "output_type": "stream",
     "text": [
      "100%|████████████████████████████████████████████████████████████████████████████████| 300/300 [01:20<00:00,  3.72it/s]\n"
     ]
    },
    {
     "name": "stdout",
     "output_type": "stream",
     "text": [
      "problem_solution_forum_pg_7261_7271 is done\n",
      "---------------------------------------------------------\n",
      "starting problem_solution_forum_pg_7271_7281\n"
     ]
    },
    {
     "name": "stderr",
     "output_type": "stream",
     "text": [
      "100%|████████████████████████████████████████████████████████████████████████████████| 300/300 [01:20<00:00,  3.74it/s]\n"
     ]
    },
    {
     "name": "stdout",
     "output_type": "stream",
     "text": [
      "problem_solution_forum_pg_7271_7281 is done\n",
      "---------------------------------------------------------\n",
      "starting problem_solution_forum_pg_7281_7291\n"
     ]
    },
    {
     "name": "stderr",
     "output_type": "stream",
     "text": [
      "100%|████████████████████████████████████████████████████████████████████████████████| 300/300 [01:27<00:00,  3.42it/s]\n"
     ]
    },
    {
     "name": "stdout",
     "output_type": "stream",
     "text": [
      "problem_solution_forum_pg_7281_7291 is done\n",
      "---------------------------------------------------------\n",
      "starting problem_solution_forum_pg_7291_7301\n"
     ]
    },
    {
     "name": "stderr",
     "output_type": "stream",
     "text": [
      "100%|████████████████████████████████████████████████████████████████████████████████| 300/300 [01:26<00:00,  3.45it/s]\n"
     ]
    },
    {
     "name": "stdout",
     "output_type": "stream",
     "text": [
      "problem_solution_forum_pg_7291_7301 is done\n",
      "---------------------------------------------------------\n",
      "starting problem_solution_forum_pg_7301_7311\n"
     ]
    },
    {
     "name": "stderr",
     "output_type": "stream",
     "text": [
      "100%|████████████████████████████████████████████████████████████████████████████████| 300/300 [01:28<00:00,  3.39it/s]\n"
     ]
    },
    {
     "name": "stdout",
     "output_type": "stream",
     "text": [
      "problem_solution_forum_pg_7301_7311 is done\n",
      "---------------------------------------------------------\n",
      "starting problem_solution_forum_pg_7311_7321\n"
     ]
    },
    {
     "name": "stderr",
     "output_type": "stream",
     "text": [
      "100%|████████████████████████████████████████████████████████████████████████████████| 300/300 [01:34<00:00,  3.18it/s]\n"
     ]
    },
    {
     "name": "stdout",
     "output_type": "stream",
     "text": [
      "problem_solution_forum_pg_7311_7321 is done\n",
      "---------------------------------------------------------\n",
      "starting problem_solution_forum_pg_7321_7331\n"
     ]
    },
    {
     "name": "stderr",
     "output_type": "stream",
     "text": [
      "100%|████████████████████████████████████████████████████████████████████████████████| 300/300 [01:21<00:00,  3.67it/s]\n"
     ]
    },
    {
     "name": "stdout",
     "output_type": "stream",
     "text": [
      "problem_solution_forum_pg_7321_7331 is done\n",
      "---------------------------------------------------------\n",
      "starting problem_solution_forum_pg_7331_7341\n"
     ]
    },
    {
     "name": "stderr",
     "output_type": "stream",
     "text": [
      "100%|████████████████████████████████████████████████████████████████████████████████| 300/300 [01:24<00:00,  3.54it/s]\n"
     ]
    },
    {
     "name": "stdout",
     "output_type": "stream",
     "text": [
      "problem_solution_forum_pg_7331_7341 is done\n",
      "---------------------------------------------------------\n",
      "starting problem_solution_forum_pg_7341_7351\n"
     ]
    },
    {
     "name": "stderr",
     "output_type": "stream",
     "text": [
      "100%|████████████████████████████████████████████████████████████████████████████████| 300/300 [01:21<00:00,  3.69it/s]\n"
     ]
    },
    {
     "name": "stdout",
     "output_type": "stream",
     "text": [
      "problem_solution_forum_pg_7341_7351 is done\n",
      "---------------------------------------------------------\n",
      "starting problem_solution_forum_pg_7351_7361\n"
     ]
    },
    {
     "name": "stderr",
     "output_type": "stream",
     "text": [
      "100%|████████████████████████████████████████████████████████████████████████████████| 300/300 [01:29<00:00,  3.36it/s]\n"
     ]
    },
    {
     "name": "stdout",
     "output_type": "stream",
     "text": [
      "problem_solution_forum_pg_7351_7361 is done\n",
      "---------------------------------------------------------\n",
      "starting problem_solution_forum_pg_7361_7371\n"
     ]
    },
    {
     "name": "stderr",
     "output_type": "stream",
     "text": [
      "100%|████████████████████████████████████████████████████████████████████████████████| 300/300 [01:22<00:00,  3.62it/s]\n"
     ]
    },
    {
     "name": "stdout",
     "output_type": "stream",
     "text": [
      "problem_solution_forum_pg_7361_7371 is done\n",
      "---------------------------------------------------------\n",
      "starting problem_solution_forum_pg_7371_7381\n"
     ]
    },
    {
     "name": "stderr",
     "output_type": "stream",
     "text": [
      "100%|████████████████████████████████████████████████████████████████████████████████| 300/300 [01:31<00:00,  3.26it/s]\n"
     ]
    },
    {
     "name": "stdout",
     "output_type": "stream",
     "text": [
      "problem_solution_forum_pg_7371_7381 is done\n",
      "---------------------------------------------------------\n",
      "starting problem_solution_forum_pg_7381_7391\n"
     ]
    },
    {
     "name": "stderr",
     "output_type": "stream",
     "text": [
      "100%|████████████████████████████████████████████████████████████████████████████████| 300/300 [01:23<00:00,  3.60it/s]\n"
     ]
    },
    {
     "name": "stdout",
     "output_type": "stream",
     "text": [
      "problem_solution_forum_pg_7381_7391 is done\n",
      "---------------------------------------------------------\n",
      "starting problem_solution_forum_pg_7391_7401\n"
     ]
    },
    {
     "name": "stderr",
     "output_type": "stream",
     "text": [
      "100%|████████████████████████████████████████████████████████████████████████████████| 300/300 [01:34<00:00,  3.16it/s]\n"
     ]
    },
    {
     "name": "stdout",
     "output_type": "stream",
     "text": [
      "problem_solution_forum_pg_7391_7401 is done\n",
      "---------------------------------------------------------\n",
      "starting problem_solution_forum_pg_7401_7411\n"
     ]
    },
    {
     "name": "stderr",
     "output_type": "stream",
     "text": [
      "100%|████████████████████████████████████████████████████████████████████████████████| 300/300 [01:27<00:00,  3.42it/s]\n"
     ]
    },
    {
     "name": "stdout",
     "output_type": "stream",
     "text": [
      "problem_solution_forum_pg_7401_7411 is done\n",
      "---------------------------------------------------------\n",
      "starting problem_solution_forum_pg_7411_7421\n"
     ]
    },
    {
     "name": "stderr",
     "output_type": "stream",
     "text": [
      "100%|████████████████████████████████████████████████████████████████████████████████| 300/300 [01:30<00:00,  3.32it/s]\n"
     ]
    },
    {
     "name": "stdout",
     "output_type": "stream",
     "text": [
      "problem_solution_forum_pg_7411_7421 is done\n",
      "---------------------------------------------------------\n",
      "starting problem_solution_forum_pg_7421_7431\n"
     ]
    },
    {
     "name": "stderr",
     "output_type": "stream",
     "text": [
      "100%|████████████████████████████████████████████████████████████████████████████████| 300/300 [01:30<00:00,  3.32it/s]\n"
     ]
    },
    {
     "name": "stdout",
     "output_type": "stream",
     "text": [
      "problem_solution_forum_pg_7421_7431 is done\n",
      "---------------------------------------------------------\n",
      "starting problem_solution_forum_pg_7431_7441\n"
     ]
    },
    {
     "name": "stderr",
     "output_type": "stream",
     "text": [
      "100%|████████████████████████████████████████████████████████████████████████████████| 300/300 [01:24<00:00,  3.55it/s]\n"
     ]
    },
    {
     "name": "stdout",
     "output_type": "stream",
     "text": [
      "problem_solution_forum_pg_7431_7441 is done\n",
      "---------------------------------------------------------\n",
      "starting problem_solution_forum_pg_7441_7451\n"
     ]
    },
    {
     "name": "stderr",
     "output_type": "stream",
     "text": [
      "100%|████████████████████████████████████████████████████████████████████████████████| 300/300 [01:23<00:00,  3.60it/s]\n"
     ]
    },
    {
     "name": "stdout",
     "output_type": "stream",
     "text": [
      "problem_solution_forum_pg_7441_7451 is done\n",
      "---------------------------------------------------------\n",
      "starting problem_solution_forum_pg_7451_7461\n"
     ]
    },
    {
     "name": "stderr",
     "output_type": "stream",
     "text": [
      "100%|████████████████████████████████████████████████████████████████████████████████| 300/300 [01:21<00:00,  3.68it/s]\n"
     ]
    },
    {
     "name": "stdout",
     "output_type": "stream",
     "text": [
      "problem_solution_forum_pg_7451_7461 is done\n",
      "---------------------------------------------------------\n",
      "starting problem_solution_forum_pg_7461_7471\n"
     ]
    },
    {
     "name": "stderr",
     "output_type": "stream",
     "text": [
      "100%|████████████████████████████████████████████████████████████████████████████████| 300/300 [01:25<00:00,  3.52it/s]\n"
     ]
    },
    {
     "name": "stdout",
     "output_type": "stream",
     "text": [
      "problem_solution_forum_pg_7461_7471 is done\n",
      "---------------------------------------------------------\n",
      "starting problem_solution_forum_pg_7471_7481\n"
     ]
    },
    {
     "name": "stderr",
     "output_type": "stream",
     "text": [
      "100%|████████████████████████████████████████████████████████████████████████████████| 300/300 [01:31<00:00,  3.28it/s]\n"
     ]
    },
    {
     "name": "stdout",
     "output_type": "stream",
     "text": [
      "problem_solution_forum_pg_7471_7481 is done\n",
      "---------------------------------------------------------\n",
      "starting problem_solution_forum_pg_7481_7491\n"
     ]
    },
    {
     "name": "stderr",
     "output_type": "stream",
     "text": [
      "100%|████████████████████████████████████████████████████████████████████████████████| 300/300 [01:37<00:00,  3.08it/s]\n"
     ]
    },
    {
     "name": "stdout",
     "output_type": "stream",
     "text": [
      "problem_solution_forum_pg_7481_7491 is done\n",
      "---------------------------------------------------------\n",
      "starting problem_solution_forum_pg_7491_7501\n"
     ]
    },
    {
     "name": "stderr",
     "output_type": "stream",
     "text": [
      "100%|████████████████████████████████████████████████████████████████████████████████| 300/300 [01:29<00:00,  3.36it/s]\n"
     ]
    },
    {
     "name": "stdout",
     "output_type": "stream",
     "text": [
      "problem_solution_forum_pg_7491_7501 is done\n",
      "---------------------------------------------------------\n",
      "starting problem_solution_forum_pg_7501_7511\n"
     ]
    },
    {
     "name": "stderr",
     "output_type": "stream",
     "text": [
      "100%|████████████████████████████████████████████████████████████████████████████████| 300/300 [01:37<00:00,  3.09it/s]\n"
     ]
    },
    {
     "name": "stdout",
     "output_type": "stream",
     "text": [
      "problem_solution_forum_pg_7501_7511 is done\n",
      "---------------------------------------------------------\n",
      "starting problem_solution_forum_pg_7511_7521\n"
     ]
    },
    {
     "name": "stderr",
     "output_type": "stream",
     "text": [
      "100%|████████████████████████████████████████████████████████████████████████████████| 300/300 [01:38<00:00,  3.05it/s]\n"
     ]
    },
    {
     "name": "stdout",
     "output_type": "stream",
     "text": [
      "problem_solution_forum_pg_7511_7521 is done\n",
      "---------------------------------------------------------\n",
      "starting problem_solution_forum_pg_7521_7531\n"
     ]
    },
    {
     "name": "stderr",
     "output_type": "stream",
     "text": [
      "100%|████████████████████████████████████████████████████████████████████████████████| 300/300 [01:21<00:00,  3.68it/s]\n"
     ]
    },
    {
     "name": "stdout",
     "output_type": "stream",
     "text": [
      "problem_solution_forum_pg_7521_7531 is done\n",
      "---------------------------------------------------------\n",
      "starting problem_solution_forum_pg_7531_7541\n"
     ]
    },
    {
     "name": "stderr",
     "output_type": "stream",
     "text": [
      "100%|████████████████████████████████████████████████████████████████████████████████| 300/300 [01:29<00:00,  3.36it/s]\n"
     ]
    },
    {
     "name": "stdout",
     "output_type": "stream",
     "text": [
      "problem_solution_forum_pg_7531_7541 is done\n",
      "---------------------------------------------------------\n",
      "starting problem_solution_forum_pg_7541_7551\n"
     ]
    },
    {
     "name": "stderr",
     "output_type": "stream",
     "text": [
      "100%|████████████████████████████████████████████████████████████████████████████████| 300/300 [01:30<00:00,  3.31it/s]\n"
     ]
    },
    {
     "name": "stdout",
     "output_type": "stream",
     "text": [
      "problem_solution_forum_pg_7541_7551 is done\n",
      "---------------------------------------------------------\n",
      "starting problem_solution_forum_pg_7551_7561\n"
     ]
    },
    {
     "name": "stderr",
     "output_type": "stream",
     "text": [
      "100%|████████████████████████████████████████████████████████████████████████████████| 300/300 [01:30<00:00,  3.32it/s]\n"
     ]
    },
    {
     "name": "stdout",
     "output_type": "stream",
     "text": [
      "problem_solution_forum_pg_7551_7561 is done\n",
      "---------------------------------------------------------\n",
      "starting problem_solution_forum_pg_7561_7571\n"
     ]
    },
    {
     "name": "stderr",
     "output_type": "stream",
     "text": [
      "100%|████████████████████████████████████████████████████████████████████████████████| 300/300 [01:34<00:00,  3.17it/s]\n"
     ]
    },
    {
     "name": "stdout",
     "output_type": "stream",
     "text": [
      "problem_solution_forum_pg_7561_7571 is done\n",
      "---------------------------------------------------------\n",
      "starting problem_solution_forum_pg_7571_7581\n"
     ]
    },
    {
     "name": "stderr",
     "output_type": "stream",
     "text": [
      "100%|████████████████████████████████████████████████████████████████████████████████| 300/300 [01:30<00:00,  3.32it/s]\n"
     ]
    },
    {
     "name": "stdout",
     "output_type": "stream",
     "text": [
      "problem_solution_forum_pg_7571_7581 is done\n",
      "---------------------------------------------------------\n",
      "starting problem_solution_forum_pg_7581_7591\n"
     ]
    },
    {
     "name": "stderr",
     "output_type": "stream",
     "text": [
      "100%|████████████████████████████████████████████████████████████████████████████████| 300/300 [01:24<00:00,  3.54it/s]\n"
     ]
    },
    {
     "name": "stdout",
     "output_type": "stream",
     "text": [
      "problem_solution_forum_pg_7581_7591 is done\n",
      "---------------------------------------------------------\n",
      "starting problem_solution_forum_pg_7591_7601\n"
     ]
    },
    {
     "name": "stderr",
     "output_type": "stream",
     "text": [
      "100%|████████████████████████████████████████████████████████████████████████████████| 300/300 [01:28<00:00,  3.38it/s]\n"
     ]
    },
    {
     "name": "stdout",
     "output_type": "stream",
     "text": [
      "problem_solution_forum_pg_7591_7601 is done\n",
      "---------------------------------------------------------\n",
      "starting problem_solution_forum_pg_7601_7611\n"
     ]
    },
    {
     "name": "stderr",
     "output_type": "stream",
     "text": [
      "100%|████████████████████████████████████████████████████████████████████████████████| 300/300 [01:39<00:00,  3.02it/s]\n"
     ]
    },
    {
     "name": "stdout",
     "output_type": "stream",
     "text": [
      "problem_solution_forum_pg_7601_7611 is done\n",
      "---------------------------------------------------------\n",
      "starting problem_solution_forum_pg_7611_7621\n"
     ]
    },
    {
     "name": "stderr",
     "output_type": "stream",
     "text": [
      "100%|████████████████████████████████████████████████████████████████████████████████| 300/300 [01:26<00:00,  3.46it/s]\n"
     ]
    },
    {
     "name": "stdout",
     "output_type": "stream",
     "text": [
      "problem_solution_forum_pg_7611_7621 is done\n",
      "---------------------------------------------------------\n",
      "starting problem_solution_forum_pg_7621_7631\n"
     ]
    },
    {
     "name": "stderr",
     "output_type": "stream",
     "text": [
      "100%|████████████████████████████████████████████████████████████████████████████████| 300/300 [01:21<00:00,  3.67it/s]\n"
     ]
    },
    {
     "name": "stdout",
     "output_type": "stream",
     "text": [
      "problem_solution_forum_pg_7621_7631 is done\n",
      "---------------------------------------------------------\n",
      "starting problem_solution_forum_pg_7631_7641\n"
     ]
    },
    {
     "name": "stderr",
     "output_type": "stream",
     "text": [
      "100%|████████████████████████████████████████████████████████████████████████████████| 300/300 [01:39<00:00,  3.02it/s]\n"
     ]
    },
    {
     "name": "stdout",
     "output_type": "stream",
     "text": [
      "problem_solution_forum_pg_7631_7641 is done\n",
      "---------------------------------------------------------\n",
      "starting problem_solution_forum_pg_7641_7651\n"
     ]
    },
    {
     "name": "stderr",
     "output_type": "stream",
     "text": [
      "100%|████████████████████████████████████████████████████████████████████████████████| 300/300 [01:28<00:00,  3.40it/s]\n"
     ]
    },
    {
     "name": "stdout",
     "output_type": "stream",
     "text": [
      "problem_solution_forum_pg_7641_7651 is done\n",
      "---------------------------------------------------------\n",
      "starting problem_solution_forum_pg_7651_7661\n"
     ]
    },
    {
     "name": "stderr",
     "output_type": "stream",
     "text": [
      "100%|████████████████████████████████████████████████████████████████████████████████| 300/300 [01:37<00:00,  3.08it/s]\n"
     ]
    },
    {
     "name": "stdout",
     "output_type": "stream",
     "text": [
      "problem_solution_forum_pg_7651_7661 is done\n",
      "---------------------------------------------------------\n",
      "starting problem_solution_forum_pg_7661_7671\n"
     ]
    },
    {
     "name": "stderr",
     "output_type": "stream",
     "text": [
      "100%|████████████████████████████████████████████████████████████████████████████████| 300/300 [01:38<00:00,  3.06it/s]\n"
     ]
    },
    {
     "name": "stdout",
     "output_type": "stream",
     "text": [
      "problem_solution_forum_pg_7661_7671 is done\n",
      "---------------------------------------------------------\n",
      "starting problem_solution_forum_pg_7671_7681\n"
     ]
    },
    {
     "name": "stderr",
     "output_type": "stream",
     "text": [
      "100%|████████████████████████████████████████████████████████████████████████████████| 300/300 [01:26<00:00,  3.47it/s]\n"
     ]
    },
    {
     "name": "stdout",
     "output_type": "stream",
     "text": [
      "problem_solution_forum_pg_7671_7681 is done\n",
      "---------------------------------------------------------\n",
      "starting problem_solution_forum_pg_7681_7691\n"
     ]
    },
    {
     "name": "stderr",
     "output_type": "stream",
     "text": [
      "100%|████████████████████████████████████████████████████████████████████████████████| 300/300 [01:46<00:00,  2.81it/s]\n"
     ]
    },
    {
     "name": "stdout",
     "output_type": "stream",
     "text": [
      "problem_solution_forum_pg_7681_7691 is done\n",
      "---------------------------------------------------------\n",
      "starting problem_solution_forum_pg_7691_7701\n"
     ]
    },
    {
     "name": "stderr",
     "output_type": "stream",
     "text": [
      "100%|████████████████████████████████████████████████████████████████████████████████| 300/300 [01:25<00:00,  3.50it/s]\n"
     ]
    },
    {
     "name": "stdout",
     "output_type": "stream",
     "text": [
      "problem_solution_forum_pg_7691_7701 is done\n",
      "---------------------------------------------------------\n",
      "starting problem_solution_forum_pg_7701_7711\n"
     ]
    },
    {
     "name": "stderr",
     "output_type": "stream",
     "text": [
      "100%|████████████████████████████████████████████████████████████████████████████████| 300/300 [01:21<00:00,  3.69it/s]\n"
     ]
    },
    {
     "name": "stdout",
     "output_type": "stream",
     "text": [
      "problem_solution_forum_pg_7701_7711 is done\n",
      "---------------------------------------------------------\n",
      "starting problem_solution_forum_pg_7711_7721\n"
     ]
    },
    {
     "name": "stderr",
     "output_type": "stream",
     "text": [
      "100%|████████████████████████████████████████████████████████████████████████████████| 300/300 [01:30<00:00,  3.32it/s]\n"
     ]
    },
    {
     "name": "stdout",
     "output_type": "stream",
     "text": [
      "problem_solution_forum_pg_7711_7721 is done\n",
      "---------------------------------------------------------\n",
      "starting problem_solution_forum_pg_7721_7731\n"
     ]
    },
    {
     "name": "stderr",
     "output_type": "stream",
     "text": [
      "100%|████████████████████████████████████████████████████████████████████████████████| 300/300 [01:30<00:00,  3.30it/s]\n"
     ]
    },
    {
     "name": "stdout",
     "output_type": "stream",
     "text": [
      "problem_solution_forum_pg_7721_7731 is done\n",
      "---------------------------------------------------------\n",
      "starting problem_solution_forum_pg_7731_7741\n"
     ]
    },
    {
     "name": "stderr",
     "output_type": "stream",
     "text": [
      "100%|████████████████████████████████████████████████████████████████████████████████| 300/300 [01:27<00:00,  3.45it/s]\n"
     ]
    },
    {
     "name": "stdout",
     "output_type": "stream",
     "text": [
      "problem_solution_forum_pg_7731_7741 is done\n",
      "---------------------------------------------------------\n",
      "starting problem_solution_forum_pg_7741_7751\n"
     ]
    },
    {
     "name": "stderr",
     "output_type": "stream",
     "text": [
      "100%|████████████████████████████████████████████████████████████████████████████████| 300/300 [01:48<00:00,  2.77it/s]\n"
     ]
    },
    {
     "name": "stdout",
     "output_type": "stream",
     "text": [
      "problem_solution_forum_pg_7741_7751 is done\n",
      "---------------------------------------------------------\n",
      "starting problem_solution_forum_pg_7751_7761\n"
     ]
    },
    {
     "name": "stderr",
     "output_type": "stream",
     "text": [
      "100%|████████████████████████████████████████████████████████████████████████████████| 300/300 [01:24<00:00,  3.56it/s]\n"
     ]
    },
    {
     "name": "stdout",
     "output_type": "stream",
     "text": [
      "problem_solution_forum_pg_7751_7761 is done\n",
      "---------------------------------------------------------\n",
      "starting problem_solution_forum_pg_7761_7771\n"
     ]
    },
    {
     "name": "stderr",
     "output_type": "stream",
     "text": [
      "100%|████████████████████████████████████████████████████████████████████████████████| 300/300 [01:45<00:00,  2.85it/s]\n"
     ]
    },
    {
     "name": "stdout",
     "output_type": "stream",
     "text": [
      "problem_solution_forum_pg_7761_7771 is done\n",
      "---------------------------------------------------------\n",
      "starting problem_solution_forum_pg_7771_7781\n"
     ]
    },
    {
     "name": "stderr",
     "output_type": "stream",
     "text": [
      "100%|████████████████████████████████████████████████████████████████████████████████| 300/300 [01:20<00:00,  3.74it/s]\n"
     ]
    },
    {
     "name": "stdout",
     "output_type": "stream",
     "text": [
      "problem_solution_forum_pg_7771_7781 is done\n",
      "---------------------------------------------------------\n",
      "starting problem_solution_forum_pg_7781_7791\n"
     ]
    },
    {
     "name": "stderr",
     "output_type": "stream",
     "text": [
      "100%|████████████████████████████████████████████████████████████████████████████████| 300/300 [01:30<00:00,  3.32it/s]\n"
     ]
    },
    {
     "name": "stdout",
     "output_type": "stream",
     "text": [
      "problem_solution_forum_pg_7781_7791 is done\n",
      "---------------------------------------------------------\n",
      "starting problem_solution_forum_pg_7791_7801\n"
     ]
    },
    {
     "name": "stderr",
     "output_type": "stream",
     "text": [
      "100%|████████████████████████████████████████████████████████████████████████████████| 300/300 [01:24<00:00,  3.54it/s]\n"
     ]
    },
    {
     "name": "stdout",
     "output_type": "stream",
     "text": [
      "problem_solution_forum_pg_7791_7801 is done\n",
      "---------------------------------------------------------\n",
      "starting problem_solution_forum_pg_7801_7811\n"
     ]
    },
    {
     "name": "stderr",
     "output_type": "stream",
     "text": [
      "100%|████████████████████████████████████████████████████████████████████████████████| 300/300 [01:26<00:00,  3.46it/s]\n"
     ]
    },
    {
     "name": "stdout",
     "output_type": "stream",
     "text": [
      "problem_solution_forum_pg_7801_7811 is done\n",
      "---------------------------------------------------------\n",
      "starting problem_solution_forum_pg_7811_7821\n"
     ]
    },
    {
     "name": "stderr",
     "output_type": "stream",
     "text": [
      "100%|████████████████████████████████████████████████████████████████████████████████| 300/300 [01:35<00:00,  3.15it/s]\n"
     ]
    },
    {
     "name": "stdout",
     "output_type": "stream",
     "text": [
      "problem_solution_forum_pg_7811_7821 is done\n",
      "---------------------------------------------------------\n",
      "starting problem_solution_forum_pg_7821_7831\n"
     ]
    },
    {
     "name": "stderr",
     "output_type": "stream",
     "text": [
      "100%|████████████████████████████████████████████████████████████████████████████████| 300/300 [01:22<00:00,  3.63it/s]\n"
     ]
    },
    {
     "name": "stdout",
     "output_type": "stream",
     "text": [
      "problem_solution_forum_pg_7821_7831 is done\n",
      "---------------------------------------------------------\n",
      "starting problem_solution_forum_pg_7831_7841\n"
     ]
    },
    {
     "name": "stderr",
     "output_type": "stream",
     "text": [
      "100%|████████████████████████████████████████████████████████████████████████████████| 300/300 [01:35<00:00,  3.14it/s]\n"
     ]
    },
    {
     "name": "stdout",
     "output_type": "stream",
     "text": [
      "problem_solution_forum_pg_7831_7841 is done\n",
      "---------------------------------------------------------\n",
      "starting problem_solution_forum_pg_7841_7851\n"
     ]
    },
    {
     "name": "stderr",
     "output_type": "stream",
     "text": [
      "100%|████████████████████████████████████████████████████████████████████████████████| 300/300 [01:25<00:00,  3.51it/s]\n"
     ]
    },
    {
     "name": "stdout",
     "output_type": "stream",
     "text": [
      "problem_solution_forum_pg_7841_7851 is done\n",
      "---------------------------------------------------------\n",
      "starting problem_solution_forum_pg_7851_7861\n"
     ]
    },
    {
     "name": "stderr",
     "output_type": "stream",
     "text": [
      "100%|████████████████████████████████████████████████████████████████████████████████| 300/300 [01:41<00:00,  2.94it/s]\n"
     ]
    },
    {
     "name": "stdout",
     "output_type": "stream",
     "text": [
      "problem_solution_forum_pg_7851_7861 is done\n",
      "---------------------------------------------------------\n",
      "starting problem_solution_forum_pg_7861_7871\n"
     ]
    },
    {
     "name": "stderr",
     "output_type": "stream",
     "text": [
      "100%|████████████████████████████████████████████████████████████████████████████████| 300/300 [01:38<00:00,  3.04it/s]\n"
     ]
    },
    {
     "name": "stdout",
     "output_type": "stream",
     "text": [
      "problem_solution_forum_pg_7861_7871 is done\n",
      "---------------------------------------------------------\n",
      "starting problem_solution_forum_pg_7871_7881\n"
     ]
    },
    {
     "name": "stderr",
     "output_type": "stream",
     "text": [
      "100%|████████████████████████████████████████████████████████████████████████████████| 300/300 [01:26<00:00,  3.47it/s]\n"
     ]
    },
    {
     "name": "stdout",
     "output_type": "stream",
     "text": [
      "problem_solution_forum_pg_7871_7881 is done\n",
      "---------------------------------------------------------\n",
      "starting problem_solution_forum_pg_7881_7891\n"
     ]
    },
    {
     "name": "stderr",
     "output_type": "stream",
     "text": [
      "100%|████████████████████████████████████████████████████████████████████████████████| 300/300 [01:35<00:00,  3.14it/s]\n"
     ]
    },
    {
     "name": "stdout",
     "output_type": "stream",
     "text": [
      "problem_solution_forum_pg_7881_7891 is done\n",
      "---------------------------------------------------------\n",
      "starting problem_solution_forum_pg_7891_7901\n"
     ]
    },
    {
     "name": "stderr",
     "output_type": "stream",
     "text": [
      "100%|████████████████████████████████████████████████████████████████████████████████| 300/300 [01:29<00:00,  3.35it/s]\n"
     ]
    },
    {
     "name": "stdout",
     "output_type": "stream",
     "text": [
      "problem_solution_forum_pg_7891_7901 is done\n",
      "---------------------------------------------------------\n",
      "starting problem_solution_forum_pg_7901_7911\n"
     ]
    },
    {
     "name": "stderr",
     "output_type": "stream",
     "text": [
      "100%|████████████████████████████████████████████████████████████████████████████████| 300/300 [01:50<00:00,  2.71it/s]\n"
     ]
    },
    {
     "name": "stdout",
     "output_type": "stream",
     "text": [
      "problem_solution_forum_pg_7901_7911 is done\n",
      "---------------------------------------------------------\n",
      "starting problem_solution_forum_pg_7911_7921\n"
     ]
    },
    {
     "name": "stderr",
     "output_type": "stream",
     "text": [
      "100%|████████████████████████████████████████████████████████████████████████████████| 300/300 [01:27<00:00,  3.44it/s]\n"
     ]
    },
    {
     "name": "stdout",
     "output_type": "stream",
     "text": [
      "problem_solution_forum_pg_7911_7921 is done\n",
      "---------------------------------------------------------\n",
      "starting problem_solution_forum_pg_7921_7931\n"
     ]
    },
    {
     "name": "stderr",
     "output_type": "stream",
     "text": [
      "100%|████████████████████████████████████████████████████████████████████████████████| 300/300 [01:38<00:00,  3.05it/s]\n"
     ]
    },
    {
     "name": "stdout",
     "output_type": "stream",
     "text": [
      "problem_solution_forum_pg_7921_7931 is done\n",
      "---------------------------------------------------------\n",
      "starting problem_solution_forum_pg_7931_7941\n"
     ]
    },
    {
     "name": "stderr",
     "output_type": "stream",
     "text": [
      "100%|████████████████████████████████████████████████████████████████████████████████| 300/300 [01:31<00:00,  3.28it/s]\n"
     ]
    },
    {
     "name": "stdout",
     "output_type": "stream",
     "text": [
      "problem_solution_forum_pg_7931_7941 is done\n",
      "---------------------------------------------------------\n",
      "starting problem_solution_forum_pg_7941_7951\n"
     ]
    },
    {
     "name": "stderr",
     "output_type": "stream",
     "text": [
      "100%|████████████████████████████████████████████████████████████████████████████████| 300/300 [01:24<00:00,  3.57it/s]\n"
     ]
    },
    {
     "name": "stdout",
     "output_type": "stream",
     "text": [
      "problem_solution_forum_pg_7941_7951 is done\n",
      "---------------------------------------------------------\n",
      "starting problem_solution_forum_pg_7951_7961\n"
     ]
    },
    {
     "name": "stderr",
     "output_type": "stream",
     "text": [
      "100%|████████████████████████████████████████████████████████████████████████████████| 300/300 [01:26<00:00,  3.49it/s]\n"
     ]
    },
    {
     "name": "stdout",
     "output_type": "stream",
     "text": [
      "problem_solution_forum_pg_7951_7961 is done\n",
      "---------------------------------------------------------\n",
      "starting problem_solution_forum_pg_7961_7971\n"
     ]
    },
    {
     "name": "stderr",
     "output_type": "stream",
     "text": [
      "100%|████████████████████████████████████████████████████████████████████████████████| 300/300 [01:30<00:00,  3.30it/s]\n"
     ]
    },
    {
     "name": "stdout",
     "output_type": "stream",
     "text": [
      "problem_solution_forum_pg_7961_7971 is done\n",
      "---------------------------------------------------------\n",
      "starting problem_solution_forum_pg_7971_7981\n"
     ]
    },
    {
     "name": "stderr",
     "output_type": "stream",
     "text": [
      "100%|████████████████████████████████████████████████████████████████████████████████| 300/300 [01:27<00:00,  3.42it/s]\n"
     ]
    },
    {
     "name": "stdout",
     "output_type": "stream",
     "text": [
      "problem_solution_forum_pg_7971_7981 is done\n",
      "---------------------------------------------------------\n",
      "starting problem_solution_forum_pg_7981_7991\n"
     ]
    },
    {
     "name": "stderr",
     "output_type": "stream",
     "text": [
      "100%|████████████████████████████████████████████████████████████████████████████████| 300/300 [01:31<00:00,  3.27it/s]\n"
     ]
    },
    {
     "name": "stdout",
     "output_type": "stream",
     "text": [
      "problem_solution_forum_pg_7981_7991 is done\n",
      "---------------------------------------------------------\n",
      "starting problem_solution_forum_pg_7991_8001\n"
     ]
    },
    {
     "name": "stderr",
     "output_type": "stream",
     "text": [
      "100%|████████████████████████████████████████████████████████████████████████████████| 300/300 [01:22<00:00,  3.66it/s]\n"
     ]
    },
    {
     "name": "stdout",
     "output_type": "stream",
     "text": [
      "problem_solution_forum_pg_7991_8001 is done\n",
      "---------------------------------------------------------\n",
      "starting problem_solution_forum_pg_8001_8011\n"
     ]
    },
    {
     "name": "stderr",
     "output_type": "stream",
     "text": [
      "100%|████████████████████████████████████████████████████████████████████████████████| 300/300 [01:28<00:00,  3.39it/s]\n"
     ]
    },
    {
     "name": "stdout",
     "output_type": "stream",
     "text": [
      "problem_solution_forum_pg_8001_8011 is done\n",
      "---------------------------------------------------------\n",
      "starting problem_solution_forum_pg_8011_8021\n"
     ]
    },
    {
     "name": "stderr",
     "output_type": "stream",
     "text": [
      "100%|████████████████████████████████████████████████████████████████████████████████| 300/300 [01:25<00:00,  3.51it/s]\n"
     ]
    },
    {
     "name": "stdout",
     "output_type": "stream",
     "text": [
      "problem_solution_forum_pg_8011_8021 is done\n",
      "---------------------------------------------------------\n",
      "starting problem_solution_forum_pg_8021_8031\n"
     ]
    },
    {
     "name": "stderr",
     "output_type": "stream",
     "text": [
      "100%|████████████████████████████████████████████████████████████████████████████████| 300/300 [01:22<00:00,  3.63it/s]\n"
     ]
    },
    {
     "name": "stdout",
     "output_type": "stream",
     "text": [
      "problem_solution_forum_pg_8021_8031 is done\n",
      "---------------------------------------------------------\n",
      "starting problem_solution_forum_pg_8031_8041\n"
     ]
    },
    {
     "name": "stderr",
     "output_type": "stream",
     "text": [
      "100%|████████████████████████████████████████████████████████████████████████████████| 300/300 [01:30<00:00,  3.33it/s]\n"
     ]
    },
    {
     "name": "stdout",
     "output_type": "stream",
     "text": [
      "problem_solution_forum_pg_8031_8041 is done\n",
      "---------------------------------------------------------\n",
      "starting problem_solution_forum_pg_8041_8051\n"
     ]
    },
    {
     "name": "stderr",
     "output_type": "stream",
     "text": [
      "100%|████████████████████████████████████████████████████████████████████████████████| 300/300 [01:30<00:00,  3.33it/s]\n"
     ]
    },
    {
     "name": "stdout",
     "output_type": "stream",
     "text": [
      "problem_solution_forum_pg_8041_8051 is done\n",
      "---------------------------------------------------------\n",
      "starting problem_solution_forum_pg_8051_8061\n"
     ]
    },
    {
     "name": "stderr",
     "output_type": "stream",
     "text": [
      "100%|████████████████████████████████████████████████████████████████████████████████| 300/300 [01:40<00:00,  2.98it/s]\n"
     ]
    },
    {
     "name": "stdout",
     "output_type": "stream",
     "text": [
      "problem_solution_forum_pg_8051_8061 is done\n",
      "---------------------------------------------------------\n",
      "starting problem_solution_forum_pg_8061_8071\n"
     ]
    },
    {
     "name": "stderr",
     "output_type": "stream",
     "text": [
      "100%|████████████████████████████████████████████████████████████████████████████████| 300/300 [01:37<00:00,  3.07it/s]\n"
     ]
    },
    {
     "name": "stdout",
     "output_type": "stream",
     "text": [
      "problem_solution_forum_pg_8061_8071 is done\n",
      "---------------------------------------------------------\n",
      "starting problem_solution_forum_pg_8071_8081\n"
     ]
    },
    {
     "name": "stderr",
     "output_type": "stream",
     "text": [
      "100%|████████████████████████████████████████████████████████████████████████████████| 300/300 [01:35<00:00,  3.13it/s]\n"
     ]
    },
    {
     "name": "stdout",
     "output_type": "stream",
     "text": [
      "problem_solution_forum_pg_8071_8081 is done\n",
      "---------------------------------------------------------\n",
      "starting problem_solution_forum_pg_8081_8091\n"
     ]
    },
    {
     "name": "stderr",
     "output_type": "stream",
     "text": [
      "100%|████████████████████████████████████████████████████████████████████████████████| 300/300 [01:30<00:00,  3.31it/s]\n"
     ]
    },
    {
     "name": "stdout",
     "output_type": "stream",
     "text": [
      "problem_solution_forum_pg_8081_8091 is done\n",
      "---------------------------------------------------------\n",
      "starting problem_solution_forum_pg_8091_8101\n"
     ]
    },
    {
     "name": "stderr",
     "output_type": "stream",
     "text": [
      "100%|████████████████████████████████████████████████████████████████████████████████| 300/300 [01:23<00:00,  3.59it/s]\n"
     ]
    },
    {
     "name": "stdout",
     "output_type": "stream",
     "text": [
      "problem_solution_forum_pg_8091_8101 is done\n",
      "---------------------------------------------------------\n",
      "starting problem_solution_forum_pg_8101_8111\n"
     ]
    },
    {
     "name": "stderr",
     "output_type": "stream",
     "text": [
      "100%|████████████████████████████████████████████████████████████████████████████████| 300/300 [01:31<00:00,  3.26it/s]\n"
     ]
    },
    {
     "name": "stdout",
     "output_type": "stream",
     "text": [
      "problem_solution_forum_pg_8101_8111 is done\n",
      "---------------------------------------------------------\n",
      "starting problem_solution_forum_pg_8111_8121\n"
     ]
    },
    {
     "name": "stderr",
     "output_type": "stream",
     "text": [
      "100%|████████████████████████████████████████████████████████████████████████████████| 300/300 [01:32<00:00,  3.25it/s]\n"
     ]
    },
    {
     "name": "stdout",
     "output_type": "stream",
     "text": [
      "problem_solution_forum_pg_8111_8121 is done\n",
      "---------------------------------------------------------\n",
      "starting problem_solution_forum_pg_8121_8131\n"
     ]
    },
    {
     "name": "stderr",
     "output_type": "stream",
     "text": [
      "100%|████████████████████████████████████████████████████████████████████████████████| 300/300 [01:39<00:00,  3.01it/s]\n"
     ]
    },
    {
     "name": "stdout",
     "output_type": "stream",
     "text": [
      "problem_solution_forum_pg_8121_8131 is done\n",
      "---------------------------------------------------------\n",
      "starting problem_solution_forum_pg_8131_8141\n"
     ]
    },
    {
     "name": "stderr",
     "output_type": "stream",
     "text": [
      "100%|████████████████████████████████████████████████████████████████████████████████| 300/300 [01:38<00:00,  3.05it/s]\n"
     ]
    },
    {
     "name": "stdout",
     "output_type": "stream",
     "text": [
      "problem_solution_forum_pg_8131_8141 is done\n",
      "---------------------------------------------------------\n",
      "starting problem_solution_forum_pg_8141_8151\n"
     ]
    },
    {
     "name": "stderr",
     "output_type": "stream",
     "text": [
      "100%|████████████████████████████████████████████████████████████████████████████████| 300/300 [01:33<00:00,  3.21it/s]\n"
     ]
    },
    {
     "name": "stdout",
     "output_type": "stream",
     "text": [
      "problem_solution_forum_pg_8141_8151 is done\n",
      "---------------------------------------------------------\n",
      "starting problem_solution_forum_pg_8151_8161\n"
     ]
    },
    {
     "name": "stderr",
     "output_type": "stream",
     "text": [
      "100%|████████████████████████████████████████████████████████████████████████████████| 300/300 [01:38<00:00,  3.04it/s]\n"
     ]
    },
    {
     "name": "stdout",
     "output_type": "stream",
     "text": [
      "problem_solution_forum_pg_8151_8161 is done\n",
      "---------------------------------------------------------\n",
      "starting problem_solution_forum_pg_8161_8171\n"
     ]
    },
    {
     "name": "stderr",
     "output_type": "stream",
     "text": [
      "100%|████████████████████████████████████████████████████████████████████████████████| 300/300 [01:41<00:00,  2.94it/s]\n"
     ]
    },
    {
     "name": "stdout",
     "output_type": "stream",
     "text": [
      "problem_solution_forum_pg_8161_8171 is done\n",
      "---------------------------------------------------------\n",
      "starting problem_solution_forum_pg_8171_8181\n"
     ]
    },
    {
     "name": "stderr",
     "output_type": "stream",
     "text": [
      "100%|████████████████████████████████████████████████████████████████████████████████| 300/300 [01:33<00:00,  3.22it/s]\n"
     ]
    },
    {
     "name": "stdout",
     "output_type": "stream",
     "text": [
      "problem_solution_forum_pg_8171_8181 is done\n",
      "---------------------------------------------------------\n",
      "starting problem_solution_forum_pg_8181_8191\n"
     ]
    },
    {
     "name": "stderr",
     "output_type": "stream",
     "text": [
      "100%|████████████████████████████████████████████████████████████████████████████████| 300/300 [01:36<00:00,  3.12it/s]\n"
     ]
    },
    {
     "name": "stdout",
     "output_type": "stream",
     "text": [
      "problem_solution_forum_pg_8181_8191 is done\n",
      "---------------------------------------------------------\n",
      "starting problem_solution_forum_pg_8191_8201\n"
     ]
    },
    {
     "name": "stderr",
     "output_type": "stream",
     "text": [
      "100%|████████████████████████████████████████████████████████████████████████████████| 300/300 [01:48<00:00,  2.77it/s]\n"
     ]
    },
    {
     "name": "stdout",
     "output_type": "stream",
     "text": [
      "problem_solution_forum_pg_8191_8201 is done\n",
      "---------------------------------------------------------\n",
      "starting problem_solution_forum_pg_8201_8211\n"
     ]
    },
    {
     "name": "stderr",
     "output_type": "stream",
     "text": [
      "100%|████████████████████████████████████████████████████████████████████████████████| 300/300 [01:36<00:00,  3.12it/s]\n"
     ]
    },
    {
     "name": "stdout",
     "output_type": "stream",
     "text": [
      "problem_solution_forum_pg_8201_8211 is done\n",
      "---------------------------------------------------------\n",
      "starting problem_solution_forum_pg_8211_8221\n"
     ]
    },
    {
     "name": "stderr",
     "output_type": "stream",
     "text": [
      "100%|████████████████████████████████████████████████████████████████████████████████| 300/300 [01:44<00:00,  2.86it/s]\n"
     ]
    },
    {
     "name": "stdout",
     "output_type": "stream",
     "text": [
      "problem_solution_forum_pg_8211_8221 is done\n",
      "---------------------------------------------------------\n",
      "starting problem_solution_forum_pg_8221_8231\n"
     ]
    },
    {
     "name": "stderr",
     "output_type": "stream",
     "text": [
      "100%|████████████████████████████████████████████████████████████████████████████████| 300/300 [01:34<00:00,  3.18it/s]\n"
     ]
    },
    {
     "name": "stdout",
     "output_type": "stream",
     "text": [
      "problem_solution_forum_pg_8221_8231 is done\n",
      "---------------------------------------------------------\n",
      "starting problem_solution_forum_pg_8231_8241\n"
     ]
    },
    {
     "name": "stderr",
     "output_type": "stream",
     "text": [
      "100%|████████████████████████████████████████████████████████████████████████████████| 300/300 [01:31<00:00,  3.29it/s]\n"
     ]
    },
    {
     "name": "stdout",
     "output_type": "stream",
     "text": [
      "problem_solution_forum_pg_8231_8241 is done\n",
      "---------------------------------------------------------\n",
      "starting problem_solution_forum_pg_8241_8251\n"
     ]
    },
    {
     "name": "stderr",
     "output_type": "stream",
     "text": [
      "100%|████████████████████████████████████████████████████████████████████████████████| 300/300 [01:33<00:00,  3.21it/s]\n"
     ]
    },
    {
     "name": "stdout",
     "output_type": "stream",
     "text": [
      "problem_solution_forum_pg_8241_8251 is done\n",
      "---------------------------------------------------------\n",
      "starting problem_solution_forum_pg_8251_8261\n"
     ]
    },
    {
     "name": "stderr",
     "output_type": "stream",
     "text": [
      "100%|████████████████████████████████████████████████████████████████████████████████| 300/300 [01:30<00:00,  3.33it/s]\n"
     ]
    },
    {
     "name": "stdout",
     "output_type": "stream",
     "text": [
      "problem_solution_forum_pg_8251_8261 is done\n",
      "---------------------------------------------------------\n",
      "starting problem_solution_forum_pg_8261_8271\n"
     ]
    },
    {
     "name": "stderr",
     "output_type": "stream",
     "text": [
      "100%|████████████████████████████████████████████████████████████████████████████████| 300/300 [01:29<00:00,  3.34it/s]\n"
     ]
    },
    {
     "name": "stdout",
     "output_type": "stream",
     "text": [
      "problem_solution_forum_pg_8261_8271 is done\n",
      "---------------------------------------------------------\n",
      "starting problem_solution_forum_pg_8271_8281\n"
     ]
    },
    {
     "name": "stderr",
     "output_type": "stream",
     "text": [
      "100%|████████████████████████████████████████████████████████████████████████████████| 300/300 [01:37<00:00,  3.07it/s]\n"
     ]
    },
    {
     "name": "stdout",
     "output_type": "stream",
     "text": [
      "problem_solution_forum_pg_8271_8281 is done\n",
      "---------------------------------------------------------\n",
      "starting problem_solution_forum_pg_8281_8291\n"
     ]
    },
    {
     "name": "stderr",
     "output_type": "stream",
     "text": [
      "100%|████████████████████████████████████████████████████████████████████████████████| 300/300 [01:43<00:00,  2.89it/s]\n"
     ]
    },
    {
     "name": "stdout",
     "output_type": "stream",
     "text": [
      "problem_solution_forum_pg_8281_8291 is done\n",
      "---------------------------------------------------------\n",
      "starting problem_solution_forum_pg_8291_8301\n"
     ]
    },
    {
     "name": "stderr",
     "output_type": "stream",
     "text": [
      "100%|████████████████████████████████████████████████████████████████████████████████| 300/300 [01:30<00:00,  3.33it/s]\n"
     ]
    },
    {
     "name": "stdout",
     "output_type": "stream",
     "text": [
      "problem_solution_forum_pg_8291_8301 is done\n",
      "---------------------------------------------------------\n",
      "starting problem_solution_forum_pg_8301_8311\n"
     ]
    },
    {
     "name": "stderr",
     "output_type": "stream",
     "text": [
      "100%|████████████████████████████████████████████████████████████████████████████████| 300/300 [01:31<00:00,  3.28it/s]\n"
     ]
    },
    {
     "name": "stdout",
     "output_type": "stream",
     "text": [
      "problem_solution_forum_pg_8301_8311 is done\n",
      "---------------------------------------------------------\n",
      "starting problem_solution_forum_pg_8311_8321\n"
     ]
    },
    {
     "name": "stderr",
     "output_type": "stream",
     "text": [
      "100%|████████████████████████████████████████████████████████████████████████████████| 300/300 [01:33<00:00,  3.20it/s]\n"
     ]
    },
    {
     "name": "stdout",
     "output_type": "stream",
     "text": [
      "problem_solution_forum_pg_8311_8321 is done\n",
      "---------------------------------------------------------\n",
      "starting problem_solution_forum_pg_8321_8331\n"
     ]
    },
    {
     "name": "stderr",
     "output_type": "stream",
     "text": [
      "100%|████████████████████████████████████████████████████████████████████████████████| 300/300 [01:41<00:00,  2.97it/s]\n"
     ]
    },
    {
     "name": "stdout",
     "output_type": "stream",
     "text": [
      "problem_solution_forum_pg_8321_8331 is done\n",
      "---------------------------------------------------------\n",
      "starting problem_solution_forum_pg_8331_8341\n"
     ]
    },
    {
     "name": "stderr",
     "output_type": "stream",
     "text": [
      "100%|████████████████████████████████████████████████████████████████████████████████| 300/300 [01:41<00:00,  2.95it/s]\n"
     ]
    },
    {
     "name": "stdout",
     "output_type": "stream",
     "text": [
      "problem_solution_forum_pg_8331_8341 is done\n",
      "---------------------------------------------------------\n",
      "starting problem_solution_forum_pg_8341_8351\n"
     ]
    },
    {
     "name": "stderr",
     "output_type": "stream",
     "text": [
      "100%|████████████████████████████████████████████████████████████████████████████████| 300/300 [01:42<00:00,  2.93it/s]\n"
     ]
    },
    {
     "name": "stdout",
     "output_type": "stream",
     "text": [
      "problem_solution_forum_pg_8341_8351 is done\n",
      "---------------------------------------------------------\n",
      "starting problem_solution_forum_pg_8351_8361\n"
     ]
    },
    {
     "name": "stderr",
     "output_type": "stream",
     "text": [
      "100%|████████████████████████████████████████████████████████████████████████████████| 300/300 [01:24<00:00,  3.54it/s]\n"
     ]
    },
    {
     "name": "stdout",
     "output_type": "stream",
     "text": [
      "problem_solution_forum_pg_8351_8361 is done\n",
      "---------------------------------------------------------\n",
      "starting problem_solution_forum_pg_8361_8371\n"
     ]
    },
    {
     "name": "stderr",
     "output_type": "stream",
     "text": [
      "100%|████████████████████████████████████████████████████████████████████████████████| 300/300 [01:41<00:00,  2.96it/s]\n"
     ]
    },
    {
     "name": "stdout",
     "output_type": "stream",
     "text": [
      "problem_solution_forum_pg_8361_8371 is done\n",
      "---------------------------------------------------------\n",
      "starting problem_solution_forum_pg_8371_8381\n"
     ]
    },
    {
     "name": "stderr",
     "output_type": "stream",
     "text": [
      "100%|████████████████████████████████████████████████████████████████████████████████| 300/300 [01:48<00:00,  2.76it/s]\n"
     ]
    },
    {
     "name": "stdout",
     "output_type": "stream",
     "text": [
      "problem_solution_forum_pg_8371_8381 is done\n",
      "---------------------------------------------------------\n",
      "starting problem_solution_forum_pg_8381_8391\n"
     ]
    },
    {
     "name": "stderr",
     "output_type": "stream",
     "text": [
      "100%|████████████████████████████████████████████████████████████████████████████████| 300/300 [01:26<00:00,  3.48it/s]\n"
     ]
    },
    {
     "name": "stdout",
     "output_type": "stream",
     "text": [
      "problem_solution_forum_pg_8381_8391 is done\n",
      "---------------------------------------------------------\n",
      "starting problem_solution_forum_pg_8391_8401\n"
     ]
    },
    {
     "name": "stderr",
     "output_type": "stream",
     "text": [
      "100%|████████████████████████████████████████████████████████████████████████████████| 300/300 [01:32<00:00,  3.25it/s]\n"
     ]
    },
    {
     "name": "stdout",
     "output_type": "stream",
     "text": [
      "problem_solution_forum_pg_8391_8401 is done\n",
      "---------------------------------------------------------\n",
      "starting problem_solution_forum_pg_8401_8411\n"
     ]
    },
    {
     "name": "stderr",
     "output_type": "stream",
     "text": [
      "100%|████████████████████████████████████████████████████████████████████████████████| 300/300 [01:40<00:00,  2.98it/s]\n"
     ]
    },
    {
     "name": "stdout",
     "output_type": "stream",
     "text": [
      "problem_solution_forum_pg_8401_8411 is done\n",
      "---------------------------------------------------------\n",
      "starting problem_solution_forum_pg_8411_8421\n"
     ]
    },
    {
     "name": "stderr",
     "output_type": "stream",
     "text": [
      "100%|████████████████████████████████████████████████████████████████████████████████| 300/300 [01:33<00:00,  3.21it/s]\n"
     ]
    },
    {
     "name": "stdout",
     "output_type": "stream",
     "text": [
      "problem_solution_forum_pg_8411_8421 is done\n",
      "---------------------------------------------------------\n",
      "starting problem_solution_forum_pg_8421_8431\n"
     ]
    },
    {
     "name": "stderr",
     "output_type": "stream",
     "text": [
      "100%|████████████████████████████████████████████████████████████████████████████████| 300/300 [01:51<00:00,  2.69it/s]\n"
     ]
    },
    {
     "name": "stdout",
     "output_type": "stream",
     "text": [
      "problem_solution_forum_pg_8421_8431 is done\n",
      "---------------------------------------------------------\n",
      "starting problem_solution_forum_pg_8431_8441\n"
     ]
    },
    {
     "name": "stderr",
     "output_type": "stream",
     "text": [
      "100%|████████████████████████████████████████████████████████████████████████████████| 300/300 [01:34<00:00,  3.16it/s]\n"
     ]
    },
    {
     "name": "stdout",
     "output_type": "stream",
     "text": [
      "problem_solution_forum_pg_8431_8441 is done\n",
      "---------------------------------------------------------\n",
      "starting problem_solution_forum_pg_8441_8451\n"
     ]
    },
    {
     "name": "stderr",
     "output_type": "stream",
     "text": [
      "100%|████████████████████████████████████████████████████████████████████████████████| 300/300 [01:28<00:00,  3.38it/s]\n"
     ]
    },
    {
     "name": "stdout",
     "output_type": "stream",
     "text": [
      "problem_solution_forum_pg_8441_8451 is done\n",
      "---------------------------------------------------------\n",
      "starting problem_solution_forum_pg_8451_8461\n"
     ]
    },
    {
     "name": "stderr",
     "output_type": "stream",
     "text": [
      "100%|████████████████████████████████████████████████████████████████████████████████| 300/300 [01:30<00:00,  3.33it/s]\n"
     ]
    },
    {
     "name": "stdout",
     "output_type": "stream",
     "text": [
      "problem_solution_forum_pg_8451_8461 is done\n",
      "---------------------------------------------------------\n",
      "starting problem_solution_forum_pg_8461_8471\n"
     ]
    },
    {
     "name": "stderr",
     "output_type": "stream",
     "text": [
      "100%|████████████████████████████████████████████████████████████████████████████████| 300/300 [01:34<00:00,  3.19it/s]\n"
     ]
    },
    {
     "name": "stdout",
     "output_type": "stream",
     "text": [
      "problem_solution_forum_pg_8461_8471 is done\n",
      "---------------------------------------------------------\n",
      "starting problem_solution_forum_pg_8471_8481\n"
     ]
    },
    {
     "name": "stderr",
     "output_type": "stream",
     "text": [
      "100%|████████████████████████████████████████████████████████████████████████████████| 300/300 [01:36<00:00,  3.11it/s]\n"
     ]
    },
    {
     "name": "stdout",
     "output_type": "stream",
     "text": [
      "problem_solution_forum_pg_8471_8481 is done\n",
      "---------------------------------------------------------\n",
      "starting problem_solution_forum_pg_8481_8491\n"
     ]
    },
    {
     "name": "stderr",
     "output_type": "stream",
     "text": [
      "100%|████████████████████████████████████████████████████████████████████████████████| 300/300 [01:26<00:00,  3.48it/s]\n"
     ]
    },
    {
     "name": "stdout",
     "output_type": "stream",
     "text": [
      "problem_solution_forum_pg_8481_8491 is done\n",
      "---------------------------------------------------------\n",
      "starting problem_solution_forum_pg_8491_8501\n"
     ]
    },
    {
     "name": "stderr",
     "output_type": "stream",
     "text": [
      "100%|████████████████████████████████████████████████████████████████████████████████| 300/300 [01:35<00:00,  3.16it/s]\n"
     ]
    },
    {
     "name": "stdout",
     "output_type": "stream",
     "text": [
      "problem_solution_forum_pg_8491_8501 is done\n",
      "---------------------------------------------------------\n",
      "starting problem_solution_forum_pg_8501_8511\n"
     ]
    },
    {
     "name": "stderr",
     "output_type": "stream",
     "text": [
      "100%|████████████████████████████████████████████████████████████████████████████████| 300/300 [01:38<00:00,  3.05it/s]\n"
     ]
    },
    {
     "name": "stdout",
     "output_type": "stream",
     "text": [
      "problem_solution_forum_pg_8501_8511 is done\n",
      "---------------------------------------------------------\n",
      "starting problem_solution_forum_pg_8511_8521\n"
     ]
    },
    {
     "name": "stderr",
     "output_type": "stream",
     "text": [
      "100%|████████████████████████████████████████████████████████████████████████████████| 300/300 [01:34<00:00,  3.19it/s]\n"
     ]
    },
    {
     "name": "stdout",
     "output_type": "stream",
     "text": [
      "problem_solution_forum_pg_8511_8521 is done\n",
      "---------------------------------------------------------\n",
      "starting problem_solution_forum_pg_8521_8531\n"
     ]
    },
    {
     "name": "stderr",
     "output_type": "stream",
     "text": [
      "100%|████████████████████████████████████████████████████████████████████████████████| 300/300 [01:28<00:00,  3.39it/s]\n"
     ]
    },
    {
     "name": "stdout",
     "output_type": "stream",
     "text": [
      "problem_solution_forum_pg_8521_8531 is done\n",
      "---------------------------------------------------------\n",
      "starting problem_solution_forum_pg_8531_8541\n"
     ]
    },
    {
     "name": "stderr",
     "output_type": "stream",
     "text": [
      "100%|████████████████████████████████████████████████████████████████████████████████| 300/300 [01:23<00:00,  3.58it/s]\n"
     ]
    },
    {
     "name": "stdout",
     "output_type": "stream",
     "text": [
      "problem_solution_forum_pg_8531_8541 is done\n",
      "---------------------------------------------------------\n",
      "starting problem_solution_forum_pg_8541_8551\n"
     ]
    },
    {
     "name": "stderr",
     "output_type": "stream",
     "text": [
      "100%|████████████████████████████████████████████████████████████████████████████████| 300/300 [01:31<00:00,  3.29it/s]\n"
     ]
    },
    {
     "name": "stdout",
     "output_type": "stream",
     "text": [
      "problem_solution_forum_pg_8541_8551 is done\n",
      "---------------------------------------------------------\n",
      "starting problem_solution_forum_pg_8551_8561\n"
     ]
    },
    {
     "name": "stderr",
     "output_type": "stream",
     "text": [
      "100%|████████████████████████████████████████████████████████████████████████████████| 300/300 [01:42<00:00,  2.94it/s]\n"
     ]
    },
    {
     "name": "stdout",
     "output_type": "stream",
     "text": [
      "problem_solution_forum_pg_8551_8561 is done\n",
      "---------------------------------------------------------\n",
      "starting problem_solution_forum_pg_8561_8571\n"
     ]
    },
    {
     "name": "stderr",
     "output_type": "stream",
     "text": [
      "100%|████████████████████████████████████████████████████████████████████████████████| 300/300 [01:29<00:00,  3.35it/s]\n"
     ]
    },
    {
     "name": "stdout",
     "output_type": "stream",
     "text": [
      "problem_solution_forum_pg_8561_8571 is done\n",
      "---------------------------------------------------------\n",
      "starting problem_solution_forum_pg_8571_8581\n"
     ]
    },
    {
     "name": "stderr",
     "output_type": "stream",
     "text": [
      "100%|████████████████████████████████████████████████████████████████████████████████| 300/300 [01:28<00:00,  3.38it/s]\n"
     ]
    },
    {
     "name": "stdout",
     "output_type": "stream",
     "text": [
      "problem_solution_forum_pg_8571_8581 is done\n",
      "---------------------------------------------------------\n",
      "starting problem_solution_forum_pg_8581_8591\n"
     ]
    },
    {
     "name": "stderr",
     "output_type": "stream",
     "text": [
      "100%|████████████████████████████████████████████████████████████████████████████████| 300/300 [01:36<00:00,  3.12it/s]\n"
     ]
    },
    {
     "name": "stdout",
     "output_type": "stream",
     "text": [
      "problem_solution_forum_pg_8581_8591 is done\n",
      "---------------------------------------------------------\n",
      "starting problem_solution_forum_pg_8591_8601\n"
     ]
    },
    {
     "name": "stderr",
     "output_type": "stream",
     "text": [
      "100%|████████████████████████████████████████████████████████████████████████████████| 300/300 [01:35<00:00,  3.13it/s]\n"
     ]
    },
    {
     "name": "stdout",
     "output_type": "stream",
     "text": [
      "problem_solution_forum_pg_8591_8601 is done\n",
      "---------------------------------------------------------\n",
      "starting problem_solution_forum_pg_8601_8611\n"
     ]
    },
    {
     "name": "stderr",
     "output_type": "stream",
     "text": [
      "100%|████████████████████████████████████████████████████████████████████████████████| 300/300 [01:33<00:00,  3.21it/s]\n"
     ]
    },
    {
     "name": "stdout",
     "output_type": "stream",
     "text": [
      "problem_solution_forum_pg_8601_8611 is done\n",
      "---------------------------------------------------------\n",
      "starting problem_solution_forum_pg_8611_8621\n"
     ]
    },
    {
     "name": "stderr",
     "output_type": "stream",
     "text": [
      "100%|████████████████████████████████████████████████████████████████████████████████| 300/300 [01:40<00:00,  3.00it/s]\n"
     ]
    },
    {
     "name": "stdout",
     "output_type": "stream",
     "text": [
      "problem_solution_forum_pg_8611_8621 is done\n",
      "---------------------------------------------------------\n",
      "starting problem_solution_forum_pg_8621_8631\n"
     ]
    },
    {
     "name": "stderr",
     "output_type": "stream",
     "text": [
      "100%|████████████████████████████████████████████████████████████████████████████████| 300/300 [01:36<00:00,  3.11it/s]\n"
     ]
    },
    {
     "name": "stdout",
     "output_type": "stream",
     "text": [
      "problem_solution_forum_pg_8621_8631 is done\n",
      "---------------------------------------------------------\n",
      "starting problem_solution_forum_pg_8631_8641\n"
     ]
    },
    {
     "name": "stderr",
     "output_type": "stream",
     "text": [
      "100%|████████████████████████████████████████████████████████████████████████████████| 300/300 [01:41<00:00,  2.96it/s]\n"
     ]
    },
    {
     "name": "stdout",
     "output_type": "stream",
     "text": [
      "problem_solution_forum_pg_8631_8641 is done\n",
      "---------------------------------------------------------\n",
      "starting problem_solution_forum_pg_8641_8651\n"
     ]
    },
    {
     "name": "stderr",
     "output_type": "stream",
     "text": [
      "100%|████████████████████████████████████████████████████████████████████████████████| 300/300 [01:29<00:00,  3.34it/s]\n"
     ]
    },
    {
     "name": "stdout",
     "output_type": "stream",
     "text": [
      "problem_solution_forum_pg_8641_8651 is done\n",
      "---------------------------------------------------------\n",
      "starting problem_solution_forum_pg_8651_8661\n"
     ]
    },
    {
     "name": "stderr",
     "output_type": "stream",
     "text": [
      "100%|████████████████████████████████████████████████████████████████████████████████| 300/300 [01:26<00:00,  3.49it/s]\n"
     ]
    },
    {
     "name": "stdout",
     "output_type": "stream",
     "text": [
      "problem_solution_forum_pg_8651_8661 is done\n",
      "---------------------------------------------------------\n",
      "starting problem_solution_forum_pg_8661_8671\n"
     ]
    },
    {
     "name": "stderr",
     "output_type": "stream",
     "text": [
      "100%|████████████████████████████████████████████████████████████████████████████████| 300/300 [01:30<00:00,  3.30it/s]\n"
     ]
    },
    {
     "name": "stdout",
     "output_type": "stream",
     "text": [
      "problem_solution_forum_pg_8661_8671 is done\n",
      "---------------------------------------------------------\n",
      "starting problem_solution_forum_pg_8671_8681\n"
     ]
    },
    {
     "name": "stderr",
     "output_type": "stream",
     "text": [
      "100%|████████████████████████████████████████████████████████████████████████████████| 300/300 [01:36<00:00,  3.11it/s]\n"
     ]
    },
    {
     "name": "stdout",
     "output_type": "stream",
     "text": [
      "problem_solution_forum_pg_8671_8681 is done\n",
      "---------------------------------------------------------\n",
      "starting problem_solution_forum_pg_8681_8691\n"
     ]
    },
    {
     "name": "stderr",
     "output_type": "stream",
     "text": [
      "100%|████████████████████████████████████████████████████████████████████████████████| 300/300 [01:31<00:00,  3.29it/s]\n"
     ]
    },
    {
     "name": "stdout",
     "output_type": "stream",
     "text": [
      "problem_solution_forum_pg_8681_8691 is done\n",
      "---------------------------------------------------------\n",
      "starting problem_solution_forum_pg_8691_8701\n"
     ]
    },
    {
     "name": "stderr",
     "output_type": "stream",
     "text": [
      "100%|████████████████████████████████████████████████████████████████████████████████| 300/300 [01:26<00:00,  3.45it/s]\n"
     ]
    },
    {
     "name": "stdout",
     "output_type": "stream",
     "text": [
      "problem_solution_forum_pg_8691_8701 is done\n",
      "---------------------------------------------------------\n",
      "starting problem_solution_forum_pg_8701_8711\n"
     ]
    },
    {
     "name": "stderr",
     "output_type": "stream",
     "text": [
      "100%|████████████████████████████████████████████████████████████████████████████████| 300/300 [01:31<00:00,  3.28it/s]\n"
     ]
    },
    {
     "name": "stdout",
     "output_type": "stream",
     "text": [
      "problem_solution_forum_pg_8701_8711 is done\n",
      "---------------------------------------------------------\n",
      "starting problem_solution_forum_pg_8711_8721\n"
     ]
    },
    {
     "name": "stderr",
     "output_type": "stream",
     "text": [
      "100%|████████████████████████████████████████████████████████████████████████████████| 300/300 [01:37<00:00,  3.07it/s]\n"
     ]
    },
    {
     "name": "stdout",
     "output_type": "stream",
     "text": [
      "problem_solution_forum_pg_8711_8721 is done\n",
      "---------------------------------------------------------\n",
      "starting problem_solution_forum_pg_8721_8731\n"
     ]
    },
    {
     "name": "stderr",
     "output_type": "stream",
     "text": [
      "100%|████████████████████████████████████████████████████████████████████████████████| 300/300 [01:35<00:00,  3.15it/s]\n"
     ]
    },
    {
     "name": "stdout",
     "output_type": "stream",
     "text": [
      "problem_solution_forum_pg_8721_8731 is done\n",
      "---------------------------------------------------------\n",
      "starting problem_solution_forum_pg_8731_8741\n"
     ]
    },
    {
     "name": "stderr",
     "output_type": "stream",
     "text": [
      "100%|████████████████████████████████████████████████████████████████████████████████| 300/300 [01:33<00:00,  3.22it/s]\n"
     ]
    },
    {
     "name": "stdout",
     "output_type": "stream",
     "text": [
      "problem_solution_forum_pg_8731_8741 is done\n",
      "---------------------------------------------------------\n",
      "starting problem_solution_forum_pg_8741_8751\n"
     ]
    },
    {
     "name": "stderr",
     "output_type": "stream",
     "text": [
      "100%|████████████████████████████████████████████████████████████████████████████████| 300/300 [01:29<00:00,  3.35it/s]\n"
     ]
    },
    {
     "name": "stdout",
     "output_type": "stream",
     "text": [
      "problem_solution_forum_pg_8741_8751 is done\n",
      "---------------------------------------------------------\n",
      "starting problem_solution_forum_pg_8751_8761\n"
     ]
    },
    {
     "name": "stderr",
     "output_type": "stream",
     "text": [
      "100%|████████████████████████████████████████████████████████████████████████████████| 300/300 [01:29<00:00,  3.35it/s]\n"
     ]
    },
    {
     "name": "stdout",
     "output_type": "stream",
     "text": [
      "problem_solution_forum_pg_8751_8761 is done\n",
      "---------------------------------------------------------\n",
      "starting problem_solution_forum_pg_8761_8771\n"
     ]
    },
    {
     "name": "stderr",
     "output_type": "stream",
     "text": [
      "100%|████████████████████████████████████████████████████████████████████████████████| 300/300 [01:31<00:00,  3.29it/s]\n"
     ]
    },
    {
     "name": "stdout",
     "output_type": "stream",
     "text": [
      "problem_solution_forum_pg_8761_8771 is done\n",
      "---------------------------------------------------------\n",
      "starting problem_solution_forum_pg_8771_8781\n"
     ]
    },
    {
     "name": "stderr",
     "output_type": "stream",
     "text": [
      "100%|████████████████████████████████████████████████████████████████████████████████| 300/300 [01:32<00:00,  3.26it/s]\n"
     ]
    },
    {
     "name": "stdout",
     "output_type": "stream",
     "text": [
      "problem_solution_forum_pg_8771_8781 is done\n",
      "---------------------------------------------------------\n",
      "starting problem_solution_forum_pg_8781_8791\n"
     ]
    },
    {
     "name": "stderr",
     "output_type": "stream",
     "text": [
      "100%|████████████████████████████████████████████████████████████████████████████████| 300/300 [01:36<00:00,  3.11it/s]\n"
     ]
    },
    {
     "name": "stdout",
     "output_type": "stream",
     "text": [
      "problem_solution_forum_pg_8781_8791 is done\n",
      "---------------------------------------------------------\n",
      "starting problem_solution_forum_pg_8791_8801\n"
     ]
    },
    {
     "name": "stderr",
     "output_type": "stream",
     "text": [
      "100%|████████████████████████████████████████████████████████████████████████████████| 300/300 [01:32<00:00,  3.25it/s]\n"
     ]
    },
    {
     "name": "stdout",
     "output_type": "stream",
     "text": [
      "problem_solution_forum_pg_8791_8801 is done\n",
      "---------------------------------------------------------\n",
      "starting problem_solution_forum_pg_8801_8811\n"
     ]
    },
    {
     "name": "stderr",
     "output_type": "stream",
     "text": [
      "100%|████████████████████████████████████████████████████████████████████████████████| 300/300 [01:28<00:00,  3.40it/s]\n"
     ]
    },
    {
     "name": "stdout",
     "output_type": "stream",
     "text": [
      "problem_solution_forum_pg_8801_8811 is done\n",
      "---------------------------------------------------------\n",
      "starting problem_solution_forum_pg_8811_8821\n"
     ]
    },
    {
     "name": "stderr",
     "output_type": "stream",
     "text": [
      "100%|████████████████████████████████████████████████████████████████████████████████| 300/300 [01:31<00:00,  3.29it/s]\n"
     ]
    },
    {
     "name": "stdout",
     "output_type": "stream",
     "text": [
      "problem_solution_forum_pg_8811_8821 is done\n",
      "---------------------------------------------------------\n",
      "starting problem_solution_forum_pg_8821_8831\n"
     ]
    },
    {
     "name": "stderr",
     "output_type": "stream",
     "text": [
      "100%|████████████████████████████████████████████████████████████████████████████████| 300/300 [01:44<00:00,  2.87it/s]\n"
     ]
    },
    {
     "name": "stdout",
     "output_type": "stream",
     "text": [
      "problem_solution_forum_pg_8821_8831 is done\n",
      "---------------------------------------------------------\n",
      "starting problem_solution_forum_pg_8831_8841\n"
     ]
    },
    {
     "name": "stderr",
     "output_type": "stream",
     "text": [
      "100%|████████████████████████████████████████████████████████████████████████████████| 300/300 [01:29<00:00,  3.35it/s]\n"
     ]
    },
    {
     "name": "stdout",
     "output_type": "stream",
     "text": [
      "problem_solution_forum_pg_8831_8841 is done\n",
      "---------------------------------------------------------\n",
      "starting problem_solution_forum_pg_8841_8851\n"
     ]
    },
    {
     "name": "stderr",
     "output_type": "stream",
     "text": [
      "100%|████████████████████████████████████████████████████████████████████████████████| 300/300 [01:40<00:00,  2.98it/s]\n"
     ]
    },
    {
     "name": "stdout",
     "output_type": "stream",
     "text": [
      "problem_solution_forum_pg_8841_8851 is done\n",
      "---------------------------------------------------------\n",
      "starting problem_solution_forum_pg_8851_8861\n"
     ]
    },
    {
     "name": "stderr",
     "output_type": "stream",
     "text": [
      "100%|████████████████████████████████████████████████████████████████████████████████| 300/300 [01:31<00:00,  3.28it/s]\n"
     ]
    },
    {
     "name": "stdout",
     "output_type": "stream",
     "text": [
      "problem_solution_forum_pg_8851_8861 is done\n",
      "---------------------------------------------------------\n",
      "starting problem_solution_forum_pg_8861_8871\n"
     ]
    },
    {
     "name": "stderr",
     "output_type": "stream",
     "text": [
      "100%|████████████████████████████████████████████████████████████████████████████████| 300/300 [01:29<00:00,  3.34it/s]\n"
     ]
    },
    {
     "name": "stdout",
     "output_type": "stream",
     "text": [
      "problem_solution_forum_pg_8861_8871 is done\n",
      "---------------------------------------------------------\n",
      "starting problem_solution_forum_pg_8871_8881\n"
     ]
    },
    {
     "name": "stderr",
     "output_type": "stream",
     "text": [
      "100%|████████████████████████████████████████████████████████████████████████████████| 300/300 [01:31<00:00,  3.27it/s]\n"
     ]
    },
    {
     "name": "stdout",
     "output_type": "stream",
     "text": [
      "problem_solution_forum_pg_8871_8881 is done\n",
      "---------------------------------------------------------\n",
      "starting problem_solution_forum_pg_8881_8891\n"
     ]
    },
    {
     "name": "stderr",
     "output_type": "stream",
     "text": [
      "100%|████████████████████████████████████████████████████████████████████████████████| 300/300 [01:35<00:00,  3.16it/s]\n"
     ]
    },
    {
     "name": "stdout",
     "output_type": "stream",
     "text": [
      "problem_solution_forum_pg_8881_8891 is done\n",
      "---------------------------------------------------------\n",
      "starting problem_solution_forum_pg_8891_8901\n"
     ]
    },
    {
     "name": "stderr",
     "output_type": "stream",
     "text": [
      "100%|████████████████████████████████████████████████████████████████████████████████| 300/300 [01:35<00:00,  3.15it/s]\n"
     ]
    },
    {
     "name": "stdout",
     "output_type": "stream",
     "text": [
      "problem_solution_forum_pg_8891_8901 is done\n",
      "---------------------------------------------------------\n",
      "starting problem_solution_forum_pg_8901_8911\n"
     ]
    },
    {
     "name": "stderr",
     "output_type": "stream",
     "text": [
      "100%|████████████████████████████████████████████████████████████████████████████████| 300/300 [01:29<00:00,  3.34it/s]\n"
     ]
    },
    {
     "name": "stdout",
     "output_type": "stream",
     "text": [
      "problem_solution_forum_pg_8901_8911 is done\n",
      "---------------------------------------------------------\n",
      "starting problem_solution_forum_pg_8911_8921\n"
     ]
    },
    {
     "name": "stderr",
     "output_type": "stream",
     "text": [
      "100%|████████████████████████████████████████████████████████████████████████████████| 300/300 [01:32<00:00,  3.25it/s]\n"
     ]
    },
    {
     "name": "stdout",
     "output_type": "stream",
     "text": [
      "problem_solution_forum_pg_8911_8921 is done\n",
      "---------------------------------------------------------\n",
      "starting problem_solution_forum_pg_8921_8931\n"
     ]
    },
    {
     "name": "stderr",
     "output_type": "stream",
     "text": [
      "100%|████████████████████████████████████████████████████████████████████████████████| 300/300 [01:30<00:00,  3.30it/s]\n"
     ]
    },
    {
     "name": "stdout",
     "output_type": "stream",
     "text": [
      "problem_solution_forum_pg_8921_8931 is done\n",
      "---------------------------------------------------------\n",
      "starting problem_solution_forum_pg_8931_8941\n"
     ]
    },
    {
     "name": "stderr",
     "output_type": "stream",
     "text": [
      "100%|████████████████████████████████████████████████████████████████████████████████| 300/300 [01:27<00:00,  3.42it/s]\n"
     ]
    },
    {
     "name": "stdout",
     "output_type": "stream",
     "text": [
      "problem_solution_forum_pg_8931_8941 is done\n",
      "---------------------------------------------------------\n",
      "starting problem_solution_forum_pg_8941_8951\n"
     ]
    },
    {
     "name": "stderr",
     "output_type": "stream",
     "text": [
      " 10%|████████▎                                                                        | 31/300 [01:10<10:10,  2.27s/it]\n"
     ]
    },
    {
     "name": "stdout",
     "output_type": "stream",
     "text": [
      "problem_solution_forum_pg_8941_8951 is done\n",
      "---------------------------------------------------------\n",
      "starting problem_solution_forum_pg_8951_8961\n"
     ]
    },
    {
     "name": "stderr",
     "output_type": "stream",
     "text": [
      "  0%|                                                                                          | 0/300 [01:19<?, ?it/s]\n"
     ]
    },
    {
     "ename": "AttributeError",
     "evalue": "'DataFrame' object has no attribute 'link'",
     "output_type": "error",
     "traceback": [
      "\u001b[1;31m---------------------------------------------------------------------------\u001b[0m",
      "\u001b[1;31mAttributeError\u001b[0m                            Traceback (most recent call last)",
      "Cell \u001b[1;32mIn[6], line 9\u001b[0m\n\u001b[0;32m      7\u001b[0m \u001b[38;5;28mprint\u001b[39m(\u001b[38;5;124mf\u001b[39m\u001b[38;5;124m\"\u001b[39m\u001b[38;5;124mstarting problem_solution_forum_pg_\u001b[39m\u001b[38;5;132;01m{\u001b[39;00mst_page\u001b[38;5;132;01m}\u001b[39;00m\u001b[38;5;124m_\u001b[39m\u001b[38;5;132;01m{\u001b[39;00mst_page\u001b[38;5;241m+\u001b[39m\u001b[38;5;241m10\u001b[39m\u001b[38;5;132;01m}\u001b[39;00m\u001b[38;5;124m\"\u001b[39m)\n\u001b[0;32m      8\u001b[0m problem_solution_forum \u001b[38;5;241m=\u001b[39m NiniCrawler\u001b[38;5;241m.\u001b[39mNiniSiteForumCrawler(\u001b[38;5;241m141\u001b[39m)\n\u001b[1;32m----> 9\u001b[0m \u001b[43mproblem_solution_forum\u001b[49m\u001b[38;5;241;43m.\u001b[39;49m\u001b[43mcrawl_topics_in_forum\u001b[49m\u001b[43m(\u001b[49m\u001b[43mst_page\u001b[49m\u001b[43m,\u001b[49m\u001b[43m \u001b[49m\u001b[43mnumber_pages\u001b[49m\u001b[38;5;241;43m=\u001b[39;49m\u001b[43mst_page\u001b[49m\u001b[38;5;241;43m+\u001b[39;49m\u001b[38;5;241;43m10\u001b[39;49m\u001b[43m)\u001b[49m\u001b[38;5;241m.\u001b[39mto_csv(\u001b[38;5;124mf\u001b[39m\u001b[38;5;124m'\u001b[39m\u001b[38;5;124mproblem_solution_forum_pg_\u001b[39m\u001b[38;5;132;01m{\u001b[39;00mst_page\u001b[38;5;132;01m}\u001b[39;00m\u001b[38;5;124m_\u001b[39m\u001b[38;5;132;01m{\u001b[39;00mst_page\u001b[38;5;241m+\u001b[39m\u001b[38;5;241m10\u001b[39m\u001b[38;5;132;01m}\u001b[39;00m\u001b[38;5;124m.csv\u001b[39m\u001b[38;5;124m'\u001b[39m, index\u001b[38;5;241m=\u001b[39m\u001b[38;5;28;01mFalse\u001b[39;00m)\n\u001b[0;32m     10\u001b[0m \u001b[38;5;28mprint\u001b[39m(\u001b[38;5;124mf\u001b[39m\u001b[38;5;124m\"\u001b[39m\u001b[38;5;124mproblem_solution_forum_pg_\u001b[39m\u001b[38;5;132;01m{\u001b[39;00mst_page\u001b[38;5;132;01m}\u001b[39;00m\u001b[38;5;124m_\u001b[39m\u001b[38;5;132;01m{\u001b[39;00mst_page\u001b[38;5;241m+\u001b[39m\u001b[38;5;241m10\u001b[39m\u001b[38;5;132;01m}\u001b[39;00m\u001b[38;5;124m is done\u001b[39m\u001b[38;5;124m\"\u001b[39m)\n\u001b[0;32m     11\u001b[0m \u001b[38;5;28mprint\u001b[39m(\u001b[38;5;124m\"\u001b[39m\u001b[38;5;124m---------------------------------------------------------\u001b[39m\u001b[38;5;124m\"\u001b[39m)\n",
      "File \u001b[1;32m~\\Documents\\GitHub\\ninisite_crawler\\NiniCrawler.py:82\u001b[0m, in \u001b[0;36mNiniSiteForumCrawler.crawl_topics_in_forum\u001b[1;34m(self, starting_page, number_pages)\u001b[0m\n\u001b[0;32m     78\u001b[0m             time\u001b[38;5;241m.\u001b[39msleep(\u001b[38;5;241m.05\u001b[39m) \n\u001b[0;32m     81\u001b[0m topics_df \u001b[38;5;241m=\u001b[39m pd\u001b[38;5;241m.\u001b[39mDataFrame(\u001b[38;5;28mself\u001b[39m\u001b[38;5;241m.\u001b[39mtopics_data)\n\u001b[1;32m---> 82\u001b[0m topics_df[\u001b[38;5;124m'\u001b[39m\u001b[38;5;124mtopic_id\u001b[39m\u001b[38;5;124m'\u001b[39m] \u001b[38;5;241m=\u001b[39m \u001b[43mtopics_df\u001b[49m\u001b[38;5;241;43m.\u001b[39;49m\u001b[43mlink\u001b[49m\u001b[38;5;241m.\u001b[39mapply(\u001b[38;5;28;01mlambda\u001b[39;00m x:\u001b[38;5;28mint\u001b[39m(x\u001b[38;5;241m.\u001b[39msplit(\u001b[38;5;124m'\u001b[39m\u001b[38;5;124m/\u001b[39m\u001b[38;5;124m'\u001b[39m)[\u001b[38;5;241m5\u001b[39m]))\n\u001b[0;32m     83\u001b[0m \u001b[38;5;28;01mreturn\u001b[39;00m topics_df\n",
      "File \u001b[1;32mC:\\ProgramData\\anaconda3\\lib\\site-packages\\pandas\\core\\generic.py:5902\u001b[0m, in \u001b[0;36mNDFrame.__getattr__\u001b[1;34m(self, name)\u001b[0m\n\u001b[0;32m   5895\u001b[0m \u001b[38;5;28;01mif\u001b[39;00m (\n\u001b[0;32m   5896\u001b[0m     name \u001b[38;5;129;01mnot\u001b[39;00m \u001b[38;5;129;01min\u001b[39;00m \u001b[38;5;28mself\u001b[39m\u001b[38;5;241m.\u001b[39m_internal_names_set\n\u001b[0;32m   5897\u001b[0m     \u001b[38;5;129;01mand\u001b[39;00m name \u001b[38;5;129;01mnot\u001b[39;00m \u001b[38;5;129;01min\u001b[39;00m \u001b[38;5;28mself\u001b[39m\u001b[38;5;241m.\u001b[39m_metadata\n\u001b[0;32m   5898\u001b[0m     \u001b[38;5;129;01mand\u001b[39;00m name \u001b[38;5;129;01mnot\u001b[39;00m \u001b[38;5;129;01min\u001b[39;00m \u001b[38;5;28mself\u001b[39m\u001b[38;5;241m.\u001b[39m_accessors\n\u001b[0;32m   5899\u001b[0m     \u001b[38;5;129;01mand\u001b[39;00m \u001b[38;5;28mself\u001b[39m\u001b[38;5;241m.\u001b[39m_info_axis\u001b[38;5;241m.\u001b[39m_can_hold_identifiers_and_holds_name(name)\n\u001b[0;32m   5900\u001b[0m ):\n\u001b[0;32m   5901\u001b[0m     \u001b[38;5;28;01mreturn\u001b[39;00m \u001b[38;5;28mself\u001b[39m[name]\n\u001b[1;32m-> 5902\u001b[0m \u001b[38;5;28;01mreturn\u001b[39;00m \u001b[38;5;28;43mobject\u001b[39;49m\u001b[38;5;241;43m.\u001b[39;49m\u001b[38;5;21;43m__getattribute__\u001b[39;49m\u001b[43m(\u001b[49m\u001b[38;5;28;43mself\u001b[39;49m\u001b[43m,\u001b[49m\u001b[43m \u001b[49m\u001b[43mname\u001b[49m\u001b[43m)\u001b[49m\n",
      "\u001b[1;31mAttributeError\u001b[0m: 'DataFrame' object has no attribute 'link'"
     ]
    }
   ],
   "source": [
    "import NiniCrawler\n",
    "import pandas as pd\n",
    "from tqdm import tqdm\n",
    "forum_code = 139\n",
    "page_batch_size = 25\n",
    "forum_title = \"spouse\"\n",
    "\n",
    "for st_page in range(1,5500,page_batch_size):\n",
    "    print(f\"{forum_title}_forum_pg_{st_page}_{st_page+page_batch_size}\")\n",
    "    forum = NiniCrawler.NiniSiteForumCrawler(forum_code)\n",
    "    forum.crawl_topics_in_forum(st_page, number_pages=st_page+page_batch_size).to_csv(f'{forum_titlef}_forum_pg_{st_page}_{st_page+page_batch_size}.csv', index=False)\n",
    "    print(f\"{forum_title}_forum_pg_{st_page}_{st_page+page_batch_size} is done\")\n",
    "    print(\"---------------------------------------------------------\")"
   ]
  },
  {
   "cell_type": "code",
   "execution_count": null,
   "id": "03571b7d",
   "metadata": {},
   "outputs": [],
   "source": []
  }
 ],
 "metadata": {
  "kernelspec": {
   "display_name": "Python 3 (ipykernel)",
   "language": "python",
   "name": "python3"
  },
  "language_info": {
   "codemirror_mode": {
    "name": "ipython",
    "version": 3
   },
   "file_extension": ".py",
   "mimetype": "text/x-python",
   "name": "python",
   "nbconvert_exporter": "python",
   "pygments_lexer": "ipython3",
   "version": "3.10.9"
  }
 },
 "nbformat": 4,
 "nbformat_minor": 5
}

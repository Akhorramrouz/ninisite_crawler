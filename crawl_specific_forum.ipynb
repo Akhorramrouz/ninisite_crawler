{
 "cells": [
  {
   "cell_type": "code",
   "execution_count": 1,
   "id": "1624c839",
   "metadata": {},
   "outputs": [
    {
     "name": "stdout",
     "output_type": "stream",
     "text": [
      "spouse_forum_pg_26_51\n"
     ]
    },
    {
     "name": "stderr",
     "output_type": "stream",
     "text": [
      "100%|████████████████████████████████████████████████████████████████████████████████| 750/750 [01:16<00:00,  9.86it/s]\n"
     ]
    },
    {
     "name": "stdout",
     "output_type": "stream",
     "text": [
      "spouse_forum_pg_26_51 is done\n",
      "---------------------------------------------------------\n",
      "spouse_forum_pg_51_76\n"
     ]
    },
    {
     "name": "stderr",
     "output_type": "stream",
     "text": [
      "100%|████████████████████████████████████████████████████████████████████████████████| 750/750 [01:17<00:00,  9.67it/s]\n"
     ]
    },
    {
     "name": "stdout",
     "output_type": "stream",
     "text": [
      "spouse_forum_pg_51_76 is done\n",
      "---------------------------------------------------------\n",
      "spouse_forum_pg_76_101\n"
     ]
    },
    {
     "name": "stderr",
     "output_type": "stream",
     "text": [
      "100%|████████████████████████████████████████████████████████████████████████████████| 750/750 [01:22<00:00,  9.06it/s]\n"
     ]
    },
    {
     "name": "stdout",
     "output_type": "stream",
     "text": [
      "spouse_forum_pg_76_101 is done\n",
      "---------------------------------------------------------\n",
      "spouse_forum_pg_101_126\n"
     ]
    },
    {
     "name": "stderr",
     "output_type": "stream",
     "text": [
      "100%|████████████████████████████████████████████████████████████████████████████████| 750/750 [01:28<00:00,  8.43it/s]\n"
     ]
    },
    {
     "name": "stdout",
     "output_type": "stream",
     "text": [
      "spouse_forum_pg_101_126 is done\n",
      "---------------------------------------------------------\n",
      "spouse_forum_pg_126_151\n"
     ]
    },
    {
     "name": "stderr",
     "output_type": "stream",
     "text": [
      "100%|████████████████████████████████████████████████████████████████████████████████| 750/750 [01:18<00:00,  9.58it/s]\n"
     ]
    },
    {
     "name": "stdout",
     "output_type": "stream",
     "text": [
      "spouse_forum_pg_126_151 is done\n",
      "---------------------------------------------------------\n",
      "spouse_forum_pg_151_176\n"
     ]
    },
    {
     "name": "stderr",
     "output_type": "stream",
     "text": [
      "100%|████████████████████████████████████████████████████████████████████████████████| 750/750 [01:21<00:00,  9.21it/s]\n"
     ]
    },
    {
     "name": "stdout",
     "output_type": "stream",
     "text": [
      "spouse_forum_pg_151_176 is done\n",
      "---------------------------------------------------------\n",
      "spouse_forum_pg_176_201\n"
     ]
    },
    {
     "name": "stderr",
     "output_type": "stream",
     "text": [
      "100%|████████████████████████████████████████████████████████████████████████████████| 750/750 [01:18<00:00,  9.58it/s]\n"
     ]
    },
    {
     "name": "stdout",
     "output_type": "stream",
     "text": [
      "spouse_forum_pg_176_201 is done\n",
      "---------------------------------------------------------\n",
      "spouse_forum_pg_201_226\n"
     ]
    },
    {
     "name": "stderr",
     "output_type": "stream",
     "text": [
      "100%|████████████████████████████████████████████████████████████████████████████████| 750/750 [01:19<00:00,  9.38it/s]\n"
     ]
    },
    {
     "name": "stdout",
     "output_type": "stream",
     "text": [
      "spouse_forum_pg_201_226 is done\n",
      "---------------------------------------------------------\n",
      "spouse_forum_pg_226_251\n"
     ]
    },
    {
     "name": "stderr",
     "output_type": "stream",
     "text": [
      "100%|████████████████████████████████████████████████████████████████████████████████| 750/750 [01:22<00:00,  9.13it/s]\n"
     ]
    },
    {
     "name": "stdout",
     "output_type": "stream",
     "text": [
      "spouse_forum_pg_226_251 is done\n",
      "---------------------------------------------------------\n",
      "spouse_forum_pg_251_276\n"
     ]
    },
    {
     "name": "stderr",
     "output_type": "stream",
     "text": [
      "100%|████████████████████████████████████████████████████████████████████████████████| 750/750 [01:20<00:00,  9.33it/s]\n"
     ]
    },
    {
     "name": "stdout",
     "output_type": "stream",
     "text": [
      "spouse_forum_pg_251_276 is done\n",
      "---------------------------------------------------------\n",
      "spouse_forum_pg_276_301\n"
     ]
    },
    {
     "name": "stderr",
     "output_type": "stream",
     "text": [
      "100%|████████████████████████████████████████████████████████████████████████████████| 750/750 [01:22<00:00,  9.10it/s]\n"
     ]
    },
    {
     "name": "stdout",
     "output_type": "stream",
     "text": [
      "spouse_forum_pg_276_301 is done\n",
      "---------------------------------------------------------\n",
      "spouse_forum_pg_301_326\n"
     ]
    },
    {
     "name": "stderr",
     "output_type": "stream",
     "text": [
      "100%|████████████████████████████████████████████████████████████████████████████████| 750/750 [01:23<00:00,  8.94it/s]\n"
     ]
    },
    {
     "name": "stdout",
     "output_type": "stream",
     "text": [
      "spouse_forum_pg_301_326 is done\n",
      "---------------------------------------------------------\n",
      "spouse_forum_pg_326_351\n"
     ]
    },
    {
     "name": "stderr",
     "output_type": "stream",
     "text": [
      "100%|████████████████████████████████████████████████████████████████████████████████| 750/750 [01:25<00:00,  8.82it/s]\n"
     ]
    },
    {
     "name": "stdout",
     "output_type": "stream",
     "text": [
      "spouse_forum_pg_326_351 is done\n",
      "---------------------------------------------------------\n",
      "spouse_forum_pg_351_376\n"
     ]
    },
    {
     "name": "stderr",
     "output_type": "stream",
     "text": [
      "100%|████████████████████████████████████████████████████████████████████████████████| 750/750 [01:22<00:00,  9.04it/s]\n"
     ]
    },
    {
     "name": "stdout",
     "output_type": "stream",
     "text": [
      "spouse_forum_pg_351_376 is done\n",
      "---------------------------------------------------------\n",
      "spouse_forum_pg_376_401\n"
     ]
    },
    {
     "name": "stderr",
     "output_type": "stream",
     "text": [
      "100%|████████████████████████████████████████████████████████████████████████████████| 750/750 [01:25<00:00,  8.79it/s]\n"
     ]
    },
    {
     "name": "stdout",
     "output_type": "stream",
     "text": [
      "spouse_forum_pg_376_401 is done\n",
      "---------------------------------------------------------\n",
      "spouse_forum_pg_401_426\n"
     ]
    },
    {
     "name": "stderr",
     "output_type": "stream",
     "text": [
      "100%|████████████████████████████████████████████████████████████████████████████████| 750/750 [01:22<00:00,  9.13it/s]\n"
     ]
    },
    {
     "name": "stdout",
     "output_type": "stream",
     "text": [
      "spouse_forum_pg_401_426 is done\n",
      "---------------------------------------------------------\n",
      "spouse_forum_pg_426_451\n"
     ]
    },
    {
     "name": "stderr",
     "output_type": "stream",
     "text": [
      "100%|████████████████████████████████████████████████████████████████████████████████| 750/750 [01:27<00:00,  8.59it/s]\n"
     ]
    },
    {
     "name": "stdout",
     "output_type": "stream",
     "text": [
      "spouse_forum_pg_426_451 is done\n",
      "---------------------------------------------------------\n",
      "spouse_forum_pg_451_476\n"
     ]
    },
    {
     "name": "stderr",
     "output_type": "stream",
     "text": [
      "100%|████████████████████████████████████████████████████████████████████████████████| 750/750 [01:27<00:00,  8.53it/s]\n"
     ]
    },
    {
     "name": "stdout",
     "output_type": "stream",
     "text": [
      "spouse_forum_pg_451_476 is done\n",
      "---------------------------------------------------------\n",
      "spouse_forum_pg_476_501\n"
     ]
    },
    {
     "name": "stderr",
     "output_type": "stream",
     "text": [
      "100%|████████████████████████████████████████████████████████████████████████████████| 750/750 [01:21<00:00,  9.17it/s]\n"
     ]
    },
    {
     "name": "stdout",
     "output_type": "stream",
     "text": [
      "spouse_forum_pg_476_501 is done\n",
      "---------------------------------------------------------\n",
      "spouse_forum_pg_501_526\n"
     ]
    },
    {
     "name": "stderr",
     "output_type": "stream",
     "text": [
      "100%|████████████████████████████████████████████████████████████████████████████████| 750/750 [01:27<00:00,  8.54it/s]\n"
     ]
    },
    {
     "name": "stdout",
     "output_type": "stream",
     "text": [
      "spouse_forum_pg_501_526 is done\n",
      "---------------------------------------------------------\n",
      "spouse_forum_pg_526_551\n"
     ]
    },
    {
     "name": "stderr",
     "output_type": "stream",
     "text": [
      "100%|████████████████████████████████████████████████████████████████████████████████| 750/750 [01:30<00:00,  8.30it/s]\n"
     ]
    },
    {
     "name": "stdout",
     "output_type": "stream",
     "text": [
      "spouse_forum_pg_526_551 is done\n",
      "---------------------------------------------------------\n",
      "spouse_forum_pg_551_576\n"
     ]
    },
    {
     "name": "stderr",
     "output_type": "stream",
     "text": [
      "100%|████████████████████████████████████████████████████████████████████████████████| 750/750 [01:37<00:00,  7.71it/s]\n"
     ]
    },
    {
     "name": "stdout",
     "output_type": "stream",
     "text": [
      "spouse_forum_pg_551_576 is done\n",
      "---------------------------------------------------------\n",
      "spouse_forum_pg_576_601\n"
     ]
    },
    {
     "name": "stderr",
     "output_type": "stream",
     "text": [
      "100%|████████████████████████████████████████████████████████████████████████████████| 750/750 [01:26<00:00,  8.71it/s]\n"
     ]
    },
    {
     "name": "stdout",
     "output_type": "stream",
     "text": [
      "spouse_forum_pg_576_601 is done\n",
      "---------------------------------------------------------\n",
      "spouse_forum_pg_601_626\n"
     ]
    },
    {
     "name": "stderr",
     "output_type": "stream",
     "text": [
      "100%|████████████████████████████████████████████████████████████████████████████████| 750/750 [01:25<00:00,  8.78it/s]\n"
     ]
    },
    {
     "name": "stdout",
     "output_type": "stream",
     "text": [
      "spouse_forum_pg_601_626 is done\n",
      "---------------------------------------------------------\n",
      "spouse_forum_pg_626_651\n"
     ]
    },
    {
     "name": "stderr",
     "output_type": "stream",
     "text": [
      "100%|████████████████████████████████████████████████████████████████████████████████| 750/750 [01:27<00:00,  8.56it/s]\n"
     ]
    },
    {
     "name": "stdout",
     "output_type": "stream",
     "text": [
      "spouse_forum_pg_626_651 is done\n",
      "---------------------------------------------------------\n",
      "spouse_forum_pg_651_676\n"
     ]
    },
    {
     "name": "stderr",
     "output_type": "stream",
     "text": [
      "100%|████████████████████████████████████████████████████████████████████████████████| 750/750 [01:27<00:00,  8.56it/s]\n"
     ]
    },
    {
     "name": "stdout",
     "output_type": "stream",
     "text": [
      "spouse_forum_pg_651_676 is done\n",
      "---------------------------------------------------------\n",
      "spouse_forum_pg_676_701\n"
     ]
    },
    {
     "name": "stderr",
     "output_type": "stream",
     "text": [
      "100%|████████████████████████████████████████████████████████████████████████████████| 750/750 [01:25<00:00,  8.76it/s]\n"
     ]
    },
    {
     "name": "stdout",
     "output_type": "stream",
     "text": [
      "spouse_forum_pg_676_701 is done\n",
      "---------------------------------------------------------\n",
      "spouse_forum_pg_701_726\n"
     ]
    },
    {
     "name": "stderr",
     "output_type": "stream",
     "text": [
      "100%|████████████████████████████████████████████████████████████████████████████████| 750/750 [01:25<00:00,  8.72it/s]\n"
     ]
    },
    {
     "name": "stdout",
     "output_type": "stream",
     "text": [
      "spouse_forum_pg_701_726 is done\n",
      "---------------------------------------------------------\n",
      "spouse_forum_pg_726_751\n"
     ]
    },
    {
     "name": "stderr",
     "output_type": "stream",
     "text": [
      "100%|████████████████████████████████████████████████████████████████████████████████| 750/750 [01:26<00:00,  8.63it/s]\n"
     ]
    },
    {
     "name": "stdout",
     "output_type": "stream",
     "text": [
      "spouse_forum_pg_726_751 is done\n",
      "---------------------------------------------------------\n",
      "spouse_forum_pg_751_776\n"
     ]
    },
    {
     "name": "stderr",
     "output_type": "stream",
     "text": [
      "100%|████████████████████████████████████████████████████████████████████████████████| 750/750 [01:28<00:00,  8.47it/s]\n"
     ]
    },
    {
     "name": "stdout",
     "output_type": "stream",
     "text": [
      "spouse_forum_pg_751_776 is done\n",
      "---------------------------------------------------------\n",
      "spouse_forum_pg_776_801\n"
     ]
    },
    {
     "name": "stderr",
     "output_type": "stream",
     "text": [
      "100%|████████████████████████████████████████████████████████████████████████████████| 750/750 [01:29<00:00,  8.38it/s]\n"
     ]
    },
    {
     "name": "stdout",
     "output_type": "stream",
     "text": [
      "spouse_forum_pg_776_801 is done\n",
      "---------------------------------------------------------\n",
      "spouse_forum_pg_801_826\n"
     ]
    },
    {
     "name": "stderr",
     "output_type": "stream",
     "text": [
      "100%|████████████████████████████████████████████████████████████████████████████████| 750/750 [01:35<00:00,  7.89it/s]\n"
     ]
    },
    {
     "name": "stdout",
     "output_type": "stream",
     "text": [
      "spouse_forum_pg_801_826 is done\n",
      "---------------------------------------------------------\n",
      "spouse_forum_pg_826_851\n"
     ]
    },
    {
     "name": "stderr",
     "output_type": "stream",
     "text": [
      "100%|████████████████████████████████████████████████████████████████████████████████| 750/750 [01:30<00:00,  8.27it/s]\n"
     ]
    },
    {
     "name": "stdout",
     "output_type": "stream",
     "text": [
      "spouse_forum_pg_826_851 is done\n",
      "---------------------------------------------------------\n",
      "spouse_forum_pg_851_876\n"
     ]
    },
    {
     "name": "stderr",
     "output_type": "stream",
     "text": [
      "100%|████████████████████████████████████████████████████████████████████████████████| 750/750 [01:34<00:00,  7.92it/s]\n"
     ]
    },
    {
     "name": "stdout",
     "output_type": "stream",
     "text": [
      "spouse_forum_pg_851_876 is done\n",
      "---------------------------------------------------------\n",
      "spouse_forum_pg_876_901\n"
     ]
    },
    {
     "name": "stderr",
     "output_type": "stream",
     "text": [
      "100%|████████████████████████████████████████████████████████████████████████████████| 750/750 [01:33<00:00,  8.06it/s]\n"
     ]
    },
    {
     "name": "stdout",
     "output_type": "stream",
     "text": [
      "spouse_forum_pg_876_901 is done\n",
      "---------------------------------------------------------\n",
      "spouse_forum_pg_901_926\n"
     ]
    },
    {
     "name": "stderr",
     "output_type": "stream",
     "text": [
      "100%|████████████████████████████████████████████████████████████████████████████████| 750/750 [01:37<00:00,  7.72it/s]\n"
     ]
    },
    {
     "name": "stdout",
     "output_type": "stream",
     "text": [
      "spouse_forum_pg_901_926 is done\n",
      "---------------------------------------------------------\n",
      "spouse_forum_pg_926_951\n"
     ]
    },
    {
     "name": "stderr",
     "output_type": "stream",
     "text": [
      "100%|████████████████████████████████████████████████████████████████████████████████| 750/750 [01:31<00:00,  8.21it/s]\n"
     ]
    },
    {
     "name": "stdout",
     "output_type": "stream",
     "text": [
      "spouse_forum_pg_926_951 is done\n",
      "---------------------------------------------------------\n",
      "spouse_forum_pg_951_976\n"
     ]
    },
    {
     "name": "stderr",
     "output_type": "stream",
     "text": [
      "100%|████████████████████████████████████████████████████████████████████████████████| 750/750 [01:36<00:00,  7.75it/s]\n"
     ]
    },
    {
     "name": "stdout",
     "output_type": "stream",
     "text": [
      "spouse_forum_pg_951_976 is done\n",
      "---------------------------------------------------------\n",
      "spouse_forum_pg_976_1001\n"
     ]
    },
    {
     "name": "stderr",
     "output_type": "stream",
     "text": [
      "100%|████████████████████████████████████████████████████████████████████████████████| 750/750 [01:32<00:00,  8.09it/s]\n"
     ]
    },
    {
     "name": "stdout",
     "output_type": "stream",
     "text": [
      "spouse_forum_pg_976_1001 is done\n",
      "---------------------------------------------------------\n",
      "spouse_forum_pg_1001_1026\n"
     ]
    },
    {
     "name": "stderr",
     "output_type": "stream",
     "text": [
      "100%|████████████████████████████████████████████████████████████████████████████████| 750/750 [01:39<00:00,  7.55it/s]\n"
     ]
    },
    {
     "name": "stdout",
     "output_type": "stream",
     "text": [
      "spouse_forum_pg_1001_1026 is done\n",
      "---------------------------------------------------------\n",
      "spouse_forum_pg_1026_1051\n"
     ]
    },
    {
     "name": "stderr",
     "output_type": "stream",
     "text": [
      "100%|████████████████████████████████████████████████████████████████████████████████| 750/750 [01:32<00:00,  8.09it/s]\n"
     ]
    },
    {
     "name": "stdout",
     "output_type": "stream",
     "text": [
      "spouse_forum_pg_1026_1051 is done\n",
      "---------------------------------------------------------\n",
      "spouse_forum_pg_1051_1076\n"
     ]
    },
    {
     "name": "stderr",
     "output_type": "stream",
     "text": [
      "100%|████████████████████████████████████████████████████████████████████████████████| 750/750 [01:40<00:00,  7.47it/s]\n"
     ]
    },
    {
     "name": "stdout",
     "output_type": "stream",
     "text": [
      "spouse_forum_pg_1051_1076 is done\n",
      "---------------------------------------------------------\n",
      "spouse_forum_pg_1076_1101\n"
     ]
    },
    {
     "name": "stderr",
     "output_type": "stream",
     "text": [
      "100%|████████████████████████████████████████████████████████████████████████████████| 750/750 [01:40<00:00,  7.50it/s]\n"
     ]
    },
    {
     "name": "stdout",
     "output_type": "stream",
     "text": [
      "spouse_forum_pg_1076_1101 is done\n",
      "---------------------------------------------------------\n",
      "spouse_forum_pg_1101_1126\n"
     ]
    },
    {
     "name": "stderr",
     "output_type": "stream",
     "text": [
      "100%|████████████████████████████████████████████████████████████████████████████████| 750/750 [01:33<00:00,  8.04it/s]\n"
     ]
    },
    {
     "name": "stdout",
     "output_type": "stream",
     "text": [
      "spouse_forum_pg_1101_1126 is done\n",
      "---------------------------------------------------------\n",
      "spouse_forum_pg_1126_1151\n"
     ]
    },
    {
     "name": "stderr",
     "output_type": "stream",
     "text": [
      "100%|████████████████████████████████████████████████████████████████████████████████| 750/750 [01:36<00:00,  7.74it/s]\n"
     ]
    },
    {
     "name": "stdout",
     "output_type": "stream",
     "text": [
      "spouse_forum_pg_1126_1151 is done\n",
      "---------------------------------------------------------\n",
      "spouse_forum_pg_1151_1176\n"
     ]
    },
    {
     "name": "stderr",
     "output_type": "stream",
     "text": [
      "100%|████████████████████████████████████████████████████████████████████████████████| 750/750 [01:36<00:00,  7.74it/s]\n"
     ]
    },
    {
     "name": "stdout",
     "output_type": "stream",
     "text": [
      "spouse_forum_pg_1151_1176 is done\n",
      "---------------------------------------------------------\n",
      "spouse_forum_pg_1176_1201\n"
     ]
    },
    {
     "name": "stderr",
     "output_type": "stream",
     "text": [
      "100%|████████████████████████████████████████████████████████████████████████████████| 750/750 [01:39<00:00,  7.51it/s]\n"
     ]
    },
    {
     "name": "stdout",
     "output_type": "stream",
     "text": [
      "spouse_forum_pg_1176_1201 is done\n",
      "---------------------------------------------------------\n",
      "spouse_forum_pg_1201_1226\n"
     ]
    },
    {
     "name": "stderr",
     "output_type": "stream",
     "text": [
      "100%|████████████████████████████████████████████████████████████████████████████████| 750/750 [01:32<00:00,  8.09it/s]\n"
     ]
    },
    {
     "name": "stdout",
     "output_type": "stream",
     "text": [
      "spouse_forum_pg_1201_1226 is done\n",
      "---------------------------------------------------------\n",
      "spouse_forum_pg_1226_1251\n"
     ]
    },
    {
     "name": "stderr",
     "output_type": "stream",
     "text": [
      "100%|████████████████████████████████████████████████████████████████████████████████| 750/750 [01:37<00:00,  7.72it/s]\n"
     ]
    },
    {
     "name": "stdout",
     "output_type": "stream",
     "text": [
      "spouse_forum_pg_1226_1251 is done\n",
      "---------------------------------------------------------\n",
      "spouse_forum_pg_1251_1276\n"
     ]
    },
    {
     "name": "stderr",
     "output_type": "stream",
     "text": [
      "100%|████████████████████████████████████████████████████████████████████████████████| 750/750 [01:38<00:00,  7.61it/s]\n"
     ]
    },
    {
     "name": "stdout",
     "output_type": "stream",
     "text": [
      "spouse_forum_pg_1251_1276 is done\n",
      "---------------------------------------------------------\n",
      "spouse_forum_pg_1276_1301\n"
     ]
    },
    {
     "name": "stderr",
     "output_type": "stream",
     "text": [
      "100%|████████████████████████████████████████████████████████████████████████████████| 750/750 [01:40<00:00,  7.44it/s]\n"
     ]
    },
    {
     "name": "stdout",
     "output_type": "stream",
     "text": [
      "spouse_forum_pg_1276_1301 is done\n",
      "---------------------------------------------------------\n",
      "spouse_forum_pg_1301_1326\n"
     ]
    },
    {
     "name": "stderr",
     "output_type": "stream",
     "text": [
      "100%|████████████████████████████████████████████████████████████████████████████████| 750/750 [01:38<00:00,  7.64it/s]\n"
     ]
    },
    {
     "name": "stdout",
     "output_type": "stream",
     "text": [
      "spouse_forum_pg_1301_1326 is done\n",
      "---------------------------------------------------------\n",
      "spouse_forum_pg_1326_1351\n"
     ]
    },
    {
     "name": "stderr",
     "output_type": "stream",
     "text": [
      "100%|████████████████████████████████████████████████████████████████████████████████| 750/750 [01:36<00:00,  7.74it/s]\n"
     ]
    },
    {
     "name": "stdout",
     "output_type": "stream",
     "text": [
      "spouse_forum_pg_1326_1351 is done\n",
      "---------------------------------------------------------\n",
      "spouse_forum_pg_1351_1376\n"
     ]
    },
    {
     "name": "stderr",
     "output_type": "stream",
     "text": [
      "100%|████████████████████████████████████████████████████████████████████████████████| 750/750 [01:37<00:00,  7.70it/s]\n"
     ]
    },
    {
     "name": "stdout",
     "output_type": "stream",
     "text": [
      "spouse_forum_pg_1351_1376 is done\n",
      "---------------------------------------------------------\n",
      "spouse_forum_pg_1376_1401\n"
     ]
    },
    {
     "name": "stderr",
     "output_type": "stream",
     "text": [
      "100%|████████████████████████████████████████████████████████████████████████████████| 750/750 [01:44<00:00,  7.19it/s]\n"
     ]
    },
    {
     "name": "stdout",
     "output_type": "stream",
     "text": [
      "spouse_forum_pg_1376_1401 is done\n",
      "---------------------------------------------------------\n",
      "spouse_forum_pg_1401_1426\n"
     ]
    },
    {
     "name": "stderr",
     "output_type": "stream",
     "text": [
      "100%|████████████████████████████████████████████████████████████████████████████████| 750/750 [01:35<00:00,  7.82it/s]\n"
     ]
    },
    {
     "name": "stdout",
     "output_type": "stream",
     "text": [
      "spouse_forum_pg_1401_1426 is done\n",
      "---------------------------------------------------------\n",
      "spouse_forum_pg_1426_1451\n"
     ]
    },
    {
     "name": "stderr",
     "output_type": "stream",
     "text": [
      "100%|████████████████████████████████████████████████████████████████████████████████| 750/750 [01:47<00:00,  6.96it/s]\n"
     ]
    },
    {
     "name": "stdout",
     "output_type": "stream",
     "text": [
      "spouse_forum_pg_1426_1451 is done\n",
      "---------------------------------------------------------\n",
      "spouse_forum_pg_1451_1476\n"
     ]
    },
    {
     "name": "stderr",
     "output_type": "stream",
     "text": [
      "100%|████████████████████████████████████████████████████████████████████████████████| 750/750 [01:48<00:00,  6.94it/s]\n"
     ]
    },
    {
     "name": "stdout",
     "output_type": "stream",
     "text": [
      "spouse_forum_pg_1451_1476 is done\n",
      "---------------------------------------------------------\n",
      "spouse_forum_pg_1476_1501\n"
     ]
    },
    {
     "name": "stderr",
     "output_type": "stream",
     "text": [
      "100%|████████████████████████████████████████████████████████████████████████████████| 750/750 [01:43<00:00,  7.23it/s]\n"
     ]
    },
    {
     "name": "stdout",
     "output_type": "stream",
     "text": [
      "spouse_forum_pg_1476_1501 is done\n",
      "---------------------------------------------------------\n",
      "spouse_forum_pg_1501_1526\n"
     ]
    },
    {
     "name": "stderr",
     "output_type": "stream",
     "text": [
      "100%|████████████████████████████████████████████████████████████████████████████████| 750/750 [01:42<00:00,  7.34it/s]\n"
     ]
    },
    {
     "name": "stdout",
     "output_type": "stream",
     "text": [
      "spouse_forum_pg_1501_1526 is done\n",
      "---------------------------------------------------------\n",
      "spouse_forum_pg_1526_1551\n"
     ]
    },
    {
     "name": "stderr",
     "output_type": "stream",
     "text": [
      "100%|████████████████████████████████████████████████████████████████████████████████| 750/750 [02:17<00:00,  5.47it/s]\n"
     ]
    },
    {
     "name": "stdout",
     "output_type": "stream",
     "text": [
      "spouse_forum_pg_1526_1551 is done\n",
      "---------------------------------------------------------\n",
      "spouse_forum_pg_1551_1576\n"
     ]
    },
    {
     "name": "stderr",
     "output_type": "stream",
     "text": [
      "100%|████████████████████████████████████████████████████████████████████████████████| 750/750 [02:14<00:00,  5.59it/s]\n"
     ]
    },
    {
     "name": "stdout",
     "output_type": "stream",
     "text": [
      "spouse_forum_pg_1551_1576 is done\n",
      "---------------------------------------------------------\n",
      "spouse_forum_pg_1576_1601\n"
     ]
    },
    {
     "name": "stderr",
     "output_type": "stream",
     "text": [
      "100%|████████████████████████████████████████████████████████████████████████████████| 750/750 [02:13<00:00,  5.62it/s]\n"
     ]
    },
    {
     "name": "stdout",
     "output_type": "stream",
     "text": [
      "spouse_forum_pg_1576_1601 is done\n",
      "---------------------------------------------------------\n",
      "spouse_forum_pg_1601_1626\n"
     ]
    },
    {
     "name": "stderr",
     "output_type": "stream",
     "text": [
      "100%|████████████████████████████████████████████████████████████████████████████████| 750/750 [02:16<00:00,  5.49it/s]\n"
     ]
    },
    {
     "name": "stdout",
     "output_type": "stream",
     "text": [
      "spouse_forum_pg_1601_1626 is done\n",
      "---------------------------------------------------------\n",
      "spouse_forum_pg_1626_1651\n"
     ]
    },
    {
     "name": "stderr",
     "output_type": "stream",
     "text": [
      "100%|████████████████████████████████████████████████████████████████████████████████| 750/750 [02:16<00:00,  5.51it/s]\n"
     ]
    },
    {
     "name": "stdout",
     "output_type": "stream",
     "text": [
      "spouse_forum_pg_1626_1651 is done\n",
      "---------------------------------------------------------\n",
      "spouse_forum_pg_1651_1676\n"
     ]
    },
    {
     "name": "stderr",
     "output_type": "stream",
     "text": [
      "100%|████████████████████████████████████████████████████████████████████████████████| 750/750 [02:09<00:00,  5.81it/s]\n"
     ]
    },
    {
     "name": "stdout",
     "output_type": "stream",
     "text": [
      "spouse_forum_pg_1651_1676 is done\n",
      "---------------------------------------------------------\n",
      "spouse_forum_pg_1676_1701\n"
     ]
    },
    {
     "name": "stderr",
     "output_type": "stream",
     "text": [
      "100%|████████████████████████████████████████████████████████████████████████████████| 750/750 [02:15<00:00,  5.55it/s]\n"
     ]
    },
    {
     "name": "stdout",
     "output_type": "stream",
     "text": [
      "spouse_forum_pg_1676_1701 is done\n",
      "---------------------------------------------------------\n",
      "spouse_forum_pg_1701_1726\n"
     ]
    },
    {
     "name": "stderr",
     "output_type": "stream",
     "text": [
      "100%|████████████████████████████████████████████████████████████████████████████████| 750/750 [02:14<00:00,  5.58it/s]\n"
     ]
    },
    {
     "name": "stdout",
     "output_type": "stream",
     "text": [
      "spouse_forum_pg_1701_1726 is done\n",
      "---------------------------------------------------------\n",
      "spouse_forum_pg_1726_1751\n"
     ]
    },
    {
     "name": "stderr",
     "output_type": "stream",
     "text": [
      "100%|████████████████████████████████████████████████████████████████████████████████| 750/750 [02:16<00:00,  5.51it/s]\n"
     ]
    },
    {
     "name": "stdout",
     "output_type": "stream",
     "text": [
      "spouse_forum_pg_1726_1751 is done\n",
      "---------------------------------------------------------\n",
      "spouse_forum_pg_1751_1776\n"
     ]
    },
    {
     "name": "stderr",
     "output_type": "stream",
     "text": [
      "100%|████████████████████████████████████████████████████████████████████████████████| 750/750 [02:15<00:00,  5.55it/s]\n"
     ]
    },
    {
     "name": "stdout",
     "output_type": "stream",
     "text": [
      "spouse_forum_pg_1751_1776 is done\n",
      "---------------------------------------------------------\n",
      "spouse_forum_pg_1776_1801\n"
     ]
    },
    {
     "name": "stderr",
     "output_type": "stream",
     "text": [
      "100%|████████████████████████████████████████████████████████████████████████████████| 750/750 [02:17<00:00,  5.46it/s]\n"
     ]
    },
    {
     "name": "stdout",
     "output_type": "stream",
     "text": [
      "spouse_forum_pg_1776_1801 is done\n",
      "---------------------------------------------------------\n",
      "spouse_forum_pg_1801_1826\n"
     ]
    },
    {
     "name": "stderr",
     "output_type": "stream",
     "text": [
      "100%|████████████████████████████████████████████████████████████████████████████████| 750/750 [02:19<00:00,  5.39it/s]\n"
     ]
    },
    {
     "name": "stdout",
     "output_type": "stream",
     "text": [
      "spouse_forum_pg_1801_1826 is done\n",
      "---------------------------------------------------------\n",
      "spouse_forum_pg_1826_1851\n"
     ]
    },
    {
     "name": "stderr",
     "output_type": "stream",
     "text": [
      "100%|████████████████████████████████████████████████████████████████████████████████| 750/750 [02:12<00:00,  5.67it/s]\n"
     ]
    },
    {
     "name": "stdout",
     "output_type": "stream",
     "text": [
      "spouse_forum_pg_1826_1851 is done\n",
      "---------------------------------------------------------\n",
      "spouse_forum_pg_1851_1876\n"
     ]
    },
    {
     "name": "stderr",
     "output_type": "stream",
     "text": [
      "100%|████████████████████████████████████████████████████████████████████████████████| 750/750 [02:16<00:00,  5.50it/s]\n"
     ]
    },
    {
     "name": "stdout",
     "output_type": "stream",
     "text": [
      "spouse_forum_pg_1851_1876 is done\n",
      "---------------------------------------------------------\n",
      "spouse_forum_pg_1876_1901\n"
     ]
    },
    {
     "name": "stderr",
     "output_type": "stream",
     "text": [
      "100%|████████████████████████████████████████████████████████████████████████████████| 750/750 [02:21<00:00,  5.31it/s]\n"
     ]
    },
    {
     "name": "stdout",
     "output_type": "stream",
     "text": [
      "spouse_forum_pg_1876_1901 is done\n",
      "---------------------------------------------------------\n",
      "spouse_forum_pg_1901_1926\n"
     ]
    },
    {
     "name": "stderr",
     "output_type": "stream",
     "text": [
      "100%|████████████████████████████████████████████████████████████████████████████████| 750/750 [02:18<00:00,  5.41it/s]\n"
     ]
    },
    {
     "name": "stdout",
     "output_type": "stream",
     "text": [
      "spouse_forum_pg_1901_1926 is done\n",
      "---------------------------------------------------------\n",
      "spouse_forum_pg_1926_1951\n"
     ]
    },
    {
     "name": "stderr",
     "output_type": "stream",
     "text": [
      "100%|████████████████████████████████████████████████████████████████████████████████| 750/750 [02:23<00:00,  5.23it/s]\n"
     ]
    },
    {
     "name": "stdout",
     "output_type": "stream",
     "text": [
      "spouse_forum_pg_1926_1951 is done\n",
      "---------------------------------------------------------\n",
      "spouse_forum_pg_1951_1976\n"
     ]
    },
    {
     "name": "stderr",
     "output_type": "stream",
     "text": [
      "100%|████████████████████████████████████████████████████████████████████████████████| 750/750 [02:16<00:00,  5.48it/s]\n"
     ]
    },
    {
     "name": "stdout",
     "output_type": "stream",
     "text": [
      "spouse_forum_pg_1951_1976 is done\n",
      "---------------------------------------------------------\n",
      "spouse_forum_pg_1976_2001\n"
     ]
    },
    {
     "name": "stderr",
     "output_type": "stream",
     "text": [
      "100%|████████████████████████████████████████████████████████████████████████████████| 750/750 [02:15<00:00,  5.52it/s]"
     ]
    },
    {
     "name": "stdout",
     "output_type": "stream",
     "text": [
      "spouse_forum_pg_1976_2001 is done\n",
      "---------------------------------------------------------\n"
     ]
    },
    {
     "name": "stderr",
     "output_type": "stream",
     "text": [
      "\n"
     ]
    }
   ],
   "source": [
    "import NiniCrawler\n",
    "import pandas as pd\n",
    "from tqdm import tqdm\n",
    "forum_code = 139\n",
    "page_batch_size = 25\n",
    "forum_title = \"spouse\"\n",
    "\n",
    "for st_page in range(26,2000,page_batch_size):\n",
    "    print(f\"{forum_title}_forum_pg_{st_page}_{st_page+page_batch_size}\")\n",
    "    forum = NiniCrawler.NiniSiteForumCrawler(forum_code)\n",
    "    forum.crawl_topics_in_forum(st_page, number_pages=st_page+page_batch_size).to_csv(f'{forum_title}_forum_pg_{st_page}_{st_page+page_batch_size}.csv', index=False)\n",
    "    print(f\"{forum_title}_forum_pg_{st_page}_{st_page+page_batch_size} is done\")\n",
    "    print(\"---------------------------------------------------------\")"
   ]
  },
  {
   "cell_type": "code",
   "execution_count": null,
   "id": "03571b7d",
   "metadata": {},
   "outputs": [],
   "source": []
  }
 ],
 "metadata": {
  "kernelspec": {
   "display_name": "Python 3 (ipykernel)",
   "language": "python",
   "name": "python3"
  },
  "language_info": {
   "codemirror_mode": {
    "name": "ipython",
    "version": 3
   },
   "file_extension": ".py",
   "mimetype": "text/x-python",
   "name": "python",
   "nbconvert_exporter": "python",
   "pygments_lexer": "ipython3",
   "version": "3.10.9"
  }
 },
 "nbformat": 4,
 "nbformat_minor": 5
}

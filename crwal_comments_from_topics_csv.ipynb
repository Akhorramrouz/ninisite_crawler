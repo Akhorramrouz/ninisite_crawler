{
 "cells": [
  {
   "cell_type": "code",
   "execution_count": 11,
   "id": "ee72e2a9",
   "metadata": {},
   "outputs": [],
   "source": [
    "import pandas as pd\n",
    "import NiniCrawler\n",
    "import os"
   ]
  },
  {
   "cell_type": "code",
   "execution_count": 12,
   "id": "c04ebde8",
   "metadata": {},
   "outputs": [],
   "source": [
    "df = pd.read_csv('All_topics_141/problem_solution_topics_p_1',index_col=0)"
   ]
  },
  {
   "cell_type": "code",
   "execution_count": null,
   "id": "8e6035a9",
   "metadata": {},
   "outputs": [
    {
     "name": "stderr",
     "output_type": "stream",
     "text": [
      " 53%|███████████████████████████████████████████▋                                      | 32/60 [00:04<00:03,  7.32it/s]\n"
     ]
    },
    {
     "name": "stdout",
     "output_type": "stream",
     "text": [
      "Erorr\n"
     ]
    },
    {
     "name": "stderr",
     "output_type": "stream",
     "text": [
      " 92%|█████████████████████████████████████████████████████████████████████████▋      | 129/140 [00:16<00:01,  7.81it/s]\n",
      " 95%|█████████████████████████████████████████████████████████████████████████████▉    | 19/20 [00:03<00:00,  6.15it/s]\n",
      "  5%|████▏                                                                              | 1/20 [00:00<00:10,  1.73it/s]"
     ]
    }
   ],
   "source": [
    "c = 0\n",
    "faulty_topic_ids = []\n",
    "for topic_id in df.topic_id:\n",
    "    if f\"{topic_id}_comments.csv\" in os.listdir('problem_solution_comments_p_1/'):\n",
    "        continue\n",
    "        \n",
    "        \n",
    "    try:\n",
    "        c += 1\n",
    "        if c%1000 == 0:\n",
    "            print(f\"****************  {c}  ************************\")\n",
    "        cmnt_crawler = NiniCrawler.NinisiteTopicCrawler(topic_id)\n",
    "        cmnt_crawler.crawl_comments_in_topic(folder_path='problem_solution_comments_p_1')\n",
    "        \n",
    "    except:\n",
    "        print('Erorr')\n",
    "        faulty_topic_ids.append(topic_id)"
   ]
  },
  {
   "cell_type": "code",
   "execution_count": 10,
   "id": "7cba3806",
   "metadata": {},
   "outputs": [
    {
     "data": {
      "text/plain": [
       "10387743"
      ]
     },
     "execution_count": 10,
     "metadata": {},
     "output_type": "execute_result"
    }
   ],
   "source": [
    "topic_id"
   ]
  },
  {
   "cell_type": "code",
   "execution_count": 9,
   "id": "2ae099e4",
   "metadata": {},
   "outputs": [
    {
     "data": {
      "text/plain": [
       "<article class=\"topic-post m-b-1 p-b-0 clearfix\" id=\"post-275055435\" itemscope=\"\" itemtype=\"http://schema.org/Comment\">\n",
       "<div class=\"col-xs-12 col-sm-12 offset-sm-0 offset-md-0 col-md-4 col-lg-4 col-xl-3 p-x-0 topic-post__statistical pull-sm-left pull-md-right\">\n",
       "<div class=\"col-xs-12 topic-post__user-info user-info\" data-user-id=\"1b7393dc-e554-4ee2-a89c-72130d6ce063\" itemprop=\"creator\" itemscope=\"\" itemtype=\"http://schema.org/Person\">\n",
       "<a class=\"col-xs-3 col-md-12 pull-xs-right text-xs-right text-md-center text-sm-center p-x-1\" href=\"/user/1b7393dc-e554-4ee2-a89c-72130d6ce063/%d9%86%db%8c-%d9%86%db%8c-%db%8c%d8%a7%d8%b1-%d8%b4%d8%a8\" rel=\"noopener\" target=\"_blank\">\n",
       "<img alt=\"نی_نی_یار_شب\" class=\"avatar lazy\" data-original=\"https://s3.ninifile.com/statics/profile/2022/12/d6dfc6d1-afe7-4b8c-8e6e-7e89f731b6f5/fe82d278-1102-4340-abe8-2bb8d8ac29fa.jpg?width=80&amp;height=85&amp;crop&amp;bgcolor=white\" height=\"85\" src=\"https://s1.ninifile.com/statics/default/blank-loading.png?width=80&amp;height=85&amp;crop&amp;bgcolor=white\" width=\"80\"/>\n",
       "<div class=\"user-status\">\n",
       "<span class=\"offline\"></span>\n",
       "</div>\n",
       "</a>\n",
       "<a class=\"col-xs-9 col-md-12 text-md-center text-xs-right nickname moderator\" href=\"/user/1b7393dc-e554-4ee2-a89c-72130d6ce063/%d9%86%db%8c-%d9%86%db%8c-%db%8c%d8%a7%d8%b1-%d8%b4%d8%a8\" itemprop=\"name\" rel=\"noopener\" target=\"_blank\">\n",
       "         نی_نی_یار_شب \n",
       "    </a>\n",
       "<div class=\"col-xs-9 col-md-12 text-md-center text-xs-right icon\">\n",
       "<span>نی نی یار</span>\n",
       "</div>\n",
       "<div class=\"col-xs-9 col-md-12 text-md-center p-x-0\">\n",
       "<div class=\"text-xs-right pull-xs-right pull-sm-right pull-md-none text-md-center reg-date\">\n",
       "<span>عضویت: 1399/02/30</span>\n",
       "</div>\n",
       "<div class=\"text-xs-right pull-sm-right pull-md-none text-md-center post-count\">\n",
       "<span>\n",
       "                تعداد پست: 30264\n",
       "            </span>\n",
       "</div>\n",
       "</div>\n",
       "</div> </div>\n",
       "<div class=\"col-xs-12 col-sm-12 col-md-8 col-lg-8 col-xl-9 p-x-0 topic-post__body direction-rtl nini-medium\" itemprop=\"text\">\n",
       "<div class=\"col-xs-12 p-x-0 postbody\">\n",
       "<div class=\"col-xs-12 p-x-1\">\n",
       "</div>\n",
       "<div class=\"post-message topic-post__message col-xs-12 fr-view m-b-1 p-x-1\">\n",
       "<p>ممنون از لطفتون<span class=\"fr-emoticon fr-deletable fr-emoticon-img\" style='background: url(\"https://cdnjs.cloudflare.com/ajax/libs/emojione/2.0.1/assets/svg/1f60d.svg\")'> </span> </p>\n",
       "</div>\n",
       "<div class=\"edit-post-container p-x-1\"></div>\n",
       "<div class=\"col-xs-12 p-x-1\">\n",
       "<div class=\"col-xs-12 m-b-1 topic--bar direction-rtl\">\n",
       "<div class=\"col-xs-12 showmore topic-post__signature fr-view\">\n",
       "<i aria-hidden=\"true\" class=\"iconsignature pull-xs-right\"></i>\n",
       "                ❌کاربران محترم حذف تاپیک با من نیست و برای تعلیق شدن لطفا فقط منو تگ کنید ❌\n",
       "            </div>\n",
       "</div>\n",
       "</div>\n",
       "</div>\n",
       "<div class=\"col-xs-12 p-x-0 postfooter\">\n",
       "<div class=\"col-xs-6 created-post text-xs-left p-x-1 m-t-0\">\n",
       "<div class=\"d-inline-block\">\n",
       "<span class=\"date\">1401/11/29</span>\n",
       "</div> |\n",
       "    <div class=\"d-inline-block\">\n",
       "<span class=\"time\">01:30</span>\n",
       "</div>\n",
       "</div>\n",
       "<div class=\"col-xs-6 pull-xs-right text-xs-right m-b-1 p-x-1\">\n",
       "<a class=\"like-count fancy__text\" data-id=\"275055435\" data-like-count=\"1\" data-target=\"#likelistModal\" data-toggle=\"modal\">\n",
       "<span>1</span>  نفر لایک کرده اند ... \n",
       "\t</a>\n",
       "</div>\n",
       "<div class=\"col-xs-12 topic-post__header like-and-report\">\n",
       "<div class=\"pull-xs-right actionicon-box\">\n",
       "<a class=\"vote pull-xs-right check-state-auth item\" data-id=\"275055435\" herf=\"#\">\n",
       "<i aria-hidden=\"true\" class=\"iconheart-fill pull-xs-right\"></i>\n",
       "</a>\n",
       "<a class=\"scrolling pull-xs-right check-state-profile item\" data-id=\"275055435\" data-toggle=\"tooltip\" href=\"#reply\" title=\"پاسخ به پست\">\n",
       "<i aria-hidden=\"true\" class=\"iconreply pull-xs-right\"></i>\n",
       "</a>\n",
       "<a class=\"favorite pull-xs-right check-state-auth item bookmark\" data-id=\"275055435\" data-toggle=\"tooltip\" href=\"#\" style=\"position: relative\" title=\"ذخیره\">\n",
       "<i aria-hidden=\"true\" class=\"fa fa-bookmark\"></i>\n",
       "</a>\n",
       "<div class=\"dropup pull-xs-right\">\n",
       "<button aria-expanded=\"false\" aria-haspopup=\"true\" class=\"btn dropdown-toggle\" data-toggle=\"dropdown\" id=\"dropdownMenuButton\" type=\"button\">\n",
       "<i aria-hidden=\"true\" class=\"fa fa-ellipsis-v\"></i>\n",
       "</button>\n",
       "<div aria-labelledby=\"dropdownMenuButton\" class=\"dropdown-menu\">\n",
       "<a class=\"report pull-xs-right item check-state-profile\" data-id=\"275055435\" herf=\"#\">\n",
       "<i aria-hidden=\"true\" class=\"iconerror-02 pull-xs-right\"></i> <span>گزارش پست نامناسب</span>\n",
       "</a>\n",
       "</div>\n",
       "</div>\n",
       "</div>\n",
       "<div class=\"pull-xs-left sharetopic-discussion\">\n",
       "<div class=\"share-topic-box pull-xs-left\">\n",
       "<div class=\"pull-xs-left close-open-share\">\n",
       "<span class=\"share-open\">\n",
       "<i aria-hidden=\"true\" class=\"fa fa-share-alt\"></i>\n",
       "</span>\n",
       "<span class=\"share-close\">\n",
       "<i aria-hidden=\"true\" class=\"fa fa-close\"></i>\n",
       "</span>\n",
       "</div>\n",
       "<div class=\"share-bar\">\n",
       "<div class=\"share-topic pull-xs-left\" data-link=\"https://www.ninisite.com/discussion/topic/10387743/%d8%b4%d8%a8%d8%a7-%da%a9%d9%87-%d9%85%d8%a7-%d9%85%db%8c%d8%ae%d8%a7%d8%a8%db%8c%d9%85?postId=275055435\">\n",
       "</div>\n",
       "<a class=\"pull-xs-right link copylink\" href=\"https://www.ninisite.com/discussion/topic/10387743/%d8%b4%d8%a8%d8%a7-%da%a9%d9%87-%d9%85%d8%a7-%d9%85%db%8c%d8%ae%d8%a7%d8%a8%db%8c%d9%85?postId=275055435\" rel=\"noopener\" target=\"_blank\">\n",
       "<i aria-hidden=\"true\" class=\"iconlink pull-xs-right\"></i>\n",
       "</a>\n",
       "</div>\n",
       "</div>\n",
       "</div>\n",
       "</div>\n",
       "</div>\n",
       "</div>\n",
       "</article>"
      ]
     },
     "execution_count": 9,
     "metadata": {},
     "output_type": "execute_result"
    }
   ],
   "source": [
    "cmnt_crawler.comment"
   ]
  },
  {
   "cell_type": "code",
   "execution_count": null,
   "id": "138bc83b",
   "metadata": {},
   "outputs": [],
   "source": [
    "# 3:47 started local machine time"
   ]
  }
 ],
 "metadata": {
  "kernelspec": {
   "display_name": "Python 3 (ipykernel)",
   "language": "python",
   "name": "python3"
  },
  "language_info": {
   "codemirror_mode": {
    "name": "ipython",
    "version": 3
   },
   "file_extension": ".py",
   "mimetype": "text/x-python",
   "name": "python",
   "nbconvert_exporter": "python",
   "pygments_lexer": "ipython3",
   "version": "3.10.9"
  }
 },
 "nbformat": 4,
 "nbformat_minor": 5
}

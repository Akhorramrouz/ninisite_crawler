{
 "cells": [
  {
   "cell_type": "code",
   "execution_count": 1,
   "id": "28ca2878",
   "metadata": {},
   "outputs": [
    {
     "name": "stdout",
     "output_type": "stream",
     "text": [
      "1\n",
      "2\n",
      "3\n",
      "4\n",
      "5\n",
      "6\n",
      "7\n",
      "8\n",
      "9\n"
     ]
    }
   ],
   "source": [
    "import NiniCrawler\n",
    "import pandas as pd\n",
    "from tqdm import tqdm\n",
    "\n",
    "problem_solution_forum = NiniCrawler.NiniSiteForumCrawler(141)\n",
    "for starting_page in range(1,8914,10):\n",
    "    print(f\"starting problem_solution_forum_pg_{starting_page}_{starting_page+10}\")\n",
    "    problem_solution_forum.crawl_topics_in_forum(starting_page=1, number_pages=starting_page+10).to_csv(f'problem_solution_forum_pg_{starting_page}_{starting_page+10}.csv', index=False)\n",
    "    print(f\"problem_solution_forum_pg_{starting_page}_{starting_page+10} is done\")\n",
    "    print(\"---------------------------------------------------------\")"
   ]
  },
  {
   "cell_type": "code",
   "execution_count": null,
   "id": "6907f968",
   "metadata": {},
   "outputs": [],
   "source": []
  }
 ],
 "metadata": {
  "kernelspec": {
   "display_name": "Python 3 (ipykernel)",
   "language": "python",
   "name": "python3"
  },
  "language_info": {
   "codemirror_mode": {
    "name": "ipython",
    "version": 3
   },
   "file_extension": ".py",
   "mimetype": "text/x-python",
   "name": "python",
   "nbconvert_exporter": "python",
   "pygments_lexer": "ipython3",
   "version": "3.10.9"
  }
 },
 "nbformat": 4,
 "nbformat_minor": 5
}

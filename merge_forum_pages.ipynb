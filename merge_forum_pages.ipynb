{
 "cells": [
  {
   "cell_type": "code",
   "execution_count": 1,
   "id": "b7ecf85f",
   "metadata": {},
   "outputs": [
    {
     "name": "stderr",
     "output_type": "stream",
     "text": [
      "100%|████████████████████████████████████████████████████████████████████████████████| 239/239 [00:08<00:00, 27.32it/s]\n"
     ]
    },
    {
     "name": "stdout",
     "output_type": "stream",
     "text": [
      "161037\n",
      "160971\n"
     ]
    }
   ],
   "source": [
    "import NiniCrawler\n",
    "import pandas as pd\n",
    "import os\n",
    "from tqdm import tqdm\n",
    "forum_code = 139\n",
    "forum_title = \"spouse\"\n",
    "\n",
    "\n",
    "dfs = []\n",
    "with tqdm(total = len(os.listdir())) as pcbar:\n",
    "    for f_name in os.listdir():\n",
    "        pcbar.update(1)\n",
    "        if f_name.startswith(f'{forum_title}_forum_pg_'):\n",
    "#             print(f_name)\n",
    "            dfs.append(pd.read_csv(f_name))\n",
    "\n",
    "    df = pd.concat(dfs,axis=0)\n",
    "\n",
    "print(len(df))\n",
    "df.drop_duplicates(subset='topic_id',inplace=True)\n",
    "print(len(df))\n",
    "\n",
    "df.reset_index(drop=True,inplace=True)\n",
    "\n",
    "df = df.iloc[:,:-1]\n",
    "\n",
    "df.to_csv(f'ALL_topics_{forum_code}.csv')"
   ]
  },
  {
   "cell_type": "code",
   "execution_count": 3,
   "id": "a25c586d",
   "metadata": {},
   "outputs": [],
   "source": [
    "os.mkdir(f'All_topics_{forum_code}')\n",
    "num_rows = len(df)\n",
    "rows_per_dataframe = num_rows // 10  # Integer division\n",
    "\n",
    "# Step 2: Split the original dataframe into ten smaller dataframes\n",
    "smaller_dataframes = []\n",
    "start_index = 0\n",
    "\n",
    "for i in range(10):\n",
    "    end_index = start_index + rows_per_dataframe\n",
    "    \n",
    "    # For the last dataframe, include any remaining rows\n",
    "    if i == 9:\n",
    "        end_index = num_rows\n",
    "    \n",
    "    smaller_df = df.iloc[start_index:end_index]\n",
    "    smaller_df.to_csv(f'All_topics_{forum_code}/{forum_title}_topics_p_{i+1}')\n",
    "    smaller_dataframes.append(smaller_df)\n",
    "    \n",
    "    start_index = end_index\n",
    "\n",
    "# smaller_dataframes now contains ten smaller dataframes"
   ]
  },
  {
   "cell_type": "code",
   "execution_count": null,
   "id": "5711f909",
   "metadata": {},
   "outputs": [],
   "source": []
  }
 ],
 "metadata": {
  "kernelspec": {
   "display_name": "Python 3 (ipykernel)",
   "language": "python",
   "name": "python3"
  },
  "language_info": {
   "codemirror_mode": {
    "name": "ipython",
    "version": 3
   },
   "file_extension": ".py",
   "mimetype": "text/x-python",
   "name": "python",
   "nbconvert_exporter": "python",
   "pygments_lexer": "ipython3",
   "version": "3.10.9"
  }
 },
 "nbformat": 4,
 "nbformat_minor": 5
}
